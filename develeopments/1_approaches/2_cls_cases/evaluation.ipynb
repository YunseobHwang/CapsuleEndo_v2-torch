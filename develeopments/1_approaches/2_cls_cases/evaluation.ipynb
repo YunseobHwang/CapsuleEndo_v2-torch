{
 "cells": [
  {
   "cell_type": "code",
   "execution_count": 1,
   "metadata": {
    "ExecuteTime": {
     "end_time": "2020-10-27T04:54:50.064722Z",
     "start_time": "2020-10-27T04:54:48.891775Z"
    }
   },
   "outputs": [],
   "source": [
    "import numpy as np\n",
    "import pandas as pd\n",
    "\n",
    "import sys\n",
    "sys.path.append('/mnt/disk1/yunseob/Pytorch/1_CapsuleEndo/algorithms')\n",
    "# from ce_utils.data import load_image_from_path, gen_label\n",
    "from ce_utils.data import cv_test_data_load\n",
    "from ce_model.cnn_inf import cnn_model\n",
    "from ce_utils.cls_eval import cls_metric"
   ]
  },
  {
   "cell_type": "code",
   "execution_count": 5,
   "metadata": {
    "ExecuteTime": {
     "end_time": "2020-10-27T05:09:21.173647Z",
     "start_time": "2020-10-27T05:05:59.003282Z"
    }
   },
   "outputs": [
    {
     "name": "stdout",
     "output_type": "stream",
     "text": [
      "np-h_p32_neg\n",
      "\n",
      "01_fold\n",
      "class 0 : 1561\n",
      "class 1 : 250\n",
      "\n",
      "model:\n",
      "01_np-h_p32_neg_0.0001_16_2010221434_238_t_accr_0.9931_t_loss_0.320152_v_accr_0.9807_v_loss_0.333193.pt\n",
      "\n",
      "1811: 91(*20) |################################################## | 100.0% prediction\n",
      "\n",
      "02_fold\n",
      "class 0 : 1561\n",
      "class 1 : 250\n",
      "\n",
      "model:\n",
      "02_np-h_p32_neg_0.0001_16_2010231445_079_t_accr_0.9834_t_loss_0.329786_v_accr_0.9869_v_loss_0.326430.pt\n",
      "\n",
      "1811: 91(*20) |################################################## | 100.0% prediction\n",
      "\n",
      "03_fold\n",
      "class 0 : 1561\n",
      "class 1 : 250\n",
      "\n",
      "model:\n",
      "03_np-h_p32_neg_0.0001_16_2010261746_265_t_accr_0.9954_t_loss_0.317856_v_accr_0.9772_v_loss_0.336290.pt\n",
      "\n",
      "1811: 91(*20) |################################################## | 100.0% prediction\n",
      "\n",
      "04_fold\n",
      "class 0 : 1561\n",
      "class 1 : 250\n",
      "\n",
      "model:\n",
      "04_np-h_p32_neg_0.0001_16_2010241649_386_t_accr_0.9968_t_loss_0.316457_v_accr_0.9834_v_loss_0.329850.pt\n",
      "\n",
      "1811: 91(*20) |################################################## | 100.0% prediction\n",
      "\n",
      "05_fold\n",
      "class 0 : 1560\n",
      "class 1 : 250\n",
      "\n",
      "model:\n",
      "05_np-h_p32_neg_0.0001_16_2010250324_251_t_accr_0.9731_t_loss_0.339183_v_accr_0.9827_v_loss_0.330620.pt\n",
      "\n",
      "1810: 91(*20) |################################################## | 100.0% prediction\n",
      "\n",
      "np-d_p32_neg\n",
      "\n",
      "01_fold\n",
      "class 0 : 1561\n",
      "class 1 : 383\n",
      "\n",
      "model:\n",
      "01_np-d_p32_neg_0.0001_16_2010221821_356_t_accr_0.9953_t_loss_0.317996_v_accr_0.9666_v_loss_0.348322.pt\n",
      "\n",
      "1944: 98(*20) |################################################## | 100.0% prediction\n",
      "\n",
      "02_fold\n",
      "class 0 : 1561\n",
      "class 1 : 383\n",
      "\n",
      "model:\n",
      "02_np-d_p32_neg_0.0001_16_2010261228_086_t_accr_0.9791_t_loss_0.333584_v_accr_0.9640_v_loss_0.349297.pt\n",
      "\n",
      "1944: 98(*20) |################################################## | 100.0% prediction\n",
      "\n",
      "03_fold\n",
      "class 0 : 1561\n",
      "class 1 : 383\n",
      "\n",
      "model:\n",
      "03_np-d_p32_neg_0.0001_16_2010240458_476_t_accr_0.9973_t_loss_0.315908_v_accr_0.9556_v_loss_0.357795.pt\n",
      "\n",
      "1944: 98(*20) |################################################## | 100.0% prediction\n",
      "\n",
      "04_fold\n",
      "class 0 : 1561\n",
      "class 1 : 382\n",
      "\n",
      "model:\n",
      "04_np-d_p32_neg_0.0001_16_2010241513_330_t_accr_0.9943_t_loss_0.318901_v_accr_0.9608_v_loss_0.351916.pt\n",
      "\n",
      "1943: 98(*20) |################################################## | 100.0% prediction\n",
      "\n",
      "05_fold\n",
      "class 0 : 1560\n",
      "class 1 : 382\n",
      "\n",
      "model:\n",
      "05_np-d_p32_neg_0.0001_16_2010251028_498_t_accr_0.9952_t_loss_0.318162_v_accr_0.9640_v_loss_0.349752.pt\n",
      "\n",
      "1942: 98(*20) |################################################## | 100.0% prediction\n",
      "\n",
      "nhd_p32_neg\n",
      "\n",
      "01_fold\n",
      "class 0 : 1561\n",
      "class 1 : 244\n",
      "class 2 : 376\n",
      "\n",
      "model:\n",
      "01_nhd_p32_neg_0.0001_12_2010231238_492_t_accr_0.9834_t_loss_0.567967_v_accr_0.9169_v_loss_0.634502.pt\n",
      "\n",
      "2181: 110(*20) |################################################## | 100.0% prediction\n",
      "\n",
      "02_fold\n",
      "class 0 : 1561\n",
      "class 1 : 243\n",
      "class 2 : 376\n",
      "\n",
      "model:\n",
      "02_nhd_p32_neg_0.0001_12_2010261019_009_t_accr_0.8549_t_loss_0.694991_v_accr_0.8722_v_loss_0.677617.pt\n",
      "\n",
      "2180: 109(*20) |################################################## | 100.0% prediction\n",
      "\n",
      "03_fold\n",
      "class 0 : 1561\n",
      "class 1 : 243\n",
      "class 2 : 376\n",
      "\n",
      "model:\n",
      "03_nhd_p32_neg_0.0001_12_2010240013_343_t_accr_0.9690_t_loss_0.582485_v_accr_0.8756_v_loss_0.677113.pt\n",
      "\n",
      "2180: 109(*20) |################################################## | 100.0% prediction\n",
      "\n",
      "04_fold\n",
      "class 0 : 1561\n",
      "class 1 : 243\n",
      "class 2 : 376\n",
      "\n",
      "model:\n",
      "04_nhd_p32_neg_0.0001_12_2010241108_260_t_accr_0.9300_t_loss_0.621215_v_accr_0.8716_v_loss_0.677721.pt\n",
      "\n",
      "2180: 109(*20) |################################################## | 100.0% prediction\n",
      "\n",
      "05_fold\n",
      "class 0 : 1560\n",
      "class 1 : 243\n",
      "class 2 : 375\n",
      "\n",
      "model:\n",
      "05_nhd_p32_neg_0.0001_12_2010242050_151_t_accr_0.9260_t_loss_0.625052_v_accr_0.8831_v_loss_0.666845.pt\n",
      "\n",
      "2178: 109(*20) |################################################## | 100.0% prediction\n",
      "\n",
      "nh3d3_p32_neg\n",
      "\n",
      "01_fold\n",
      "class 0 : 1561\n",
      "class 1 : 134\n",
      "class 2 : 5\n",
      "class 3 : 105\n",
      "class 4 : 177\n",
      "class 5 : 171\n",
      "class 6 : 19\n",
      "\n",
      "model:\n",
      "01_nh3d3_p32_neg_5e-05_6_2010231340_442_t_accr_0.9222_t_loss_1.243018_v_accr_0.7977_v_loss_1.367744.pt\n",
      "\n",
      "2172: 109(*20) |################################################## | 100.0% prediction\n",
      "\n",
      "02_fold\n",
      "class 0 : 1561\n",
      "class 1 : 134\n",
      "class 2 : 5\n",
      "class 3 : 104\n",
      "class 4 : 176\n",
      "class 5 : 171\n",
      "class 6 : 19\n",
      "\n",
      "model:\n",
      "02_nh3d3_p32_neg_0.0001_6_2010261007_001_t_accr_0.3099_t_loss_1.828015_v_accr_0.1343_v_loss_1.998638.pt\n",
      "02_nh3d3_p32_neg_0.0001_6_2010261011_002_t_accr_0.4730_t_loss_1.683556_v_accr_0.4202_v_loss_1.736110.pt\n",
      "02_nh3d3_p32_neg_0.0001_6_2010261014_003_t_accr_0.5322_t_loss_1.625685_v_accr_0.4282_v_loss_1.731544.pt\n",
      "02_nh3d3_p32_neg_0.0001_6_2010261021_005_t_accr_0.6160_t_loss_1.544566_v_accr_0.4438_v_loss_1.718279.pt\n",
      "02_nh3d3_p32_neg_0.0001_6_2010261025_006_t_accr_0.6493_t_loss_1.512584_v_accr_0.4524_v_loss_1.706435.pt\n",
      "02_nh3d3_p32_neg_0.0001_6_2010261028_007_t_accr_0.6803_t_loss_1.482111_v_accr_0.5124_v_loss_1.651201.pt\n",
      "02_nh3d3_p32_neg_0.0001_6_2010261046_012_t_accr_0.7638_t_loss_1.400633_v_accr_0.5597_v_loss_1.603117.pt\n",
      "02_nh3d3_p32_neg_0.0001_6_2010261053_014_t_accr_0.7896_t_loss_1.375114_v_accr_0.5695_v_loss_1.597971.pt\n",
      "02_nh3d3_p32_neg_0.0001_6_2010261107_018_t_accr_0.8051_t_loss_1.359051_v_accr_0.5793_v_loss_1.583428.pt\n",
      "02_nh3d3_p32_neg_0.0001_6_2010261114_020_t_accr_0.8112_t_loss_1.353153_v_accr_0.5804_v_loss_1.584219.pt\n",
      "02_nh3d3_p32_neg_0.0001_6_2010261121_022_t_accr_0.8300_t_loss_1.334585_v_accr_0.5971_v_loss_1.567808.pt\n",
      "02_nh3d3_p32_neg_0.0001_6_2010261138_027_t_accr_0.8385_t_loss_1.326216_v_accr_0.6104_v_loss_1.552854.pt\n",
      "02_nh3d3_p32_neg_0.0001_6_2010261142_028_t_accr_0.8292_t_loss_1.335372_v_accr_0.6213_v_loss_1.541738.pt\n",
      "02_nh3d3_p32_neg_0.0001_6_2010261227_041_t_accr_0.8639_t_loss_1.300403_v_accr_0.6357_v_loss_1.531740.pt\n",
      "02_nh3d3_p32_neg_0.0001_6_2010261306_052_t_accr_0.8834_t_loss_1.281539_v_accr_0.6634_v_loss_1.500708.pt\n",
      "02_nh3d3_p32_neg_0.0001_6_2010261517_089_t_accr_0.8475_t_loss_1.317619_v_accr_0.6726_v_loss_1.494367.pt\n",
      "The last model is selected\n",
      "\n",
      "2170: 109(*20) |################################################## | 100.0% prediction\n",
      "\n",
      "03_fold\n",
      "class 0 : 1561\n",
      "class 1 : 134\n",
      "class 2 : 5\n",
      "class 3 : 104\n",
      "class 4 : 176\n",
      "class 5 : 171\n",
      "class 6 : 19\n",
      "\n",
      "model:\n",
      "The last model is selected\n",
      "\n"
     ]
    },
    {
     "ename": "IndexError",
     "evalue": "list index out of range",
     "output_type": "error",
     "traceback": [
      "\u001b[0;31m---------------------------------------------------------------------------\u001b[0m",
      "\u001b[0;31mIndexError\u001b[0m                                Traceback (most recent call last)",
      "\u001b[0;32m<ipython-input-5-b402b5563c58>\u001b[0m in \u001b[0;36m<module>\u001b[0;34m\u001b[0m\n\u001b[1;32m     21\u001b[0m         model = cnn_model(network = 'CNN_v1', n_ch = 3, n_cls = n_cls, \n\u001b[1;32m     22\u001b[0m                   \u001b[0mmodel_dir\u001b[0m \u001b[0;34m=\u001b[0m \u001b[0mmodel_dir\u001b[0m\u001b[0;34m,\u001b[0m \u001b[0mmodel_name\u001b[0m \u001b[0;34m=\u001b[0m \u001b[0;34m'{:02d}_{}'\u001b[0m\u001b[0;34m.\u001b[0m\u001b[0mformat\u001b[0m\u001b[0;34m(\u001b[0m\u001b[0mi\u001b[0m\u001b[0;34m,\u001b[0m \u001b[0mmodel_name\u001b[0m\u001b[0;34m)\u001b[0m\u001b[0;34m,\u001b[0m\u001b[0;34m\u001b[0m\u001b[0m\n\u001b[0;32m---> 23\u001b[0;31m                   gpu_idx = gpu_idx)\n\u001b[0m\u001b[1;32m     24\u001b[0m \u001b[0;34m\u001b[0m\u001b[0m\n\u001b[1;32m     25\u001b[0m         \u001b[0mmodel\u001b[0m\u001b[0;34m.\u001b[0m\u001b[0minference\u001b[0m\u001b[0;34m(\u001b[0m\u001b[0mnp_test_X\u001b[0m\u001b[0;34m,\u001b[0m \u001b[0mbatch_size\u001b[0m \u001b[0;34m=\u001b[0m \u001b[0;36m20\u001b[0m\u001b[0;34m)\u001b[0m\u001b[0;34m\u001b[0m\u001b[0m\n",
      "\u001b[0;32m/mnt/disk1/yunseob/Pytorch/1_CapsuleEndo/algorithms/ce_model/cnn_inf.py\u001b[0m in \u001b[0;36m__init__\u001b[0;34m(self, network, n_ch, n_cls, model_dir, model_name, gpu_idx)\u001b[0m\n\u001b[1;32m     64\u001b[0m         \u001b[0;32melse\u001b[0m\u001b[0;34m:\u001b[0m\u001b[0;34m\u001b[0m\u001b[0m\n\u001b[1;32m     65\u001b[0m             \u001b[0mprint\u001b[0m\u001b[0;34m(\u001b[0m\u001b[0;34m'The last model is selected\\n'\u001b[0m\u001b[0;34m)\u001b[0m\u001b[0;34m\u001b[0m\u001b[0m\n\u001b[0;32m---> 66\u001b[0;31m             \u001b[0mself\u001b[0m\u001b[0;34m.\u001b[0m\u001b[0mimport_model\u001b[0m\u001b[0;34m(\u001b[0m\u001b[0mself\u001b[0m\u001b[0;34m.\u001b[0m\u001b[0mn_ch\u001b[0m\u001b[0;34m,\u001b[0m \u001b[0mself\u001b[0m\u001b[0;34m.\u001b[0m\u001b[0mn_cls\u001b[0m\u001b[0;34m,\u001b[0m \u001b[0mself\u001b[0m\u001b[0;34m.\u001b[0m\u001b[0mmodel_dir\u001b[0m\u001b[0;34m,\u001b[0m \u001b[0mself\u001b[0m\u001b[0;34m.\u001b[0m\u001b[0mmodel_list\u001b[0m\u001b[0;34m[\u001b[0m\u001b[0;34m-\u001b[0m\u001b[0;36m1\u001b[0m\u001b[0;34m]\u001b[0m\u001b[0;34m)\u001b[0m\u001b[0;34m\u001b[0m\u001b[0m\n\u001b[0m\u001b[1;32m     67\u001b[0m \u001b[0;34m\u001b[0m\u001b[0m\n\u001b[1;32m     68\u001b[0m     \u001b[0;32mdef\u001b[0m \u001b[0mget_device\u001b[0m\u001b[0;34m(\u001b[0m\u001b[0mself\u001b[0m\u001b[0;34m,\u001b[0m \u001b[0mgpu_idx\u001b[0m \u001b[0;34m=\u001b[0m \u001b[0;36m3\u001b[0m\u001b[0;34m)\u001b[0m\u001b[0;34m:\u001b[0m\u001b[0;34m\u001b[0m\u001b[0m\n",
      "\u001b[0;31mIndexError\u001b[0m: list index out of range"
     ]
    }
   ],
   "source": [
    "data_list = ['data_config_p3_2_negative_np-h_---_--_5f_cv.pkl', 'data_config_p3_2_negative_np-d_---_--_5f_cv.pkl', \n",
    "             'data_config_p3_2_negative_nhd_---_--_5f_cv.pkl', 'data_config_p3_2_negative_nh3d3_---_--_5f_cv.pkl']\n",
    "\n",
    "classes = [2, 2, 3, 7]\n",
    "model_dirs =  ['nh/model/', 'nd/model/', 'nhd/model/', 'nh3d3/model/']\n",
    "model_list = ['np-h_p32_neg', 'np-d_p32_neg', 'nhd_p32_neg', 'nh3d3_p32_neg']\n",
    "\n",
    "gpu_idx = 3\n",
    "\n",
    "model_test = {}\n",
    "\n",
    "df = pd.DataFrame(columns = ['model', 'ACC', 'SEN', 'SPE', 'NPV', 'PPV'])\n",
    "\n",
    "for m, (data_file, n_cls, model_dir, model_name) in enumerate(zip(data_list,classes, model_dirs, model_list)):\n",
    "    print(model_name)\n",
    "    model_test[model_name] = []\n",
    "    for i in range(1, 6):\n",
    "        print('\\n{:02d}_fold'.format(i))\n",
    "        np_test_name, np_test_X, np_test_Y = cv_test_data_load(filename = data_file, n_fold=i)\n",
    "        print()\n",
    "        model = cnn_model(network = 'CNN_v1', n_ch = 3, n_cls = n_cls, \n",
    "                  model_dir = model_dir, model_name = '{:02d}_{}'.format(i, model_name), \n",
    "                  gpu_idx = gpu_idx)\n",
    "        \n",
    "        model.inference(np_test_X, batch_size = 20)\n",
    "        model_test[model_name].append(cls_metric(np_test_Y, model.score).cm2metric())\n",
    "    print('')\n",
    "    \n",
    "    df.loc[m] = [model_name] + list(np.mean(model_test[model_name], axis = 0))\n",
    "#     if i != 0:\n",
    "#         break\n",
    "df.to_csv('model_performance.csv',encoding='utf-8-sig', index = False)"
   ]
  },
  {
   "cell_type": "code",
   "execution_count": 7,
   "metadata": {
    "ExecuteTime": {
     "end_time": "2020-10-27T05:11:33.531536Z",
     "start_time": "2020-10-27T05:11:33.516396Z"
    }
   },
   "outputs": [
    {
     "data": {
      "text/plain": [
       "{'nh3d3_p32_neg': [[79.1, 46.15, 91.99, 89.19, 50.18],\n",
       "  [69.68, 32.35, 84.24, 84.57, 32.03]],\n",
       " 'nhd_p32_neg': [[91.2, 74.03, 98.01, 95.68, 78.87],\n",
       "  [87.52, 64.94, 96.48, 92.34, 73.22],\n",
       "  [86.97, 68.5, 94.3, 94.18, 68.72],\n",
       "  [87.66, 64.46, 96.86, 92.03, 74.3],\n",
       "  [87.24, 63.43, 96.67, 92.57, 71.4]],\n",
       " 'np-d_p32_neg': [[96.45, 88.51, 98.4, 97.22, 93.13],\n",
       "  [95.22, 87.47, 97.12, 96.93, 88.16],\n",
       "  [94.65, 85.9, 96.8, 96.55, 86.81],\n",
       "  [94.65, 80.89, 98.01, 95.45, 90.88],\n",
       "  [95.83, 85.08, 98.46, 96.42, 93.12]],\n",
       " 'np-h_p32_neg': [[98.23, 89.2, 99.68, 98.29, 97.81],\n",
       "  [97.29, 92.0, 98.14, 98.71, 88.8],\n",
       "  [97.63, 87.6, 99.23, 98.04, 94.81],\n",
       "  [97.24, 87.6, 98.78, 98.03, 92.02],\n",
       "  [97.57, 88.8, 98.97, 98.22, 93.28]]}"
      ]
     },
     "execution_count": 7,
     "metadata": {},
     "output_type": "execute_result"
    }
   ],
   "source": [
    "model_test"
   ]
  },
  {
   "cell_type": "code",
   "execution_count": 6,
   "metadata": {
    "ExecuteTime": {
     "end_time": "2020-10-27T05:11:19.990094Z",
     "start_time": "2020-10-27T05:11:19.966703Z"
    }
   },
   "outputs": [
    {
     "data": {
      "text/html": [
       "<div>\n",
       "<style scoped>\n",
       "    .dataframe tbody tr th:only-of-type {\n",
       "        vertical-align: middle;\n",
       "    }\n",
       "\n",
       "    .dataframe tbody tr th {\n",
       "        vertical-align: top;\n",
       "    }\n",
       "\n",
       "    .dataframe thead th {\n",
       "        text-align: right;\n",
       "    }\n",
       "</style>\n",
       "<table border=\"1\" class=\"dataframe\">\n",
       "  <thead>\n",
       "    <tr style=\"text-align: right;\">\n",
       "      <th></th>\n",
       "      <th>model</th>\n",
       "      <th>ACC</th>\n",
       "      <th>SEN</th>\n",
       "      <th>SPE</th>\n",
       "      <th>NPV</th>\n",
       "      <th>PPV</th>\n",
       "    </tr>\n",
       "  </thead>\n",
       "  <tbody>\n",
       "    <tr>\n",
       "      <th>0</th>\n",
       "      <td>np-h_p32_neg</td>\n",
       "      <td>97.592</td>\n",
       "      <td>89.040</td>\n",
       "      <td>98.960</td>\n",
       "      <td>98.258</td>\n",
       "      <td>93.344</td>\n",
       "    </tr>\n",
       "    <tr>\n",
       "      <th>1</th>\n",
       "      <td>np-d_p32_neg</td>\n",
       "      <td>95.360</td>\n",
       "      <td>85.570</td>\n",
       "      <td>97.758</td>\n",
       "      <td>96.514</td>\n",
       "      <td>90.420</td>\n",
       "    </tr>\n",
       "    <tr>\n",
       "      <th>2</th>\n",
       "      <td>nhd_p32_neg</td>\n",
       "      <td>88.118</td>\n",
       "      <td>67.072</td>\n",
       "      <td>96.464</td>\n",
       "      <td>93.360</td>\n",
       "      <td>73.302</td>\n",
       "    </tr>\n",
       "  </tbody>\n",
       "</table>\n",
       "</div>"
      ],
      "text/plain": [
       "          model     ACC     SEN     SPE     NPV     PPV\n",
       "0  np-h_p32_neg  97.592  89.040  98.960  98.258  93.344\n",
       "1  np-d_p32_neg  95.360  85.570  97.758  96.514  90.420\n",
       "2   nhd_p32_neg  88.118  67.072  96.464  93.360  73.302"
      ]
     },
     "execution_count": 6,
     "metadata": {},
     "output_type": "execute_result"
    }
   ],
   "source": [
    "df"
   ]
  },
  {
   "cell_type": "code",
   "execution_count": 4,
   "metadata": {
    "ExecuteTime": {
     "end_time": "2020-10-26T05:25:35.040221Z",
     "start_time": "2020-10-26T05:23:45.357833Z"
    }
   },
   "outputs": [
    {
     "name": "stdout",
     "output_type": "stream",
     "text": [
      "nhd_p32_neg\n",
      "\n",
      "01_fold\n",
      "class 0 : 1561\n",
      "class 1 : 244\n",
      "class 2 : 376\n",
      "\n",
      "model:\n",
      "01_nhd_p32_neg_0.0001_12_2010231238_492_t_accr_0.9834_t_loss_0.567967_v_accr_0.9169_v_loss_0.634502.pt\n",
      "\n",
      "2181: 110(*20) |################################################## | 100.0% prediction\n",
      "\n",
      "02_fold\n",
      "class 0 : 1561\n",
      "class 1 : 243\n",
      "class 2 : 376\n",
      "\n",
      "model:\n",
      "02_nhd_p32_neg_0.0001_12_2010261007_001_t_accr_0.8381_t_loss_0.710925_v_accr_0.8539_v_loss_0.694032.pt\n",
      "02_nhd_p32_neg_0.0001_12_2010261009_002_t_accr_0.8267_t_loss_0.722066_v_accr_0.8562_v_loss_0.692056.pt\n",
      "02_nhd_p32_neg_0.0001_12_2010261010_003_t_accr_0.8028_t_loss_0.744615_v_accr_0.8630_v_loss_0.685036.pt\n",
      "02_nhd_p32_neg_0.0001_12_2010261019_009_t_accr_0.8549_t_loss_0.694991_v_accr_0.8722_v_loss_0.677617.pt\n",
      "02_nhd_p32_neg_5e-05_12_2010231502_047_t_accr_0.8560_t_loss_0.693227_v_accr_0.8711_v_loss_0.678271.pt\n",
      "The last model is selected\n",
      "\n",
      "2180: 109(*20) |################################################## | 100.0% prediction\n",
      "\n",
      "03_fold\n",
      "class 0 : 1561\n",
      "class 1 : 243\n",
      "class 2 : 376\n",
      "\n",
      "model:\n",
      "03_nhd_p32_neg_0.0001_12_2010240013_343_t_accr_0.9690_t_loss_0.582485_v_accr_0.8756_v_loss_0.677113.pt\n",
      "\n",
      "2180: 109(*20) |################################################## | 100.0% prediction\n",
      "\n",
      "04_fold\n",
      "class 0 : 1561\n",
      "class 1 : 243\n",
      "class 2 : 376\n",
      "\n",
      "model:\n",
      "04_nhd_p32_neg_0.0001_12_2010241108_260_t_accr_0.9300_t_loss_0.621215_v_accr_0.8716_v_loss_0.677721.pt\n",
      "\n",
      "2180: 109(*20) |################################################## | 100.0% prediction\n",
      "\n",
      "05_fold\n",
      "class 0 : 1560\n",
      "class 1 : 243\n",
      "class 2 : 375\n",
      "\n",
      "model:\n",
      "05_nhd_p32_neg_0.0001_12_2010242050_151_t_accr_0.9260_t_loss_0.625052_v_accr_0.8831_v_loss_0.666845.pt\n",
      "\n",
      "2178: 109(*20) |################################################## | 100.0% prediction\n",
      "\n",
      "nh3d3_p32_neg\n",
      "\n",
      "01_fold\n",
      "class 0 : 1561\n",
      "class 1 : 134\n",
      "class 2 : 5\n",
      "class 3 : 105\n",
      "class 4 : 177\n",
      "class 5 : 171\n",
      "class 6 : 19\n",
      "\n",
      "model:\n",
      "01_nh3d3_p32_neg_5e-05_6_2010231340_442_t_accr_0.9222_t_loss_1.243018_v_accr_0.7977_v_loss_1.367744.pt\n",
      "\n",
      "2172: 109(*20) |################################################## | 100.0% prediction\n",
      "\n",
      "02_fold\n",
      "class 0 : 1561\n",
      "class 1 : 134\n",
      "class 2 : 5\n",
      "class 3 : 104\n",
      "class 4 : 176\n",
      "class 5 : 171\n",
      "class 6 : 19\n",
      "\n",
      "model:\n",
      "02_nh3d3_p32_neg_0.0001_6_2010261007_001_t_accr_0.3099_t_loss_1.828015_v_accr_0.1343_v_loss_1.998638.pt\n",
      "02_nh3d3_p32_neg_0.0001_6_2010261011_002_t_accr_0.4730_t_loss_1.683556_v_accr_0.4202_v_loss_1.736110.pt\n",
      "02_nh3d3_p32_neg_0.0001_6_2010261014_003_t_accr_0.5322_t_loss_1.625685_v_accr_0.4282_v_loss_1.731544.pt\n",
      "02_nh3d3_p32_neg_0.0001_6_2010261021_005_t_accr_0.6160_t_loss_1.544566_v_accr_0.4438_v_loss_1.718279.pt\n",
      "02_nh3d3_p32_neg_0.0001_6_2010261025_006_t_accr_0.6493_t_loss_1.512584_v_accr_0.4524_v_loss_1.706435.pt\n",
      "02_nh3d3_p32_neg_0.0001_6_2010261028_007_t_accr_0.6803_t_loss_1.482111_v_accr_0.5124_v_loss_1.651201.pt\n",
      "02_nh3d3_p32_neg_0.0001_6_2010261046_012_t_accr_0.7638_t_loss_1.400633_v_accr_0.5597_v_loss_1.603117.pt\n",
      "02_nh3d3_p32_neg_0.0001_6_2010261053_014_t_accr_0.7896_t_loss_1.375114_v_accr_0.5695_v_loss_1.597971.pt\n",
      "02_nh3d3_p32_neg_0.0001_6_2010261107_018_t_accr_0.8051_t_loss_1.359051_v_accr_0.5793_v_loss_1.583428.pt\n",
      "02_nh3d3_p32_neg_0.0001_6_2010261114_020_t_accr_0.8112_t_loss_1.353153_v_accr_0.5804_v_loss_1.584219.pt\n",
      "02_nh3d3_p32_neg_0.0001_6_2010261121_022_t_accr_0.8300_t_loss_1.334585_v_accr_0.5971_v_loss_1.567808.pt\n",
      "02_nh3d3_p32_neg_0.0001_6_2010261138_027_t_accr_0.8385_t_loss_1.326216_v_accr_0.6104_v_loss_1.552854.pt\n",
      "02_nh3d3_p32_neg_0.0001_6_2010261142_028_t_accr_0.8292_t_loss_1.335372_v_accr_0.6213_v_loss_1.541738.pt\n",
      "02_nh3d3_p32_neg_0.0001_6_2010261227_041_t_accr_0.8639_t_loss_1.300403_v_accr_0.6357_v_loss_1.531740.pt\n",
      "02_nh3d3_p32_neg_0.0001_6_2010261306_052_t_accr_0.8834_t_loss_1.281539_v_accr_0.6634_v_loss_1.500708.pt\n",
      "The last model is selected\n",
      "\n",
      "2170: 109(*20) |################################################## | 100.0% prediction\n"
     ]
    },
    {
     "ename": "AssertionError",
     "evalue": "Totally misclassified class exists",
     "output_type": "error",
     "traceback": [
      "\u001b[0;31m---------------------------------------------------------------------------\u001b[0m",
      "\u001b[0;31mAssertionError\u001b[0m                            Traceback (most recent call last)",
      "\u001b[0;32m<ipython-input-4-85b86adb4d1e>\u001b[0m in \u001b[0;36m<module>\u001b[0;34m\u001b[0m\n\u001b[1;32m     17\u001b[0m \u001b[0;34m\u001b[0m\u001b[0m\n\u001b[1;32m     18\u001b[0m         \u001b[0mmodel\u001b[0m\u001b[0;34m.\u001b[0m\u001b[0minference\u001b[0m\u001b[0;34m(\u001b[0m\u001b[0mnp_test_X\u001b[0m\u001b[0;34m,\u001b[0m \u001b[0mbatch_size\u001b[0m \u001b[0;34m=\u001b[0m \u001b[0;36m20\u001b[0m\u001b[0;34m)\u001b[0m\u001b[0;34m\u001b[0m\u001b[0m\n\u001b[0;32m---> 19\u001b[0;31m         \u001b[0mmodel_test\u001b[0m\u001b[0;34m[\u001b[0m\u001b[0mmodel_name\u001b[0m\u001b[0;34m]\u001b[0m\u001b[0;34m.\u001b[0m\u001b[0mappend\u001b[0m\u001b[0;34m(\u001b[0m\u001b[0mcls_metric\u001b[0m\u001b[0;34m(\u001b[0m\u001b[0mnp_test_Y\u001b[0m\u001b[0;34m,\u001b[0m \u001b[0mmodel\u001b[0m\u001b[0;34m.\u001b[0m\u001b[0mscore\u001b[0m\u001b[0;34m)\u001b[0m\u001b[0;34m.\u001b[0m\u001b[0mcm2metric\u001b[0m\u001b[0;34m(\u001b[0m\u001b[0;34m)\u001b[0m\u001b[0;34m)\u001b[0m\u001b[0;34m\u001b[0m\u001b[0m\n\u001b[0m\u001b[1;32m     20\u001b[0m     \u001b[0mprint\u001b[0m\u001b[0;34m(\u001b[0m\u001b[0;34m''\u001b[0m\u001b[0;34m)\u001b[0m\u001b[0;34m\u001b[0m\u001b[0m\n\u001b[1;32m     21\u001b[0m \u001b[0;34m\u001b[0m\u001b[0m\n",
      "\u001b[0;32m/mnt/disk1/yunseob/Pytorch/1_CapsuleEndo/algorithms/ce_utils/cls_eval.py\u001b[0m in \u001b[0;36mcm2metric\u001b[0;34m(self)\u001b[0m\n\u001b[1;32m     35\u001b[0m     \u001b[0;32mdef\u001b[0m \u001b[0mcm2metric\u001b[0m\u001b[0;34m(\u001b[0m\u001b[0mself\u001b[0m\u001b[0;34m)\u001b[0m\u001b[0;34m:\u001b[0m\u001b[0;34m\u001b[0m\u001b[0m\n\u001b[1;32m     36\u001b[0m \u001b[0;34m\u001b[0m\u001b[0m\n\u001b[0;32m---> 37\u001b[0;31m         \u001b[0;32massert\u001b[0m \u001b[0;36m0\u001b[0m \u001b[0;32mnot\u001b[0m \u001b[0;32min\u001b[0m \u001b[0mnp\u001b[0m\u001b[0;34m.\u001b[0m\u001b[0msum\u001b[0m\u001b[0;34m(\u001b[0m\u001b[0mself\u001b[0m\u001b[0;34m.\u001b[0m\u001b[0mcm\u001b[0m\u001b[0;34m,\u001b[0m \u001b[0maxis\u001b[0m \u001b[0;34m=\u001b[0m \u001b[0;36m0\u001b[0m\u001b[0;34m)\u001b[0m\u001b[0;34m,\u001b[0m \u001b[0;34m'Totally misclassified class exists'\u001b[0m\u001b[0;34m\u001b[0m\u001b[0m\n\u001b[0m\u001b[1;32m     38\u001b[0m \u001b[0;34m\u001b[0m\u001b[0m\n\u001b[1;32m     39\u001b[0m         \u001b[0macc\u001b[0m \u001b[0;34m=\u001b[0m \u001b[0mround\u001b[0m\u001b[0;34m(\u001b[0m\u001b[0;36m100\u001b[0m\u001b[0;34m*\u001b[0m\u001b[0mnp\u001b[0m\u001b[0;34m.\u001b[0m\u001b[0mtrace\u001b[0m\u001b[0;34m(\u001b[0m\u001b[0mself\u001b[0m\u001b[0;34m.\u001b[0m\u001b[0mcm\u001b[0m\u001b[0;34m)\u001b[0m \u001b[0;34m/\u001b[0m \u001b[0mnp\u001b[0m\u001b[0;34m.\u001b[0m\u001b[0msum\u001b[0m\u001b[0;34m(\u001b[0m\u001b[0mself\u001b[0m\u001b[0;34m.\u001b[0m\u001b[0mcm\u001b[0m\u001b[0;34m)\u001b[0m\u001b[0;34m,\u001b[0m \u001b[0;36m2\u001b[0m\u001b[0;34m)\u001b[0m\u001b[0;34m\u001b[0m\u001b[0m\n",
      "\u001b[0;31mAssertionError\u001b[0m: Totally misclassified class exists"
     ]
    }
   ],
   "source": [
    "data_list = ['data_config_p3_2_negative_nhd_---_--_5f_cv.pkl', 'data_config_p3_2_negative_nh3d3_---_--_5f_cv.pkl']\n",
    "\n",
    "classes = [3, 7]\n",
    "model_dirs =  ['nhd/model/', 'nh3d3/model/']\n",
    "model_list = ['nhd_p32_neg', 'nh3d3_p32_neg']\n",
    "\n",
    "for m, (data_file, n_cls, model_dir, model_name) in enumerate(zip(data_list,classes, model_dirs, model_list)):\n",
    "    print(model_name)\n",
    "    model_test[model_name] = []\n",
    "    for i in range(1, 6):\n",
    "        print('\\n{:02d}_fold'.format(i))\n",
    "        np_test_name, np_test_X, np_test_Y = cv_test_data_load(filename = data_file, n_fold=i)\n",
    "        print()\n",
    "        model = cnn_model(network = 'CNN_v1', n_ch = 3, n_cls = n_cls, \n",
    "                  model_dir = model_dir, model_name = '{:02d}_{}'.format(i, model_name), \n",
    "                  gpu_idx = gpu_idx)\n",
    "        \n",
    "        model.inference(np_test_X, batch_size = 20)\n",
    "        model_test[model_name].append(cls_metric(np_test_Y, model.score).cm2metric())\n",
    "    print('')\n",
    "    \n",
    "    df.loc[m+2] = [model_name] + list(np.mean(model_test[model_name], axis = 1))\n",
    "#     if i != 0:\n",
    "#         break"
   ]
  },
  {
   "cell_type": "code",
   "execution_count": 28,
   "metadata": {
    "ExecuteTime": {
     "end_time": "2020-10-26T05:38:35.590578Z",
     "start_time": "2020-10-26T05:38:35.569640Z"
    }
   },
   "outputs": [
    {
     "data": {
      "text/html": [
       "<div>\n",
       "<style scoped>\n",
       "    .dataframe tbody tr th:only-of-type {\n",
       "        vertical-align: middle;\n",
       "    }\n",
       "\n",
       "    .dataframe tbody tr th {\n",
       "        vertical-align: top;\n",
       "    }\n",
       "\n",
       "    .dataframe thead th {\n",
       "        text-align: right;\n",
       "    }\n",
       "</style>\n",
       "<table border=\"1\" class=\"dataframe\">\n",
       "  <thead>\n",
       "    <tr style=\"text-align: right;\">\n",
       "      <th></th>\n",
       "      <th>model</th>\n",
       "      <th>ACC</th>\n",
       "      <th>SEN</th>\n",
       "      <th>SPE</th>\n",
       "      <th>NPV</th>\n",
       "      <th>PPV</th>\n",
       "    </tr>\n",
       "  </thead>\n",
       "  <tbody>\n",
       "    <tr>\n",
       "      <th>0</th>\n",
       "      <td>np-h_p32_neg</td>\n",
       "      <td>96.642</td>\n",
       "      <td>94.988</td>\n",
       "      <td>94.666</td>\n",
       "      <td>94.734</td>\n",
       "      <td>95.368</td>\n",
       "    </tr>\n",
       "    <tr>\n",
       "      <th>1</th>\n",
       "      <td>np-d_p32_neg</td>\n",
       "      <td>94.742</td>\n",
       "      <td>92.980</td>\n",
       "      <td>92.142</td>\n",
       "      <td>91.976</td>\n",
       "      <td>93.782</td>\n",
       "    </tr>\n",
       "    <tr>\n",
       "      <th>2</th>\n",
       "      <td>nhd_p32_neg</td>\n",
       "      <td>87.558</td>\n",
       "      <td>82.702</td>\n",
       "      <td>82.534</td>\n",
       "      <td>83.062</td>\n",
       "      <td>82.262</td>\n",
       "    </tr>\n",
       "  </tbody>\n",
       "</table>\n",
       "</div>"
      ],
      "text/plain": [
       "          model     ACC     SEN     SPE     NPV     PPV\n",
       "0  np-h_p32_neg  96.642  94.988  94.666  94.734  95.368\n",
       "1  np-d_p32_neg  94.742  92.980  92.142  91.976  93.782\n",
       "2   nhd_p32_neg  87.558  82.702  82.534  83.062  82.262"
      ]
     },
     "execution_count": 28,
     "metadata": {},
     "output_type": "execute_result"
    }
   ],
   "source": [
    "df"
   ]
  },
  {
   "cell_type": "code",
   "execution_count": 29,
   "metadata": {
    "ExecuteTime": {
     "end_time": "2020-10-26T05:38:38.992041Z",
     "start_time": "2020-10-26T05:38:38.979393Z"
    }
   },
   "outputs": [],
   "source": [
    "df.to_csv('model_performance.csv',encoding='utf-8-sig', index = False)"
   ]
  },
  {
   "cell_type": "code",
   "execution_count": 30,
   "metadata": {
    "ExecuteTime": {
     "end_time": "2020-10-26T05:39:20.350320Z",
     "start_time": "2020-10-26T05:39:20.324651Z"
    }
   },
   "outputs": [
    {
     "data": {
      "text/html": [
       "<div>\n",
       "<style scoped>\n",
       "    .dataframe tbody tr th:only-of-type {\n",
       "        vertical-align: middle;\n",
       "    }\n",
       "\n",
       "    .dataframe tbody tr th {\n",
       "        vertical-align: top;\n",
       "    }\n",
       "\n",
       "    .dataframe thead th {\n",
       "        text-align: right;\n",
       "    }\n",
       "</style>\n",
       "<table border=\"1\" class=\"dataframe\">\n",
       "  <thead>\n",
       "    <tr style=\"text-align: right;\">\n",
       "      <th></th>\n",
       "      <th>model</th>\n",
       "      <th>ACC</th>\n",
       "      <th>SEN</th>\n",
       "      <th>SPE</th>\n",
       "      <th>NPV</th>\n",
       "      <th>PPV</th>\n",
       "    </tr>\n",
       "  </thead>\n",
       "  <tbody>\n",
       "    <tr>\n",
       "      <th>0</th>\n",
       "      <td>np-h_p32_neg</td>\n",
       "      <td>96.642</td>\n",
       "      <td>94.988</td>\n",
       "      <td>94.666</td>\n",
       "      <td>94.734</td>\n",
       "      <td>95.368</td>\n",
       "    </tr>\n",
       "    <tr>\n",
       "      <th>1</th>\n",
       "      <td>np-d_p32_neg</td>\n",
       "      <td>94.742</td>\n",
       "      <td>92.980</td>\n",
       "      <td>92.142</td>\n",
       "      <td>91.976</td>\n",
       "      <td>93.782</td>\n",
       "    </tr>\n",
       "    <tr>\n",
       "      <th>2</th>\n",
       "      <td>nhd_p32_neg</td>\n",
       "      <td>87.558</td>\n",
       "      <td>82.702</td>\n",
       "      <td>82.534</td>\n",
       "      <td>83.062</td>\n",
       "      <td>82.262</td>\n",
       "    </tr>\n",
       "  </tbody>\n",
       "</table>\n",
       "</div>"
      ],
      "text/plain": [
       "          model     ACC     SEN     SPE     NPV     PPV\n",
       "0  np-h_p32_neg  96.642  94.988  94.666  94.734  95.368\n",
       "1  np-d_p32_neg  94.742  92.980  92.142  91.976  93.782\n",
       "2   nhd_p32_neg  87.558  82.702  82.534  83.062  82.262"
      ]
     },
     "execution_count": 30,
     "metadata": {},
     "output_type": "execute_result"
    }
   ],
   "source": [
    "pd.read_csv('model_performance.csv')"
   ]
  },
  {
   "cell_type": "code",
   "execution_count": 6,
   "metadata": {
    "ExecuteTime": {
     "end_time": "2020-10-26T05:30:13.493226Z",
     "start_time": "2020-10-26T05:30:13.482519Z"
    }
   },
   "outputs": [
    {
     "data": {
      "text/plain": [
       "{'nh3d3_p32_neg': [[79.1, 46.15, 91.99, 89.19, 50.18]],\n",
       " 'nhd_p32_neg': [[91.2, 74.03, 98.01, 95.68, 78.87],\n",
       "  [87.34, 65.43, 96.03, 92.65, 72.06],\n",
       "  [86.97, 68.5, 94.3, 94.18, 68.72],\n",
       "  [87.66, 64.46, 96.86, 92.03, 74.3],\n",
       "  [87.24, 63.43, 96.67, 92.57, 71.4]],\n",
       " 'np-d_p32_neg': [[96.45, 88.51, 98.4, 97.22, 93.13],\n",
       "  [95.22, 87.47, 97.12, 96.93, 88.16],\n",
       "  [94.65, 85.9, 96.8, 96.55, 86.81],\n",
       "  [94.65, 80.89, 98.01, 95.45, 90.88],\n",
       "  [95.83, 85.08, 98.46, 96.42, 93.12]],\n",
       " 'np-h_p32_neg': [[98.23, 89.2, 99.68, 98.29, 97.81],\n",
       "  [97.29, 92.0, 98.14, 98.71, 88.8],\n",
       "  [97.18, 88.8, 98.53, 98.21, 90.61],\n",
       "  [97.24, 87.6, 98.78, 98.03, 92.02],\n",
       "  [97.57, 88.8, 98.97, 98.22, 93.28]]}"
      ]
     },
     "execution_count": 6,
     "metadata": {},
     "output_type": "execute_result"
    }
   ],
   "source": [
    "model_test"
   ]
  },
  {
   "cell_type": "code",
   "execution_count": 20,
   "metadata": {
    "ExecuteTime": {
     "end_time": "2020-10-26T05:34:47.529281Z",
     "start_time": "2020-10-26T05:34:47.519944Z"
    }
   },
   "outputs": [
    {
     "data": {
      "text/plain": [
       "{'nh3d3_p32_neg': [[79.1, 46.15, 91.99, 89.19, 50.18]],\n",
       " 'nhd_p32_neg': [[91.2, 74.03, 98.01, 95.68, 78.87],\n",
       "  [87.34, 65.43, 96.03, 92.65, 72.06],\n",
       "  [86.97, 68.5, 94.3, 94.18, 68.72],\n",
       "  [87.66, 64.46, 96.86, 92.03, 74.3],\n",
       "  [87.24, 63.43, 96.67, 92.57, 71.4]],\n",
       " 'np-d_p32_neg': [[96.45, 88.51, 98.4, 97.22, 93.13],\n",
       "  [95.22, 87.47, 97.12, 96.93, 88.16],\n",
       "  [94.65, 85.9, 96.8, 96.55, 86.81],\n",
       "  [94.65, 80.89, 98.01, 95.45, 90.88],\n",
       "  [95.83, 85.08, 98.46, 96.42, 93.12]],\n",
       " 'np-h_p32_neg': [[98.23, 89.2, 99.68, 98.29, 97.81],\n",
       "  [97.29, 92.0, 98.14, 98.71, 88.8],\n",
       "  [97.18, 88.8, 98.53, 98.21, 90.61],\n",
       "  [97.24, 87.6, 98.78, 98.03, 92.02],\n",
       "  [97.57, 88.8, 98.97, 98.22, 93.28]]}"
      ]
     },
     "execution_count": 20,
     "metadata": {},
     "output_type": "execute_result"
    }
   ],
   "source": [
    "model_test"
   ]
  },
  {
   "cell_type": "code",
   "execution_count": 27,
   "metadata": {
    "ExecuteTime": {
     "end_time": "2020-10-26T05:37:43.519818Z",
     "start_time": "2020-10-26T05:37:43.505789Z"
    }
   },
   "outputs": [
    {
     "data": {
      "text/plain": [
       "{'nh3d3_p32_neg': [[79.1, 46.15, 91.99, 89.19, 50.18]],\n",
       " 'nhd_p32_neg': [[91.2, 74.03, 98.01, 95.68, 78.87],\n",
       "  [87.34, 65.43, 96.03, 92.65, 72.06],\n",
       "  [86.97, 68.5, 94.3, 94.18, 68.72],\n",
       "  [87.66, 64.46, 96.86, 92.03, 74.3],\n",
       "  [87.24, 63.43, 96.67, 92.57, 71.4]],\n",
       " 'np-d_p32_neg': [[96.45, 88.51, 98.4, 97.22, 93.13],\n",
       "  [95.22, 87.47, 97.12, 96.93, 88.16],\n",
       "  [94.65, 85.9, 96.8, 96.55, 86.81],\n",
       "  [94.65, 80.89, 98.01, 95.45, 90.88],\n",
       "  [95.83, 85.08, 98.46, 96.42, 93.12]],\n",
       " 'np-h_p32_neg': [[98.23, 89.2, 99.68, 98.29, 97.81],\n",
       "  [97.29, 92.0, 98.14, 98.71, 88.8],\n",
       "  [97.18, 88.8, 98.53, 98.21, 90.61],\n",
       "  [97.24, 87.6, 98.78, 98.03, 92.02],\n",
       "  [97.57, 88.8, 98.97, 98.22, 93.28]]}"
      ]
     },
     "execution_count": 27,
     "metadata": {},
     "output_type": "execute_result"
    }
   ],
   "source": [
    "import pickle\n",
    "\n",
    "with open(\"model_performance.pkl\", \"wb\") as f:\n",
    "    pickle.dump(model_test, f)\n",
    "    \n",
    "with open(\"model_performance.pkl\", \"rb\") as f:\n",
    "    model_test_load = pickle.load(f)\n",
    "    \n",
    "model_test_load"
   ]
  },
  {
   "cell_type": "markdown",
   "metadata": {},
   "source": [
    "# 2nd"
   ]
  },
  {
   "cell_type": "code",
   "execution_count": 3,
   "metadata": {
    "ExecuteTime": {
     "end_time": "2020-10-26T05:40:40.281877Z",
     "start_time": "2020-10-26T05:40:40.254038Z"
    }
   },
   "outputs": [
    {
     "data": {
      "text/html": [
       "<div>\n",
       "<style scoped>\n",
       "    .dataframe tbody tr th:only-of-type {\n",
       "        vertical-align: middle;\n",
       "    }\n",
       "\n",
       "    .dataframe tbody tr th {\n",
       "        vertical-align: top;\n",
       "    }\n",
       "\n",
       "    .dataframe thead th {\n",
       "        text-align: right;\n",
       "    }\n",
       "</style>\n",
       "<table border=\"1\" class=\"dataframe\">\n",
       "  <thead>\n",
       "    <tr style=\"text-align: right;\">\n",
       "      <th></th>\n",
       "      <th>model</th>\n",
       "      <th>ACC</th>\n",
       "      <th>SEN</th>\n",
       "      <th>SPE</th>\n",
       "      <th>NPV</th>\n",
       "      <th>PPV</th>\n",
       "    </tr>\n",
       "  </thead>\n",
       "  <tbody>\n",
       "    <tr>\n",
       "      <th>0</th>\n",
       "      <td>np-h_p32_neg</td>\n",
       "      <td>96.642</td>\n",
       "      <td>94.988</td>\n",
       "      <td>94.666</td>\n",
       "      <td>94.734</td>\n",
       "      <td>95.368</td>\n",
       "    </tr>\n",
       "    <tr>\n",
       "      <th>1</th>\n",
       "      <td>np-d_p32_neg</td>\n",
       "      <td>94.742</td>\n",
       "      <td>92.980</td>\n",
       "      <td>92.142</td>\n",
       "      <td>91.976</td>\n",
       "      <td>93.782</td>\n",
       "    </tr>\n",
       "    <tr>\n",
       "      <th>2</th>\n",
       "      <td>nhd_p32_neg</td>\n",
       "      <td>87.558</td>\n",
       "      <td>82.702</td>\n",
       "      <td>82.534</td>\n",
       "      <td>83.062</td>\n",
       "      <td>82.262</td>\n",
       "    </tr>\n",
       "  </tbody>\n",
       "</table>\n",
       "</div>"
      ],
      "text/plain": [
       "          model     ACC     SEN     SPE     NPV     PPV\n",
       "0  np-h_p32_neg  96.642  94.988  94.666  94.734  95.368\n",
       "1  np-d_p32_neg  94.742  92.980  92.142  91.976  93.782\n",
       "2   nhd_p32_neg  87.558  82.702  82.534  83.062  82.262"
      ]
     },
     "execution_count": 3,
     "metadata": {},
     "output_type": "execute_result"
    }
   ],
   "source": [
    "df = pd.read_csv('model_performance.csv')\n",
    "df"
   ]
  },
  {
   "cell_type": "code",
   "execution_count": 4,
   "metadata": {
    "ExecuteTime": {
     "end_time": "2020-10-26T05:41:07.138366Z",
     "start_time": "2020-10-26T05:41:07.132273Z"
    }
   },
   "outputs": [
    {
     "data": {
      "text/plain": [
       "{'nh3d3_p32_neg': [[79.1, 46.15, 91.99, 89.19, 50.18]],\n",
       " 'nhd_p32_neg': [[91.2, 74.03, 98.01, 95.68, 78.87],\n",
       "  [87.34, 65.43, 96.03, 92.65, 72.06],\n",
       "  [86.97, 68.5, 94.3, 94.18, 68.72],\n",
       "  [87.66, 64.46, 96.86, 92.03, 74.3],\n",
       "  [87.24, 63.43, 96.67, 92.57, 71.4]],\n",
       " 'np-d_p32_neg': [[96.45, 88.51, 98.4, 97.22, 93.13],\n",
       "  [95.22, 87.47, 97.12, 96.93, 88.16],\n",
       "  [94.65, 85.9, 96.8, 96.55, 86.81],\n",
       "  [94.65, 80.89, 98.01, 95.45, 90.88],\n",
       "  [95.83, 85.08, 98.46, 96.42, 93.12]],\n",
       " 'np-h_p32_neg': [[98.23, 89.2, 99.68, 98.29, 97.81],\n",
       "  [97.29, 92.0, 98.14, 98.71, 88.8],\n",
       "  [97.18, 88.8, 98.53, 98.21, 90.61],\n",
       "  [97.24, 87.6, 98.78, 98.03, 92.02],\n",
       "  [97.57, 88.8, 98.97, 98.22, 93.28]]}"
      ]
     },
     "execution_count": 4,
     "metadata": {},
     "output_type": "execute_result"
    }
   ],
   "source": [
    "import pickle\n",
    "\n",
    "with open(\"model_performance.pkl\", \"rb\") as f:\n",
    "    model_test = pickle.load(f)\n",
    "    \n",
    "model_test"
   ]
  },
  {
   "cell_type": "code",
   "execution_count": 7,
   "metadata": {
    "ExecuteTime": {
     "end_time": "2020-10-26T05:44:57.922056Z",
     "start_time": "2020-10-26T05:44:57.637466Z"
    }
   },
   "outputs": [
    {
     "name": "stdout",
     "output_type": "stream",
     "text": [
      "Mon Oct 26 14:44:57 2020       \n",
      "+-----------------------------------------------------------------------------+\n",
      "| NVIDIA-SMI 430.26       Driver Version: 430.26       CUDA Version: 10.2     |\n",
      "|-------------------------------+----------------------+----------------------+\n",
      "| GPU  Name        Persistence-M| Bus-Id        Disp.A | Volatile Uncorr. ECC |\n",
      "| Fan  Temp  Perf  Pwr:Usage/Cap|         Memory-Usage | GPU-Util  Compute M. |\n",
      "|===============================+======================+======================|\n",
      "|   0  GeForce RTX 208...  On   | 00000000:1D:00.0 Off |                  N/A |\n",
      "| 35%   59C    P2   192W / 250W |  10995MiB / 11019MiB |    100%      Default |\n",
      "+-------------------------------+----------------------+----------------------+\n",
      "|   1  GeForce RTX 208...  On   | 00000000:1E:00.0 Off |                  N/A |\n",
      "| 27%   24C    P8     5W / 250W |     10MiB / 11019MiB |      0%      Default |\n",
      "+-------------------------------+----------------------+----------------------+\n",
      "|   2  GeForce RTX 208...  On   | 00000000:1F:00.0 Off |                  N/A |\n",
      "| 27%   23C    P8    15W / 250W |     10MiB / 11019MiB |      0%      Default |\n",
      "+-------------------------------+----------------------+----------------------+\n",
      "|   3  GeForce RTX 208...  On   | 00000000:20:00.0 Off |                  N/A |\n",
      "| 33%   51C    P2   188W / 250W |   5053MiB / 11019MiB |     79%      Default |\n",
      "+-------------------------------+----------------------+----------------------+\n",
      "|   4  GeForce RTX 208...  On   | 00000000:21:00.0 Off |                  N/A |\n",
      "| 27%   23C    P8    20W / 250W |  10627MiB / 11019MiB |      0%      Default |\n",
      "+-------------------------------+----------------------+----------------------+\n",
      "|   5  GeForce RTX 208...  On   | 00000000:22:00.0 Off |                  N/A |\n",
      "| 27%   24C    P8     6W / 250W |     10MiB / 11019MiB |      0%      Default |\n",
      "+-------------------------------+----------------------+----------------------+\n",
      "|   6  GeForce RTX 208...  On   | 00000000:23:00.0 Off |                  N/A |\n",
      "| 35%   55C    P2   190W / 250W |   6379MiB / 11019MiB |     76%      Default |\n",
      "+-------------------------------+----------------------+----------------------+\n",
      "|   7  GeForce RTX 208...  On   | 00000000:24:00.0 Off |                  N/A |\n",
      "| 34%   55C    P2   209W / 250W |   5581MiB / 11019MiB |     79%      Default |\n",
      "+-------------------------------+----------------------+----------------------+\n",
      "                                                                               \n",
      "+-----------------------------------------------------------------------------+\n",
      "| Processes:                                                       GPU Memory |\n",
      "|  GPU       PID   Type   Process name                             Usage      |\n",
      "|=============================================================================|\n",
      "|    0      2855      C   /usr/bin/python3                             899MiB |\n",
      "|    0     25029      C   python3                                     5043MiB |\n",
      "|    0     25437      C   python3                                     5043MiB |\n",
      "|    3     29270      C   python3                                     5043MiB |\n",
      "|    4     43839      C   /usr/bin/python3                           10615MiB |\n",
      "|    6     25263      C   python3                                     6369MiB |\n",
      "|    7     25352      C   python3                                     5571MiB |\n",
      "+-----------------------------------------------------------------------------+\n"
     ]
    }
   ],
   "source": [
    "!nvidia-smi"
   ]
  },
  {
   "cell_type": "code",
   "execution_count": 8,
   "metadata": {
    "ExecuteTime": {
     "end_time": "2020-10-26T05:45:49.193418Z",
     "start_time": "2020-10-26T05:45:01.111302Z"
    }
   },
   "outputs": [
    {
     "name": "stdout",
     "output_type": "stream",
     "text": [
      "nh3d3_p32_neg\n",
      "\n",
      "01_fold\n",
      "class 0 : 1561\n",
      "class 1 : 134\n",
      "class 2 : 5\n",
      "class 3 : 105\n",
      "class 4 : 177\n",
      "class 5 : 171\n",
      "class 6 : 19\n",
      "\n",
      "model:\n",
      "01_nh3d3_p32_neg_5e-05_6_2010231340_442_t_accr_0.9222_t_loss_1.243018_v_accr_0.7977_v_loss_1.367744.pt\n",
      "\n",
      "2172: 109(*20) |################################################## | 100.0% prediction\n",
      "\n",
      "02_fold\n",
      "class 0 : 1561\n",
      "class 1 : 134\n",
      "class 2 : 5\n",
      "class 3 : 104\n",
      "class 4 : 176\n",
      "class 5 : 171\n",
      "class 6 : 19\n",
      "\n",
      "model:\n",
      "02_nh3d3_p32_neg_0.0001_6_2010261007_001_t_accr_0.3099_t_loss_1.828015_v_accr_0.1343_v_loss_1.998638.pt\n",
      "02_nh3d3_p32_neg_0.0001_6_2010261011_002_t_accr_0.4730_t_loss_1.683556_v_accr_0.4202_v_loss_1.736110.pt\n",
      "02_nh3d3_p32_neg_0.0001_6_2010261014_003_t_accr_0.5322_t_loss_1.625685_v_accr_0.4282_v_loss_1.731544.pt\n",
      "02_nh3d3_p32_neg_0.0001_6_2010261021_005_t_accr_0.6160_t_loss_1.544566_v_accr_0.4438_v_loss_1.718279.pt\n",
      "02_nh3d3_p32_neg_0.0001_6_2010261025_006_t_accr_0.6493_t_loss_1.512584_v_accr_0.4524_v_loss_1.706435.pt\n",
      "02_nh3d3_p32_neg_0.0001_6_2010261028_007_t_accr_0.6803_t_loss_1.482111_v_accr_0.5124_v_loss_1.651201.pt\n",
      "02_nh3d3_p32_neg_0.0001_6_2010261046_012_t_accr_0.7638_t_loss_1.400633_v_accr_0.5597_v_loss_1.603117.pt\n",
      "02_nh3d3_p32_neg_0.0001_6_2010261053_014_t_accr_0.7896_t_loss_1.375114_v_accr_0.5695_v_loss_1.597971.pt\n",
      "02_nh3d3_p32_neg_0.0001_6_2010261107_018_t_accr_0.8051_t_loss_1.359051_v_accr_0.5793_v_loss_1.583428.pt\n",
      "02_nh3d3_p32_neg_0.0001_6_2010261114_020_t_accr_0.8112_t_loss_1.353153_v_accr_0.5804_v_loss_1.584219.pt\n",
      "02_nh3d3_p32_neg_0.0001_6_2010261121_022_t_accr_0.8300_t_loss_1.334585_v_accr_0.5971_v_loss_1.567808.pt\n",
      "02_nh3d3_p32_neg_0.0001_6_2010261138_027_t_accr_0.8385_t_loss_1.326216_v_accr_0.6104_v_loss_1.552854.pt\n",
      "02_nh3d3_p32_neg_0.0001_6_2010261142_028_t_accr_0.8292_t_loss_1.335372_v_accr_0.6213_v_loss_1.541738.pt\n",
      "02_nh3d3_p32_neg_0.0001_6_2010261227_041_t_accr_0.8639_t_loss_1.300403_v_accr_0.6357_v_loss_1.531740.pt\n",
      "02_nh3d3_p32_neg_0.0001_6_2010261306_052_t_accr_0.8834_t_loss_1.281539_v_accr_0.6634_v_loss_1.500708.pt\n",
      "The last model is selected\n",
      "\n",
      "2170: 109(*20) |################################################## | 100.0% prediction\n",
      "Totally misclassified class exists\n",
      "\n",
      "03_fold\n",
      "class 0 : 1561\n",
      "class 1 : 134\n",
      "class 2 : 5\n",
      "class 3 : 104\n",
      "class 4 : 176\n",
      "class 5 : 171\n",
      "class 6 : 19\n",
      "\n",
      "model:\n",
      "The last model is selected\n",
      "\n"
     ]
    },
    {
     "ename": "IndexError",
     "evalue": "list index out of range",
     "output_type": "error",
     "traceback": [
      "\u001b[0;31m---------------------------------------------------------------------------\u001b[0m",
      "\u001b[0;31mIndexError\u001b[0m                                Traceback (most recent call last)",
      "\u001b[0;32m<ipython-input-8-c02a6dd15ef3>\u001b[0m in \u001b[0;36m<module>\u001b[0;34m\u001b[0m\n\u001b[1;32m     16\u001b[0m         model = cnn_model(network = 'CNN_v1', n_ch = 3, n_cls = n_cls, \n\u001b[1;32m     17\u001b[0m                   \u001b[0mmodel_dir\u001b[0m \u001b[0;34m=\u001b[0m \u001b[0mmodel_dir\u001b[0m\u001b[0;34m,\u001b[0m \u001b[0mmodel_name\u001b[0m \u001b[0;34m=\u001b[0m \u001b[0;34m'{:02d}_{}'\u001b[0m\u001b[0;34m.\u001b[0m\u001b[0mformat\u001b[0m\u001b[0;34m(\u001b[0m\u001b[0mi\u001b[0m\u001b[0;34m,\u001b[0m \u001b[0mmodel_name\u001b[0m\u001b[0;34m)\u001b[0m\u001b[0;34m,\u001b[0m\u001b[0;34m\u001b[0m\u001b[0m\n\u001b[0;32m---> 18\u001b[0;31m                   gpu_idx = gpu_idx)\n\u001b[0m\u001b[1;32m     19\u001b[0m \u001b[0;34m\u001b[0m\u001b[0m\n\u001b[1;32m     20\u001b[0m         \u001b[0mmodel\u001b[0m\u001b[0;34m.\u001b[0m\u001b[0minference\u001b[0m\u001b[0;34m(\u001b[0m\u001b[0mnp_test_X\u001b[0m\u001b[0;34m,\u001b[0m \u001b[0mbatch_size\u001b[0m \u001b[0;34m=\u001b[0m \u001b[0;36m20\u001b[0m\u001b[0;34m)\u001b[0m\u001b[0;34m\u001b[0m\u001b[0m\n",
      "\u001b[0;32m/mnt/disk1/yunseob/Pytorch/1_CapsuleEndo/algorithms/ce_model/cnn_inf.py\u001b[0m in \u001b[0;36m__init__\u001b[0;34m(self, network, n_ch, n_cls, model_dir, model_name, gpu_idx)\u001b[0m\n\u001b[1;32m     64\u001b[0m         \u001b[0;32melse\u001b[0m\u001b[0;34m:\u001b[0m\u001b[0;34m\u001b[0m\u001b[0m\n\u001b[1;32m     65\u001b[0m             \u001b[0mprint\u001b[0m\u001b[0;34m(\u001b[0m\u001b[0;34m'The last model is selected\\n'\u001b[0m\u001b[0;34m)\u001b[0m\u001b[0;34m\u001b[0m\u001b[0m\n\u001b[0;32m---> 66\u001b[0;31m             \u001b[0mself\u001b[0m\u001b[0;34m.\u001b[0m\u001b[0mimport_model\u001b[0m\u001b[0;34m(\u001b[0m\u001b[0mself\u001b[0m\u001b[0;34m.\u001b[0m\u001b[0mn_ch\u001b[0m\u001b[0;34m,\u001b[0m \u001b[0mself\u001b[0m\u001b[0;34m.\u001b[0m\u001b[0mn_cls\u001b[0m\u001b[0;34m,\u001b[0m \u001b[0mself\u001b[0m\u001b[0;34m.\u001b[0m\u001b[0mmodel_dir\u001b[0m\u001b[0;34m,\u001b[0m \u001b[0mself\u001b[0m\u001b[0;34m.\u001b[0m\u001b[0mmodel_list\u001b[0m\u001b[0;34m[\u001b[0m\u001b[0;34m-\u001b[0m\u001b[0;36m1\u001b[0m\u001b[0;34m]\u001b[0m\u001b[0;34m)\u001b[0m\u001b[0;34m\u001b[0m\u001b[0m\n\u001b[0m\u001b[1;32m     67\u001b[0m \u001b[0;34m\u001b[0m\u001b[0m\n\u001b[1;32m     68\u001b[0m     \u001b[0;32mdef\u001b[0m \u001b[0mget_device\u001b[0m\u001b[0;34m(\u001b[0m\u001b[0mself\u001b[0m\u001b[0;34m,\u001b[0m \u001b[0mgpu_idx\u001b[0m \u001b[0;34m=\u001b[0m \u001b[0;36m3\u001b[0m\u001b[0;34m)\u001b[0m\u001b[0;34m:\u001b[0m\u001b[0;34m\u001b[0m\u001b[0m\n",
      "\u001b[0;31mIndexError\u001b[0m: list index out of range"
     ]
    }
   ],
   "source": [
    "data_list = ['data_config_p3_2_negative_nh3d3_---_--_5f_cv.pkl']\n",
    "\n",
    "classes = [7]\n",
    "model_dirs =  ['nh3d3/model/']\n",
    "model_list = ['nh3d3_p32_neg']\n",
    "\n",
    "gpu_idx = 3\n",
    "\n",
    "for m, (data_file, n_cls, model_dir, model_name) in enumerate(zip(data_list,classes, model_dirs, model_list)):\n",
    "    print(model_name)\n",
    "    model_test[model_name] = []\n",
    "    for i in range(1, 6):\n",
    "        print('\\n{:02d}_fold'.format(i))\n",
    "        np_test_name, np_test_X, np_test_Y = cv_test_data_load(filename = data_file, n_fold=i)\n",
    "        print()\n",
    "        model = cnn_model(network = 'CNN_v1', n_ch = 3, n_cls = n_cls, \n",
    "                  model_dir = model_dir, model_name = '{:02d}_{}'.format(i, model_name), \n",
    "                  gpu_idx = gpu_idx)\n",
    "        \n",
    "        model.inference(np_test_X, batch_size = 20)\n",
    "        model_test[model_name].append(cls_metric(np_test_Y, model.score).cm2metric())\n",
    "    print('')\n",
    "    \n",
    "    df.loc[m+3] = [model_name] + list(np.mean(model_test[model_name], axis = 1))\n",
    "#     if i != 0:\n",
    "#         break"
   ]
  },
  {
   "cell_type": "code",
   "execution_count": 9,
   "metadata": {
    "ExecuteTime": {
     "end_time": "2020-10-26T06:10:05.232114Z",
     "start_time": "2020-10-26T06:10:05.219977Z"
    }
   },
   "outputs": [
    {
     "data": {
      "text/plain": [
       "{'nh3d3_p32_neg': [[79.1, 46.15, 91.99, 89.19, 50.18],\n",
       "  [67.83, 32.18, 81.74, 85.41, 28.99]],\n",
       " 'nhd_p32_neg': [[91.2, 74.03, 98.01, 95.68, 78.87],\n",
       "  [87.34, 65.43, 96.03, 92.65, 72.06],\n",
       "  [86.97, 68.5, 94.3, 94.18, 68.72],\n",
       "  [87.66, 64.46, 96.86, 92.03, 74.3],\n",
       "  [87.24, 63.43, 96.67, 92.57, 71.4]],\n",
       " 'np-d_p32_neg': [[96.45, 88.51, 98.4, 97.22, 93.13],\n",
       "  [95.22, 87.47, 97.12, 96.93, 88.16],\n",
       "  [94.65, 85.9, 96.8, 96.55, 86.81],\n",
       "  [94.65, 80.89, 98.01, 95.45, 90.88],\n",
       "  [95.83, 85.08, 98.46, 96.42, 93.12]],\n",
       " 'np-h_p32_neg': [[98.23, 89.2, 99.68, 98.29, 97.81],\n",
       "  [97.29, 92.0, 98.14, 98.71, 88.8],\n",
       "  [97.18, 88.8, 98.53, 98.21, 90.61],\n",
       "  [97.24, 87.6, 98.78, 98.03, 92.02],\n",
       "  [97.57, 88.8, 98.97, 98.22, 93.28]]}"
      ]
     },
     "execution_count": 9,
     "metadata": {},
     "output_type": "execute_result"
    }
   ],
   "source": [
    "model_test"
   ]
  },
  {
   "cell_type": "code",
   "execution_count": 10,
   "metadata": {
    "ExecuteTime": {
     "end_time": "2020-10-26T06:10:22.334684Z",
     "start_time": "2020-10-26T06:10:22.306482Z"
    }
   },
   "outputs": [
    {
     "data": {
      "text/html": [
       "<div>\n",
       "<style scoped>\n",
       "    .dataframe tbody tr th:only-of-type {\n",
       "        vertical-align: middle;\n",
       "    }\n",
       "\n",
       "    .dataframe tbody tr th {\n",
       "        vertical-align: top;\n",
       "    }\n",
       "\n",
       "    .dataframe thead th {\n",
       "        text-align: right;\n",
       "    }\n",
       "</style>\n",
       "<table border=\"1\" class=\"dataframe\">\n",
       "  <thead>\n",
       "    <tr style=\"text-align: right;\">\n",
       "      <th></th>\n",
       "      <th>model</th>\n",
       "      <th>ACC</th>\n",
       "      <th>SEN</th>\n",
       "      <th>SPE</th>\n",
       "      <th>NPV</th>\n",
       "      <th>PPV</th>\n",
       "    </tr>\n",
       "  </thead>\n",
       "  <tbody>\n",
       "    <tr>\n",
       "      <th>0</th>\n",
       "      <td>np-h_p32_neg</td>\n",
       "      <td>96.642</td>\n",
       "      <td>94.988</td>\n",
       "      <td>94.666</td>\n",
       "      <td>94.734</td>\n",
       "      <td>95.368</td>\n",
       "    </tr>\n",
       "    <tr>\n",
       "      <th>1</th>\n",
       "      <td>np-d_p32_neg</td>\n",
       "      <td>94.742</td>\n",
       "      <td>92.980</td>\n",
       "      <td>92.142</td>\n",
       "      <td>91.976</td>\n",
       "      <td>93.782</td>\n",
       "    </tr>\n",
       "    <tr>\n",
       "      <th>2</th>\n",
       "      <td>nhd_p32_neg</td>\n",
       "      <td>87.558</td>\n",
       "      <td>82.702</td>\n",
       "      <td>82.534</td>\n",
       "      <td>83.062</td>\n",
       "      <td>82.262</td>\n",
       "    </tr>\n",
       "  </tbody>\n",
       "</table>\n",
       "</div>"
      ],
      "text/plain": [
       "          model     ACC     SEN     SPE     NPV     PPV\n",
       "0  np-h_p32_neg  96.642  94.988  94.666  94.734  95.368\n",
       "1  np-d_p32_neg  94.742  92.980  92.142  91.976  93.782\n",
       "2   nhd_p32_neg  87.558  82.702  82.534  83.062  82.262"
      ]
     },
     "execution_count": 10,
     "metadata": {},
     "output_type": "execute_result"
    }
   ],
   "source": [
    "df"
   ]
  },
  {
   "cell_type": "code",
   "execution_count": null,
   "metadata": {},
   "outputs": [],
   "source": [
    "df.to_csv('model_performance.csv',encoding='utf-8-sig', index = False)"
   ]
  },
  {
   "cell_type": "code",
   "execution_count": null,
   "metadata": {},
   "outputs": [],
   "source": []
  }
 ],
 "metadata": {
  "hide_input": false,
  "kernelspec": {
   "display_name": "Pytorch",
   "language": "python",
   "name": "pytorch"
  },
  "language_info": {
   "codemirror_mode": {
    "name": "ipython",
    "version": 3
   },
   "file_extension": ".py",
   "mimetype": "text/x-python",
   "name": "python",
   "nbconvert_exporter": "python",
   "pygments_lexer": "ipython3",
   "version": "3.5.2"
  },
  "toc": {
   "base_numbering": 1,
   "nav_menu": {},
   "number_sections": false,
   "sideBar": true,
   "skip_h1_title": false,
   "title_cell": "Table of Contents",
   "title_sidebar": "Contents",
   "toc_cell": false,
   "toc_position": {},
   "toc_section_display": true,
   "toc_window_display": false
  }
 },
 "nbformat": 4,
 "nbformat_minor": 2
}
