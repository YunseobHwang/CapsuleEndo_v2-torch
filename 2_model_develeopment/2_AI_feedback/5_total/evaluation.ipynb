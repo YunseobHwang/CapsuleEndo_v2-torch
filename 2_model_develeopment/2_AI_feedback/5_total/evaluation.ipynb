{
 "cells": [
  {
   "cell_type": "code",
   "execution_count": 1,
   "metadata": {
    "ExecuteTime": {
     "end_time": "2021-01-25T14:01:04.029980Z",
     "start_time": "2021-01-25T14:01:03.014581Z"
    }
   },
   "outputs": [],
   "source": [
    "import numpy as np\n",
    "import os, pickle\n",
    "from itertools import product\n",
    "import pandas as pd\n",
    "\n",
    "import sys\n",
    "sys.path.append('/mnt/disk1/project/SMhospital/capsule/torch/1_modules')\n",
    "from ce_utils.data import test_data_load\n",
    "from ce_model.cnn_inf import cnn_model\n",
    "from ce_utils.cls_eval import cls_metric, extract_score\n",
    "from ce_utils.cls_eval import get_accuracy_by_type\n",
    "from ce_utils.cls_eval import plot_roc_curve"
   ]
  },
  {
   "cell_type": "markdown",
   "metadata": {},
   "source": [
    "# 1. Load data"
   ]
  },
  {
   "cell_type": "code",
   "execution_count": 2,
   "metadata": {
    "ExecuteTime": {
     "end_time": "2021-01-25T14:01:34.758028Z",
     "start_time": "2021-01-25T14:01:04.032627Z"
    }
   },
   "outputs": [
    {
     "name": "stdout",
     "output_type": "stream",
     "text": [
      "6281\n",
      "1778\n"
     ]
    }
   ],
   "source": [
    "np_test_name, np_test_X, np_test_Y = test_data_load(filename = 'data_config_total_np_-r-.pkl')"
   ]
  },
  {
   "cell_type": "code",
   "execution_count": 3,
   "metadata": {
    "ExecuteTime": {
     "end_time": "2021-01-25T14:01:34.765641Z",
     "start_time": "2021-01-25T14:01:34.760290Z"
    }
   },
   "outputs": [
    {
     "data": {
      "text/plain": [
       "(8059, 3, 512, 512)"
      ]
     },
     "execution_count": 3,
     "metadata": {},
     "output_type": "execute_result"
    }
   ],
   "source": [
    "np_test_X.shape"
   ]
  },
  {
   "cell_type": "markdown",
   "metadata": {},
   "source": [
    "# 2. Load model"
   ]
  },
  {
   "cell_type": "code",
   "execution_count": 4,
   "metadata": {
    "ExecuteTime": {
     "end_time": "2021-01-25T14:01:43.731870Z",
     "start_time": "2021-01-25T14:01:34.767150Z"
    }
   },
   "outputs": [
    {
     "name": "stdout",
     "output_type": "stream",
     "text": [
      "model:\n",
      "np_total_0.0001_16_2011261248_070_t_accr_0.9704_t_loss_0.342231_v_accr_0.9383_v_loss_0.373987.pt\n",
      "\n"
     ]
    }
   ],
   "source": [
    "model_dir = './model/'\n",
    "gpu_idx = 3\n",
    "\n",
    "np_total_model = cnn_model(network = 'CNN_v1', n_ch = 3, n_cls = 2, \n",
    "                         model_dir = model_dir, model_name = 'np_total', gpu_idx = gpu_idx)"
   ]
  },
  {
   "cell_type": "markdown",
   "metadata": {},
   "source": [
    "# 3. Evaluation\n",
    "## 3.1. Accuracy, Sensitivity ..."
   ]
  },
  {
   "cell_type": "code",
   "execution_count": 5,
   "metadata": {
    "ExecuteTime": {
     "end_time": "2021-01-25T14:01:55.103028Z",
     "start_time": "2021-01-25T14:01:43.733952Z"
    }
   },
   "outputs": [
    {
     "name": "stdout",
     "output_type": "stream",
     "text": [
      "8059: 403(*20) |################################################## | 100.0% prediction\n"
     ]
    },
    {
     "data": {
      "text/html": [
       "<div>\n",
       "<style scoped>\n",
       "    .dataframe tbody tr th:only-of-type {\n",
       "        vertical-align: middle;\n",
       "    }\n",
       "\n",
       "    .dataframe tbody tr th {\n",
       "        vertical-align: top;\n",
       "    }\n",
       "\n",
       "    .dataframe thead th {\n",
       "        text-align: right;\n",
       "    }\n",
       "</style>\n",
       "<table border=\"1\" class=\"dataframe\">\n",
       "  <thead>\n",
       "    <tr style=\"text-align: right;\">\n",
       "      <th></th>\n",
       "      <th>model</th>\n",
       "      <th>ACC</th>\n",
       "      <th>SEN</th>\n",
       "      <th>SPE</th>\n",
       "      <th>NPV</th>\n",
       "      <th>PPV</th>\n",
       "    </tr>\n",
       "  </thead>\n",
       "  <tbody>\n",
       "    <tr>\n",
       "      <th>0</th>\n",
       "      <td>total_-r-_--</td>\n",
       "      <td>93.0</td>\n",
       "      <td>83.75</td>\n",
       "      <td>95.62</td>\n",
       "      <td>95.41</td>\n",
       "      <td>84.41</td>\n",
       "    </tr>\n",
       "  </tbody>\n",
       "</table>\n",
       "</div>"
      ],
      "text/plain": [
       "          model   ACC    SEN    SPE    NPV    PPV\n",
       "0  total_-r-_--  93.0  83.75  95.62  95.41  84.41"
      ]
     },
     "execution_count": 5,
     "metadata": {},
     "output_type": "execute_result"
    }
   ],
   "source": [
    "np_total_score = extract_score(np_total_model, np_test_X)\n",
    "\n",
    "model_list = ['total_-r-_--']\n",
    "score_list = [np_total_score]\n",
    "\n",
    "df = pd.DataFrame(columns = ['model', 'ACC', 'SEN', 'SPE', 'NPV', 'PPV'])\n",
    "\n",
    "for i, model, score in zip(range(len(model_list)), model_list, score_list):\n",
    "    df.loc[i] = [model] + cls_metric(np_test_Y, score).cm2metric()\n",
    "    \n",
    "df.to_csv('cls_performance.csv', encoding='utf-8-sig', index = True)  \n",
    "    \n",
    "df"
   ]
  },
  {
   "cell_type": "markdown",
   "metadata": {},
   "source": [
    "## 3.2. Accuracy by type"
   ]
  },
  {
   "cell_type": "code",
   "execution_count": 6,
   "metadata": {
    "ExecuteTime": {
     "end_time": "2021-01-25T14:02:39.848265Z",
     "start_time": "2021-01-25T14:01:55.104948Z"
    }
   },
   "outputs": [
    {
     "name": "stdout",
     "output_type": "stream",
     "text": [
      "6281: 315(*20) |################################################## | 100.0% prediction\n",
      "1778: 89(*20) |################################################## | 100.0% prediction\n",
      "383: 20(*20) |################################################## | 100.0% prediction\n",
      "224: 12(*20) |################################################## | 100.0% prediction\n",
      "4: 1(*20) |################################################## | 100.0% prediction\n",
      "155: 8(*20) |################################################## | 100.0% prediction\n",
      "530: 27(*20) |################################################## | 100.0% prediction\n",
      "237: 12(*20) |################################################## | 100.0% prediction\n",
      "267: 14(*20) |################################################## | 100.0% prediction\n",
      "42: 3(*20) |################################################## | 100.0% prediction\n",
      "169: 9(*20) |################################################## | 100.0% prediction\n",
      "17: 1(*20) |################################################## | 100.0% prediction\n",
      "106: 6(*20) |################################################## | 100.0% prediction\n",
      "46: 3(*20) |################################################## | 100.0% prediction\n",
      "12: 1(*20) |################################################## | 100.0% prediction\n",
      "7: 1(*20) |################################################## | 100.0% prediction\n",
      "5: 1(*20) |################################################## | 100.0% prediction\n"
     ]
    }
   ],
   "source": [
    "types, accrs = get_accuracy_by_type(np_total_model, np_test_name, np_test_X, np_test_Y, target_category = None)"
   ]
  },
  {
   "cell_type": "code",
   "execution_count": 7,
   "metadata": {
    "ExecuteTime": {
     "end_time": "2021-01-25T14:02:39.879627Z",
     "start_time": "2021-01-25T14:02:39.850913Z"
    }
   },
   "outputs": [
    {
     "data": {
      "text/html": [
       "<div>\n",
       "<style scoped>\n",
       "    .dataframe tbody tr th:only-of-type {\n",
       "        vertical-align: middle;\n",
       "    }\n",
       "\n",
       "    .dataframe tbody tr th {\n",
       "        vertical-align: top;\n",
       "    }\n",
       "\n",
       "    .dataframe thead th {\n",
       "        text-align: right;\n",
       "    }\n",
       "</style>\n",
       "<table border=\"1\" class=\"dataframe\">\n",
       "  <thead>\n",
       "    <tr style=\"text-align: right;\">\n",
       "      <th></th>\n",
       "      <th>model</th>\n",
       "      <th>negative</th>\n",
       "      <th>positive</th>\n",
       "      <th>hemorrhagic</th>\n",
       "      <th>red_spot</th>\n",
       "      <th>angioectasia</th>\n",
       "      <th>active_bleeding</th>\n",
       "      <th>depressed</th>\n",
       "      <th>erosion</th>\n",
       "      <th>ulcer</th>\n",
       "      <th>stricture</th>\n",
       "      <th>protruded</th>\n",
       "      <th>ampulla_of_vater</th>\n",
       "      <th>lymphoid_follicles</th>\n",
       "      <th>small_bowel_tumor</th>\n",
       "      <th>etc</th>\n",
       "      <th>phlebectasia</th>\n",
       "      <th>lymphangiectasia</th>\n",
       "    </tr>\n",
       "  </thead>\n",
       "  <tbody>\n",
       "    <tr>\n",
       "      <th>0</th>\n",
       "      <td>total_-r-_--</td>\n",
       "      <td>95.62</td>\n",
       "      <td>83.75</td>\n",
       "      <td>95.3</td>\n",
       "      <td>91.96</td>\n",
       "      <td>100.0</td>\n",
       "      <td>100.0</td>\n",
       "      <td>91.51</td>\n",
       "      <td>94.09</td>\n",
       "      <td>90.26</td>\n",
       "      <td>83.33</td>\n",
       "      <td>62.13</td>\n",
       "      <td>76.47</td>\n",
       "      <td>62.26</td>\n",
       "      <td>56.52</td>\n",
       "      <td>66.67</td>\n",
       "      <td>42.86</td>\n",
       "      <td>100.0</td>\n",
       "    </tr>\n",
       "  </tbody>\n",
       "</table>\n",
       "</div>"
      ],
      "text/plain": [
       "          model  negative  positive  hemorrhagic  red_spot  angioectasia  \\\n",
       "0  total_-r-_--     95.62     83.75         95.3     91.96         100.0   \n",
       "\n",
       "   active_bleeding  depressed  erosion  ulcer  stricture  protruded  \\\n",
       "0            100.0      91.51    94.09  90.26      83.33      62.13   \n",
       "\n",
       "   ampulla_of_vater  lymphoid_follicles  small_bowel_tumor    etc  \\\n",
       "0             76.47               62.26              56.52  66.67   \n",
       "\n",
       "   phlebectasia  lymphangiectasia  \n",
       "0         42.86             100.0  "
      ]
     },
     "execution_count": 7,
     "metadata": {},
     "output_type": "execute_result"
    }
   ],
   "source": [
    "df1 = pd.DataFrame(columns = ['model'] + types)\n",
    "\n",
    "accr_list = [accrs]\n",
    "for i, model, accr in zip(range(len(model_list)), model_list, accr_list):\n",
    "    df1.loc[i] = [model] + accr\n",
    "    \n",
    "df1.to_csv('accuracy_by_type.csv', encoding='utf-8-sig', index = True)  \n",
    "df1"
   ]
  },
  {
   "cell_type": "markdown",
   "metadata": {},
   "source": [
    "## 3.3. ROC curve"
   ]
  },
  {
   "cell_type": "code",
   "execution_count": 8,
   "metadata": {
    "ExecuteTime": {
     "end_time": "2021-01-25T14:02:40.271789Z",
     "start_time": "2021-01-25T14:02:39.881807Z"
    }
   },
   "outputs": [
    {
     "data": {
      "image/png": "[encoded data removed]",
      "text/plain": [
       "<Figure size 720x576 with 1 Axes>"
      ]
     },
     "metadata": {
      "needs_background": "light"
     },
     "output_type": "display_data"
    }
   ],
   "source": [
    "plot_roc_curve(model_list, score_list, np_test_Y)"
   ]
  },
  {
   "cell_type": "code",
   "execution_count": 9,
   "metadata": {
    "ExecuteTime": {
     "end_time": "2021-01-25T14:02:40.664737Z",
     "start_time": "2021-01-25T14:02:40.273405Z"
    }
   },
   "outputs": [
    {
     "data": {
      "image/png": "[encoded data removed]",
      "text/plain": [
       "<Figure size 720x576 with 1 Axes>"
      ]
     },
     "metadata": {
      "needs_background": "light"
     },
     "output_type": "display_data"
    }
   ],
   "source": [
    "plot_roc_curve(model_list, score_list, np_test_Y, save_dir = '.', optimal_threshold = True)"
   ]
  }
 ],
 "metadata": {
  "hide_input": false,
  "kernelspec": {
   "display_name": "torch",
   "language": "python",
   "name": "torch"
  },
  "language_info": {
   "codemirror_mode": {
    "name": "ipython",
    "version": 3
   },
   "file_extension": ".py",
   "mimetype": "text/x-python",
   "name": "python",
   "nbconvert_exporter": "python",
   "pygments_lexer": "ipython3",
   "version": "3.5.2"
  },
  "toc": {
   "base_numbering": 1,
   "nav_menu": {},
   "number_sections": false,
   "sideBar": true,
   "skip_h1_title": false,
   "title_cell": "Table of Contents",
   "title_sidebar": "Contents",
   "toc_cell": false,
   "toc_position": {},
   "toc_section_display": true,
   "toc_window_display": false
  }
 },
 "nbformat": 4,
 "nbformat_minor": 2
}
