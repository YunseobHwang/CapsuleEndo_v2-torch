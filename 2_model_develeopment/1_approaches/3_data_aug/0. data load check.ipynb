{
 "cells": [
  {
   "cell_type": "code",
   "execution_count": 1,
   "metadata": {
    "ExecuteTime": {
     "end_time": "2020-07-30T07:20:03.171528Z",
     "start_time": "2020-07-30T07:20:02.598989Z"
    }
   },
   "outputs": [],
   "source": [
    "# import sys\n",
    "# sys.path.append('/mnt/disk1/yunseob/Pytorch/1_CapsuleEndo/')\n",
    "from CE_utils import sm160_dataset, GenerateLabel\n",
    "from CE_training import CNN_Training\n",
    "\n",
    "import numpy as np\n",
    "from itertools import product"
   ]
  },
  {
   "cell_type": "code",
   "execution_count": 2,
   "metadata": {
    "ExecuteTime": {
     "end_time": "2020-07-30T07:20:03.182290Z",
     "start_time": "2020-07-30T07:20:03.173783Z"
    }
   },
   "outputs": [],
   "source": [
    "def sm160_load(tv_rate = 0.9):\n",
    "    neg_train_aug_path, neg_train_x, neg_valid_x = sm160.Get_train_valid_set('n', 'neg', train_rate = tv_rate)\n",
    "    redspot_train_aug_path, redspot_train_x, redspot_valid_x = sm160.Get_train_valid_set('h', 'redspot', train_rate = tv_rate)\n",
    "    angio_train_aug_path, angio_train_x, angio_valid_x = sm160.Get_train_valid_set('h', 'angio', train_rate = tv_rate)\n",
    "    active_train_aug_path, active_train_x, active_valid_x = sm160.Get_train_valid_set('h', 'active', train_rate = tv_rate)\n",
    "    ero_train_aug_path, ero_train_x, ero_valid_x = sm160.Get_train_valid_set('d', 'ero', train_rate = tv_rate)\n",
    "    ulcer_train_aug_path, ulcer_train_x, ulcer_valid_x = sm160.Get_train_valid_set('d', 'ulcer', train_rate = tv_rate)\n",
    "    str_train_aug_path, str_train_x, str_valid_x = sm160.Get_train_valid_set('d', 'str', train_rate = tv_rate)\n",
    "\n",
    "    # 실제 모델이 학습할 augmented training data의 경로를 클래스 기준에 따라 list로 정리  \n",
    "    h_train_aug_path = np.hstack([redspot_train_aug_path, angio_train_aug_path, active_train_aug_path])\n",
    "    d_train_aug_path = np.hstack([ero_train_aug_path, ulcer_train_aug_path, str_train_aug_path])\n",
    "    a_train_aug_path = np.hstack([h_train_aug_path, d_train_aug_path])\n",
    "    train_paths = [neg_train_aug_path, a_train_aug_path]\n",
    "\n",
    "    # epcch마다 모델을 평가할 (not augmented) training set과 validation set 클래스 기준에 따라 정리\n",
    "    h_train_X = np.vstack([redspot_train_x, angio_train_x, active_train_x])\n",
    "    d_train_X = np.vstack([ero_train_x, ulcer_train_x, str_train_x])\n",
    "    a_train_X = np.vstack([h_train_X, d_train_X])\n",
    "\n",
    "    h_valid_X = np.vstack([redspot_valid_x, angio_valid_x, active_valid_x])\n",
    "    d_valid_X = np.vstack([ero_valid_x, ulcer_valid_x, str_valid_x])\n",
    "    a_valid_X = np.vstack([h_valid_X, d_valid_X])\n",
    "\n",
    "    train_X = [neg_train_x, a_train_X]\n",
    "    valid_X = [neg_valid_x, a_valid_X]\n",
    "    \n",
    "    return train_paths, train_X, valid_X"
   ]
  },
  {
   "cell_type": "code",
   "execution_count": 5,
   "metadata": {
    "ExecuteTime": {
     "end_time": "2020-07-30T07:09:31.638672Z",
     "start_time": "2020-07-30T07:08:27.649257Z"
    }
   },
   "outputs": [
    {
     "name": "stdout",
     "output_type": "stream",
     "text": [
      "negative - negative | augmented training data: 179808 |(For validation) train x: (5619, 3, 512, 512) valid x: (625, 3, 512, 512)\n",
      "hemorrhagic - red_spot | augmented training data: 16000 |(For validation) train x: (500, 3, 512, 512) valid x: (56, 3, 512, 512)\n",
      "hemorrhagic - angioectasia | augmented training data: 512 |(For validation) train x: (16, 3, 512, 512) valid x: (2, 3, 512, 512)\n",
      "hemorrhagic - active_bleeding | augmented training data: 12320 |(For validation) train x: (385, 3, 512, 512) valid x: (43, 3, 512, 512)\n",
      "depressed - erosion | augmented training data: 21216 |(For validation) train x: (663, 3, 512, 512) valid x: (74, 3, 512, 512)\n",
      "depressed - ulcer | augmented training data: 21056 |(For validation) train x: (658, 3, 512, 512) valid x: (74, 3, 512, 512)\n",
      "depressed - stricture | augmented training data: 2944 |(For validation) train x: (92, 3, 512, 512) valid x: (11, 3, 512, 512)\n"
     ]
    }
   ],
   "source": [
    "phase_a = [[1, 1, 1]]\n",
    "phase_a_label = ['---_sv']\n",
    "\n",
    "sm160 = sm160_dataset(phase = 'train', data = 'sm_x160_v2', pre_a = phase_a[0], pre_b = False, ext_name = False)\n",
    "train_paths, train_X, valid_X = sm160_load()"
   ]
  },
  {
   "cell_type": "code",
   "execution_count": 3,
   "metadata": {
    "ExecuteTime": {
     "end_time": "2020-07-30T07:21:17.870073Z",
     "start_time": "2020-07-30T07:20:08.269355Z"
    }
   },
   "outputs": [
    {
     "name": "stdout",
     "output_type": "stream",
     "text": [
      "negative - negative | augmented training data: 28095 |(For validation) train x: (5619, 3, 512, 512) valid x: (625, 3, 512, 512)\n",
      "hemorrhagic - red_spot | augmented training data: 2500 |(For validation) train x: (500, 3, 512, 512) valid x: (56, 3, 512, 512)\n",
      "hemorrhagic - angioectasia | augmented training data: 80 |(For validation) train x: (16, 3, 512, 512) valid x: (2, 3, 512, 512)\n",
      "hemorrhagic - active_bleeding | augmented training data: 1925 |(For validation) train x: (385, 3, 512, 512) valid x: (43, 3, 512, 512)\n",
      "depressed - erosion | augmented training data: 3315 |(For validation) train x: (663, 3, 512, 512) valid x: (74, 3, 512, 512)\n",
      "depressed - ulcer | augmented training data: 3290 |(For validation) train x: (658, 3, 512, 512) valid x: (74, 3, 512, 512)\n",
      "depressed - stricture | augmented training data: 460 |(For validation) train x: (92, 3, 512, 512) valid x: (11, 3, 512, 512)\n"
     ]
    }
   ],
   "source": [
    "phase_a = [[0, 0, 0]]\n",
    "phase_a_label = ['---_sv']\n",
    "\n",
    "sm160 = sm160_dataset(phase = 'train', data = 'sm_x160_v2', pre_a = phase_a[0], pre_b = True, ext_name = False)\n",
    "train_paths, train_X, valid_X = sm160_load()"
   ]
  },
  {
   "cell_type": "code",
   "execution_count": 7,
   "metadata": {
    "ExecuteTime": {
     "end_time": "2020-07-30T07:33:44.341362Z",
     "start_time": "2020-07-30T07:33:44.333962Z"
    }
   },
   "outputs": [
    {
     "data": {
      "text/plain": [
       "array(['/mnt/disk2/data/private_data/SMhospital/capsule/1 preprocessed/sm_x160_v2/train/negative/negative/SH___04-14-04___1030495__c_-_-_-.jpg',\n",
       "       '/mnt/disk2/data/private_data/SMhospital/capsule/1 preprocessed/sm_x160_v2/train/negative/negative/SH___04-14-04___1030495__c_-_-_-_s_-30_v_-30.jpg',\n",
       "       '/mnt/disk2/data/private_data/SMhospital/capsule/1 preprocessed/sm_x160_v2/train/negative/negative/SH___04-14-04___1030495__c_-_-_-_s_-30_v_30.jpg',\n",
       "       '/mnt/disk2/data/private_data/SMhospital/capsule/1 preprocessed/sm_x160_v2/train/negative/negative/SH___04-14-04___1030495__c_-_-_-_s_30_v_-30.jpg',\n",
       "       '/mnt/disk2/data/private_data/SMhospital/capsule/1 preprocessed/sm_x160_v2/train/negative/negative/SH___04-14-04___1030495__c_-_-_-_s_30_v_30.jpg',\n",
       "       '/mnt/disk2/data/private_data/SMhospital/capsule/1 preprocessed/sm_x160_v2/train/negative/negative/PM___02-32-03___2027881__c_-_-_-.jpg',\n",
       "       '/mnt/disk2/data/private_data/SMhospital/capsule/1 preprocessed/sm_x160_v2/train/negative/negative/PM___02-32-03___2027881__c_-_-_-_s_-30_v_-30.jpg',\n",
       "       '/mnt/disk2/data/private_data/SMhospital/capsule/1 preprocessed/sm_x160_v2/train/negative/negative/PM___02-32-03___2027881__c_-_-_-_s_-30_v_30.jpg',\n",
       "       '/mnt/disk2/data/private_data/SMhospital/capsule/1 preprocessed/sm_x160_v2/train/negative/negative/PM___02-32-03___2027881__c_-_-_-_s_30_v_-30.jpg',\n",
       "       '/mnt/disk2/data/private_data/SMhospital/capsule/1 preprocessed/sm_x160_v2/train/negative/negative/PM___02-32-03___2027881__c_-_-_-_s_30_v_30.jpg'],\n",
       "      dtype='<U192')"
      ]
     },
     "execution_count": 7,
     "metadata": {},
     "output_type": "execute_result"
    }
   ],
   "source": [
    "train_paths[0][:10]"
   ]
  },
  {
   "cell_type": "code",
   "execution_count": 4,
   "metadata": {
    "ExecuteTime": {
     "end_time": "2020-07-30T07:06:54.114508Z",
     "start_time": "2020-07-30T07:05:13.470121Z"
    }
   },
   "outputs": [
    {
     "name": "stdout",
     "output_type": "stream",
     "text": [
      "negative - negative | augmented training data: 899040 |(For validation) train x: (5619, 3, 512, 512) valid x: (625, 3, 512, 512)\n",
      "hemorrhagic - red_spot | augmented training data: 80000 |(For validation) train x: (500, 3, 512, 512) valid x: (56, 3, 512, 512)\n",
      "hemorrhagic - angioectasia | augmented training data: 2560 |(For validation) train x: (16, 3, 512, 512) valid x: (2, 3, 512, 512)\n",
      "hemorrhagic - active_bleeding | augmented training data: 61600 |(For validation) train x: (385, 3, 512, 512) valid x: (43, 3, 512, 512)\n",
      "depressed - erosion | augmented training data: 106080 |(For validation) train x: (663, 3, 512, 512) valid x: (74, 3, 512, 512)\n",
      "depressed - ulcer | augmented training data: 105280 |(For validation) train x: (658, 3, 512, 512) valid x: (74, 3, 512, 512)\n",
      "depressed - stricture | augmented training data: 14720 |(For validation) train x: (92, 3, 512, 512) valid x: (11, 3, 512, 512)\n"
     ]
    }
   ],
   "source": [
    "phase_a = [[0, 0, 0]]\n",
    "phase_a_label = ['---_sv']\n",
    "\n",
    "sm160 = sm160_dataset(phase = 'train', data = 'sm_x160_v2', pre_a = phase_a[0], pre_b = True, ext_name = False)\n",
    "train_paths, train_X, valid_X = sm160_load()"
   ]
  }
 ],
 "metadata": {
  "hide_input": false,
  "kernelspec": {
   "display_name": "Pytorch",
   "language": "python",
   "name": "pytorch"
  },
  "language_info": {
   "codemirror_mode": {
    "name": "ipython",
    "version": 3
   },
   "file_extension": ".py",
   "mimetype": "text/x-python",
   "name": "python",
   "nbconvert_exporter": "python",
   "pygments_lexer": "ipython3",
   "version": "3.5.2"
  },
  "toc": {
   "base_numbering": 1,
   "nav_menu": {},
   "number_sections": false,
   "sideBar": true,
   "skip_h1_title": false,
   "title_cell": "Table of Contents",
   "title_sidebar": "Contents",
   "toc_cell": false,
   "toc_position": {},
   "toc_section_display": true,
   "toc_window_display": false
  }
 },
 "nbformat": 4,
 "nbformat_minor": 2
}
