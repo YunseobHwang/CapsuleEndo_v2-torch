{
 "cells": [
  {
   "cell_type": "code",
   "execution_count": 1,
   "metadata": {
    "ExecuteTime": {
     "end_time": "2020-09-04T06:31:39.470726Z",
     "start_time": "2020-09-04T06:31:38.819359Z"
    }
   },
   "outputs": [],
   "source": [
    "import sys\n",
    "sys.path.append('/mnt/disk1/yunseob/Pytorch/1_CapsuleEndo/algorithms')\n",
    "from ce_model.CE_training import CNN_Training"
   ]
  },
  {
   "cell_type": "code",
   "execution_count": 3,
   "metadata": {
    "ExecuteTime": {
     "end_time": "2020-09-10T06:42:25.193633Z",
     "start_time": "2020-09-10T06:42:25.184281Z"
    }
   },
   "outputs": [
    {
     "name": "stdout",
     "output_type": "stream",
     "text": [
      "undersample [0]\n",
      "oversample [0, 1, 2, 3, 4]\n"
     ]
    }
   ],
   "source": [
    "from itertools import product\n",
    "\n",
    "sp_modes = ['undersample', 'oversample']\n",
    "target_folds = [[0], [0, 1, 2, 3, 4]]\n",
    "\n",
    "# for sp_mode, i_fold in list(product(*[sp_modes, target_folds])):\n",
    "for sp_mode, target_fold in zip(sp_modes, target_folds):\n",
    "    print(sp_mode, target_fold)"
   ]
  },
  {
   "cell_type": "code",
   "execution_count": 5,
   "metadata": {
    "ExecuteTime": {
     "end_time": "2020-09-10T06:45:41.605480Z",
     "start_time": "2020-09-10T06:45:41.426387Z"
    }
   },
   "outputs": [
    {
     "data": {
      "text/plain": [
       "array([35,  1, 84, 73, 35])"
      ]
     },
     "execution_count": 5,
     "metadata": {},
     "output_type": "execute_result"
    }
   ],
   "source": [
    "import numpy as np\n",
    "\n",
    "np.random.choice(100, 5)"
   ]
  },
  {
   "cell_type": "code",
   "execution_count": 18,
   "metadata": {
    "ExecuteTime": {
     "end_time": "2020-09-10T07:35:19.410692Z",
     "start_time": "2020-09-10T07:35:19.398794Z"
    }
   },
   "outputs": [
    {
     "ename": "ImportError",
     "evalue": "No module named 'bayes_opt'",
     "output_type": "error",
     "traceback": [
      "\u001b[0;31m---------------------------------------------------------------------------\u001b[0m",
      "\u001b[0;31mImportError\u001b[0m                               Traceback (most recent call last)",
      "\u001b[0;32m<ipython-input-18-93303b4629f3>\u001b[0m in \u001b[0;36m<module>\u001b[0;34m\u001b[0m\n\u001b[0;32m----> 1\u001b[0;31m \u001b[0;32mfrom\u001b[0m \u001b[0mbayes_opt\u001b[0m \u001b[0;32mimport\u001b[0m \u001b[0mBayesianOptimization\u001b[0m\u001b[0;34m\u001b[0m\u001b[0m\n\u001b[0m",
      "\u001b[0;31mImportError\u001b[0m: No module named 'bayes_opt'"
     ]
    }
   ],
   "source": [
    "from bayes_opt import BayesianOptimization"
   ]
  },
  {
   "cell_type": "code",
   "execution_count": 15,
   "metadata": {
    "ExecuteTime": {
     "end_time": "2020-09-10T07:34:49.781284Z",
     "start_time": "2020-09-10T07:34:49.774140Z"
    }
   },
   "outputs": [],
   "source": [
    "from functools import partial\n",
    "\n",
    "def op(a, b, c, d):\n",
    "    return (a+b+c)*d\n",
    "\n",
    "a = 3\n",
    "b = 2\n",
    "\n",
    "op_with_partial = partial(op, a, b)"
   ]
  },
  {
   "cell_type": "code",
   "execution_count": 17,
   "metadata": {
    "ExecuteTime": {
     "end_time": "2020-09-10T07:34:54.533730Z",
     "start_time": "2020-09-10T07:34:54.527001Z"
    }
   },
   "outputs": [
    {
     "data": {
      "text/plain": [
       "25"
      ]
     },
     "execution_count": 17,
     "metadata": {},
     "output_type": "execute_result"
    }
   ],
   "source": [
    "op_with_partial(0, 5)"
   ]
  },
  {
   "cell_type": "code",
   "execution_count": 12,
   "metadata": {
    "ExecuteTime": {
     "end_time": "2020-09-10T07:05:03.754894Z",
     "start_time": "2020-09-10T07:05:03.750185Z"
    }
   },
   "outputs": [
    {
     "data": {
      "text/plain": [
       "functools.partial(<function sum at 0x7ff9e5758378>, 3, 2)"
      ]
     },
     "execution_count": 12,
     "metadata": {},
     "output_type": "execute_result"
    }
   ],
   "source": [
    "function_with_partial"
   ]
  },
  {
   "cell_type": "code",
   "execution_count": null,
   "metadata": {},
   "outputs": [],
   "source": [
    "np.random.choice()"
   ]
  },
  {
   "cell_type": "code",
   "execution_count": 7,
   "metadata": {
    "ExecuteTime": {
     "end_time": "2020-09-04T06:38:21.731542Z",
     "start_time": "2020-09-04T06:38:21.722245Z"
    }
   },
   "outputs": [
    {
     "data": {
      "text/plain": [
       "'01_np-hd_no_sample_mixed_0.0001_32_2009031928_004_t_accr_0.6735_t_loss_0.633076_v_accr_0.7001_v_loss_0.621841.pt'"
      ]
     },
     "execution_count": 7,
     "metadata": {},
     "output_type": "execute_result"
    }
   ],
   "source": [
    "import os\n",
    "\n",
    "classifier_file = [i for i in os.listdir('model') if '01_np-hd_no_sample_mixed' in i][-1]\n",
    "classifier_file"
   ]
  },
  {
   "cell_type": "code",
   "execution_count": 9,
   "metadata": {
    "ExecuteTime": {
     "end_time": "2020-09-04T06:38:39.586516Z",
     "start_time": "2020-09-04T06:38:39.580627Z"
    }
   },
   "outputs": [
    {
     "name": "stdout",
     "output_type": "stream",
     "text": [
      "existed\n"
     ]
    }
   ],
   "source": [
    "if classifier_file is not None:\n",
    "    print('existed')"
   ]
  },
  {
   "cell_type": "code",
   "execution_count": 14,
   "metadata": {
    "ExecuteTime": {
     "end_time": "2020-09-04T06:43:18.837960Z",
     "start_time": "2020-09-04T06:43:18.610772Z"
    }
   },
   "outputs": [
    {
     "name": "stdout",
     "output_type": "stream",
     "text": [
      "----------------------------------------------------------------\n",
      "        Layer (type)               Output Shape         Param #\n",
      "================================================================\n",
      "            Conv2d-1         [-1, 16, 512, 512]             448\n",
      "            Conv2d-2         [-1, 16, 512, 512]           2,320\n",
      "         MaxPool2d-3         [-1, 16, 256, 256]               0\n",
      "            Conv2d-4         [-1, 16, 256, 256]           2,320\n",
      "            Conv2d-5         [-1, 16, 256, 256]           2,320\n",
      "         MaxPool2d-6         [-1, 16, 128, 128]               0\n",
      "            Conv2d-7         [-1, 16, 128, 128]           2,320\n",
      "            Conv2d-8         [-1, 16, 128, 128]           2,320\n",
      "         MaxPool2d-9           [-1, 16, 64, 64]               0\n",
      "           Conv2d-10           [-1, 32, 64, 64]           4,640\n",
      "           Conv2d-11           [-1, 32, 64, 64]           9,248\n",
      "        MaxPool2d-12           [-1, 32, 32, 32]               0\n",
      "           Conv2d-13           [-1, 32, 32, 32]           9,248\n",
      "           Conv2d-14           [-1, 32, 32, 32]           9,248\n",
      "        MaxPool2d-15           [-1, 32, 16, 16]               0\n",
      "           Conv2d-16           [-1, 32, 16, 16]           9,248\n",
      "           Conv2d-17           [-1, 32, 16, 16]           9,248\n",
      "        MaxPool2d-18             [-1, 32, 8, 8]               0\n",
      "           Conv2d-19             [-1, 64, 8, 8]          18,496\n",
      "           Conv2d-20             [-1, 64, 8, 8]          36,928\n",
      "        MaxPool2d-21             [-1, 64, 4, 4]               0\n",
      "           Linear-22                  [-1, 100]         102,500\n",
      "          Dropout-23                  [-1, 100]               0\n",
      "           Linear-24                   [-1, 50]           5,050\n",
      "          Dropout-25                   [-1, 50]               0\n",
      "           Linear-26                    [-1, 2]             102\n",
      "           CNN_v1-27                    [-1, 2]               0\n",
      "================================================================\n",
      "Total params: 226,004\n",
      "Trainable params: 226,004\n",
      "Non-trainable params: 0\n",
      "----------------------------------------------------------------\n",
      "Input size (MB): 3.00\n",
      "Forward/backward pass size (MB): 97.53\n",
      "Params size (MB): 0.86\n",
      "Estimated Total Size (MB): 101.39\n",
      "----------------------------------------------------------------\n",
      "\n"
     ]
    },
    {
     "data": {
      "text/plain": [
       "(tensor(226004), tensor(226004))"
      ]
     },
     "execution_count": 14,
     "metadata": {},
     "output_type": "execute_result"
    }
   ],
   "source": [
    "network = 'CNN_v1'\n",
    "\n",
    "input_shape = [3, 512, 512]\n",
    "lr = 0.0001\n",
    "\n",
    "\n",
    "n_ch, input_h, input_w = input_shape\n",
    "n_cls= 2\n",
    "\n",
    "if network == 'CNN_v1':\n",
    "    from ce_model.CE_CNNs import CNN_v1\n",
    "    network = CNN_v1(n_ch, n_cls)\n",
    "\n",
    "model = network\n",
    "# model = model.to(self.device)\n",
    "# if device == 'cuda':\n",
    "#     net = torch.nn.DataParallel(net)\n",
    "#     cudnn.benchmark = True\n",
    "#         self.model.train()\n",
    "# self.criterion = nn.CrossEntropyLoss()\n",
    "# self.optimizer = torch.optim.Adam(self.model.parameters(), lr = self.lr)\n",
    "\n",
    "from torchsummary import summary\n",
    "\n",
    "summary(model, (n_ch, input_h, input_w), device = 'cpu')"
   ]
  },
  {
   "cell_type": "code",
   "execution_count": 15,
   "metadata": {
    "ExecuteTime": {
     "end_time": "2020-09-04T06:43:24.537336Z",
     "start_time": "2020-09-04T06:43:24.529907Z"
    }
   },
   "outputs": [
    {
     "data": {
      "text/plain": [
       "CNN_v1(\n",
       "  (conv1_1): Conv2d(3, 16, kernel_size=(3, 3), stride=(1, 1), padding=(1, 1))\n",
       "  (conv1_2): Conv2d(16, 16, kernel_size=(3, 3), stride=(1, 1), padding=(1, 1))\n",
       "  (maxp1): MaxPool2d(kernel_size=2, stride=2, padding=0, dilation=1, ceil_mode=False)\n",
       "  (conv2_1): Conv2d(16, 16, kernel_size=(3, 3), stride=(1, 1), padding=(1, 1))\n",
       "  (conv2_2): Conv2d(16, 16, kernel_size=(3, 3), stride=(1, 1), padding=(1, 1))\n",
       "  (maxp2): MaxPool2d(kernel_size=2, stride=2, padding=0, dilation=1, ceil_mode=False)\n",
       "  (conv3_1): Conv2d(16, 16, kernel_size=(3, 3), stride=(1, 1), padding=(1, 1))\n",
       "  (conv3_2): Conv2d(16, 16, kernel_size=(3, 3), stride=(1, 1), padding=(1, 1))\n",
       "  (maxp3): MaxPool2d(kernel_size=2, stride=2, padding=0, dilation=1, ceil_mode=False)\n",
       "  (conv4_1): Conv2d(16, 32, kernel_size=(3, 3), stride=(1, 1), padding=(1, 1))\n",
       "  (conv4_2): Conv2d(32, 32, kernel_size=(3, 3), stride=(1, 1), padding=(1, 1))\n",
       "  (maxp4): MaxPool2d(kernel_size=2, stride=2, padding=0, dilation=1, ceil_mode=False)\n",
       "  (conv5_1): Conv2d(32, 32, kernel_size=(3, 3), stride=(1, 1), padding=(1, 1))\n",
       "  (conv5_2): Conv2d(32, 32, kernel_size=(3, 3), stride=(1, 1), padding=(1, 1))\n",
       "  (maxp5): MaxPool2d(kernel_size=2, stride=2, padding=0, dilation=1, ceil_mode=False)\n",
       "  (conv6_1): Conv2d(32, 32, kernel_size=(3, 3), stride=(1, 1), padding=(1, 1))\n",
       "  (conv6_2): Conv2d(32, 32, kernel_size=(3, 3), stride=(1, 1), padding=(1, 1))\n",
       "  (maxp6): MaxPool2d(kernel_size=2, stride=2, padding=0, dilation=1, ceil_mode=False)\n",
       "  (conv7_1): Conv2d(32, 64, kernel_size=(3, 3), stride=(1, 1), padding=(1, 1))\n",
       "  (conv7_2): Conv2d(64, 64, kernel_size=(3, 3), stride=(1, 1), padding=(1, 1))\n",
       "  (maxp7): MaxPool2d(kernel_size=2, stride=2, padding=0, dilation=1, ceil_mode=False)\n",
       "  (dense1): Linear(in_features=1024, out_features=100, bias=True)\n",
       "  (dropout1): Dropout(p=0.3, inplace=False)\n",
       "  (dense2): Linear(in_features=100, out_features=50, bias=True)\n",
       "  (dropout2): Dropout(p=0.3, inplace=False)\n",
       "  (dense3): Linear(in_features=50, out_features=2, bias=True)\n",
       ")"
      ]
     },
     "execution_count": 15,
     "metadata": {},
     "output_type": "execute_result"
    }
   ],
   "source": [
    "model"
   ]
  },
  {
   "cell_type": "code",
   "execution_count": 18,
   "metadata": {
    "ExecuteTime": {
     "end_time": "2020-09-04T06:46:10.782930Z",
     "start_time": "2020-09-04T06:46:10.778355Z"
    }
   },
   "outputs": [],
   "source": [
    "import torch as th"
   ]
  },
  {
   "cell_type": "code",
   "execution_count": 19,
   "metadata": {
    "ExecuteTime": {
     "end_time": "2020-09-04T06:46:23.310566Z",
     "start_time": "2020-09-04T06:46:11.312350Z"
    }
   },
   "outputs": [
    {
     "data": {
      "text/plain": [
       "<All keys matched successfully>"
      ]
     },
     "execution_count": 19,
     "metadata": {},
     "output_type": "execute_result"
    }
   ],
   "source": [
    "model.load_state_dict(th.load('model' + '/' + classifier_file))"
   ]
  },
  {
   "cell_type": "code",
   "execution_count": null,
   "metadata": {},
   "outputs": [],
   "source": [
    "        \n",
    "        # load the weights into generator\n",
    "        print(\"loading classifier_weights from:\", classifier_file)\n",
    "        model.load_state_dict(th.load('model' + '/' + classifier_file))"
   ]
  },
  {
   "cell_type": "code",
   "execution_count": 23,
   "metadata": {
    "ExecuteTime": {
     "end_time": "2020-09-04T07:01:26.136291Z",
     "start_time": "2020-09-04T07:01:26.129098Z"
    }
   },
   "outputs": [
    {
     "data": {
      "text/plain": [
       "2"
      ]
     },
     "execution_count": 23,
     "metadata": {},
     "output_type": "execute_result"
    }
   ],
   "source": [
    "50%3"
   ]
  },
  {
   "cell_type": "code",
   "execution_count": 28,
   "metadata": {
    "ExecuteTime": {
     "end_time": "2020-09-04T07:03:09.393395Z",
     "start_time": "2020-09-04T07:03:09.386717Z"
    }
   },
   "outputs": [
    {
     "data": {
      "text/plain": [
       "1"
      ]
     },
     "execution_count": 28,
     "metadata": {},
     "output_type": "execute_result"
    }
   ],
   "source": [
    "1%10"
   ]
  },
  {
   "cell_type": "code",
   "execution_count": 40,
   "metadata": {
    "ExecuteTime": {
     "end_time": "2020-09-04T07:06:21.414499Z",
     "start_time": "2020-09-04T07:06:21.403194Z"
    }
   },
   "outputs": [
    {
     "name": "stdout",
     "output_type": "stream",
     "text": [
      "2의배수 2\n",
      "2의배수 4\n",
      "5의배수 5\n",
      "2의배수 6\n",
      "2의배수 8\n",
      "2의배수 12\n",
      "2의배수 14\n",
      "5의배수 15\n",
      "2의배수 16\n",
      "2의배수 18\n"
     ]
    }
   ],
   "source": [
    "for i in range(20):\n",
    "    \n",
    "    if (i+1)%10 == 0:\n",
    "#         print('10의배수', i+1)\n",
    "        continue\n",
    "    elif (i+1)%2 == 0:\n",
    "        print('2의배수', i+1)\n",
    "    elif (i+1)%5 == 0:\n",
    "        print('5의배수', i+1)"
   ]
  }
 ],
 "metadata": {
  "hide_input": false,
  "kernelspec": {
   "display_name": "Pytorch",
   "language": "python",
   "name": "pytorch"
  },
  "language_info": {
   "codemirror_mode": {
    "name": "ipython",
    "version": 3
   },
   "file_extension": ".py",
   "mimetype": "text/x-python",
   "name": "python",
   "nbconvert_exporter": "python",
   "pygments_lexer": "ipython3",
   "version": "3.5.2"
  },
  "toc": {
   "base_numbering": 1,
   "nav_menu": {},
   "number_sections": false,
   "sideBar": true,
   "skip_h1_title": false,
   "title_cell": "Table of Contents",
   "title_sidebar": "Contents",
   "toc_cell": false,
   "toc_position": {},
   "toc_section_display": true,
   "toc_window_display": false
  }
 },
 "nbformat": 4,
 "nbformat_minor": 2
}
