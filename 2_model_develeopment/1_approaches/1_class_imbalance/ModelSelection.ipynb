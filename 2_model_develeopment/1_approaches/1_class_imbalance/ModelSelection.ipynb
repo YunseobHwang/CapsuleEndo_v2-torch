{
 "cells": [
  {
   "cell_type": "code",
   "execution_count": 1,
   "metadata": {
    "ExecuteTime": {
     "end_time": "2020-09-04T06:09:19.941452Z",
     "start_time": "2020-09-04T06:09:19.353883Z"
    }
   },
   "outputs": [],
   "source": [
    "import sys\n",
    "sys.path.append('/mnt/disk1/yunseob/Pytorch/1_CapsuleEndo/algorithms')\n",
    "from ce_model.CE_training import CNN_Training"
   ]
  },
  {
   "cell_type": "code",
   "execution_count": 3,
   "metadata": {
    "ExecuteTime": {
     "end_time": "2020-09-04T06:09:24.215734Z",
     "start_time": "2020-09-04T06:09:24.208461Z"
    }
   },
   "outputs": [
    {
     "name": "stdout",
     "output_type": "stream",
     "text": [
      "Best Model: 01_np-hd_no_sample_mixed_0.0001_32_2009031928_004_t_accr_0.6735_t_loss_0.633076_v_accr_0.7001_v_loss_0.621841.pt\n"
     ]
    }
   ],
   "source": [
    "CNN_Training.ModelSelection(model_dir='model', model_name='01_np-hd_no_sample_mixed')"
   ]
  },
  {
   "cell_type": "code",
   "execution_count": 4,
   "metadata": {
    "ExecuteTime": {
     "end_time": "2020-09-04T06:10:01.111321Z",
     "start_time": "2020-09-04T06:10:01.091235Z"
    }
   },
   "outputs": [
    {
     "name": "stdout",
     "output_type": "stream",
     "text": [
      "Best Model: 01_np-hd_undersample_0.0001_32_2009032310_393_t_accr_0.9773_t_loss_0.335677_v_accr_0.9283_v_loss_0.384046.pt\n"
     ]
    }
   ],
   "source": [
    "CNN_Training.ModelSelection(model_dir='model', model_name='01_np-hd_undersample')"
   ]
  },
  {
   "cell_type": "code",
   "execution_count": 5,
   "metadata": {
    "ExecuteTime": {
     "end_time": "2020-09-04T06:15:46.964517Z",
     "start_time": "2020-09-04T06:15:46.955237Z"
    }
   },
   "outputs": [
    {
     "data": {
      "text/plain": [
       "0.0001"
      ]
     },
     "execution_count": 5,
     "metadata": {},
     "output_type": "execute_result"
    }
   ],
   "source": [
    "1e-4"
   ]
  }
 ],
 "metadata": {
  "hide_input": false,
  "kernelspec": {
   "display_name": "Pytorch",
   "language": "python",
   "name": "pytorch"
  },
  "language_info": {
   "codemirror_mode": {
    "name": "ipython",
    "version": 3
   },
   "file_extension": ".py",
   "mimetype": "text/x-python",
   "name": "python",
   "nbconvert_exporter": "python",
   "pygments_lexer": "ipython3",
   "version": "3.5.2"
  },
  "toc": {
   "base_numbering": 1,
   "nav_menu": {},
   "number_sections": false,
   "sideBar": true,
   "skip_h1_title": false,
   "title_cell": "Table of Contents",
   "title_sidebar": "Contents",
   "toc_cell": false,
   "toc_position": {},
   "toc_section_display": true,
   "toc_window_display": false
  }
 },
 "nbformat": 4,
 "nbformat_minor": 2
}
