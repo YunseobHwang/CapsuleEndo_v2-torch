{
 "cells": [
  {
   "cell_type": "code",
   "execution_count": 1,
   "metadata": {
    "ExecuteTime": {
     "end_time": "2020-10-27T04:42:23.370542Z",
     "start_time": "2020-10-27T04:42:22.885113Z"
    }
   },
   "outputs": [],
   "source": [
    "import numpy as np\n",
    "from sklearn.metrics import confusion_matrix"
   ]
  },
  {
   "cell_type": "code",
   "execution_count": 6,
   "metadata": {
    "ExecuteTime": {
     "end_time": "2020-10-26T04:22:06.050745Z",
     "start_time": "2020-10-26T04:22:06.045307Z"
    }
   },
   "outputs": [],
   "source": [
    "true = [1, 1, 0, 1, 1, 0, 0, 1, 0, 1]\n",
    "pred = [1, 1, 1, 0, 1, 0, 0, 1, 1, 1]"
   ]
  },
  {
   "cell_type": "code",
   "execution_count": 7,
   "metadata": {
    "ExecuteTime": {
     "end_time": "2020-10-26T04:22:07.004321Z",
     "start_time": "2020-10-26T04:22:06.994319Z"
    }
   },
   "outputs": [
    {
     "data": {
      "text/plain": [
       "array([[2, 2],\n",
       "       [1, 5]])"
      ]
     },
     "execution_count": 7,
     "metadata": {},
     "output_type": "execute_result"
    }
   ],
   "source": [
    "confusion_matrix(true, pred)"
   ]
  },
  {
   "cell_type": "code",
   "execution_count": 36,
   "metadata": {
    "ExecuteTime": {
     "end_time": "2020-10-26T04:33:20.698626Z",
     "start_time": "2020-10-26T04:33:20.690296Z"
    },
    "scrolled": true
   },
   "outputs": [
    {
     "data": {
      "text/plain": [
       "array([[95,  5],\n",
       "       [12, 88]])"
      ]
     },
     "execution_count": 36,
     "metadata": {},
     "output_type": "execute_result"
    }
   ],
   "source": [
    "cm = np.array([[95, 5], \n",
    "                 [12, 88]])\n",
    "\n",
    "cm"
   ]
  },
  {
   "cell_type": "code",
   "execution_count": 37,
   "metadata": {
    "ExecuteTime": {
     "end_time": "2020-10-26T04:33:20.816447Z",
     "start_time": "2020-10-26T04:33:20.799656Z"
    }
   },
   "outputs": [
    {
     "name": "stdout",
     "output_type": "stream",
     "text": [
      "91.5 88.0 95.0 88.79 94.62\n"
     ]
    }
   ],
   "source": [
    "accr = round(100*np.trace(cm) / np.sum(cm), 2)\n",
    "spec = round(100*cm[0, 0] / np.sum(cm[0, :]), 2)\n",
    "npv = round(100*cm[0, 0] / np.sum(cm[:, 0]), 2)\n",
    "\n",
    "sen = np.zeros(len(cm))\n",
    "ppv = np.zeros(len(cm))\n",
    "\n",
    "for i in range(1, len(cm)):\n",
    "    sen[i] = np.sum(cm[i, :])*(cm[i, i] / np.sum(cm[i, :]))\n",
    "    ppv[i] = np.sum(cm[:, i])*(cm[i, i] / np.sum(cm[:, i]))\n",
    "    \n",
    "sen = round(100*np.sum(sen)/np.sum(cm[1:, :]), 2)\n",
    "ppv = round(100*np.sum(ppv)/np.sum(cm[:, 1:]), 2)\n",
    "\n",
    "print(accr, sen, spec, npv, ppv)"
   ]
  },
  {
   "cell_type": "code",
   "execution_count": 39,
   "metadata": {
    "ExecuteTime": {
     "end_time": "2020-10-26T04:33:25.796000Z",
     "start_time": "2020-10-26T04:33:25.776001Z"
    }
   },
   "outputs": [
    {
     "name": "stdout",
     "output_type": "stream",
     "text": [
      "50.0 0.0 100.0 50.0 nan\n"
     ]
    },
    {
     "name": "stderr",
     "output_type": "stream",
     "text": [
      "/home/yunseob/Pytorch/lib/python3.5/site-packages/ipykernel_launcher.py:13: RuntimeWarning: invalid value encountered in long_scalars\n",
      "  del sys.path[0]\n"
     ]
    }
   ],
   "source": [
    "cm = np.array([[100, 0], \n",
    "                 [100, 0]])\n",
    "\n",
    "accr = round(100*np.trace(cm) / np.sum(cm), 2)\n",
    "spec = round(100*cm[0, 0] / np.sum(cm[0, :]), 2)\n",
    "npv = round(100*cm[0, 0] / np.sum(cm[:, 0]), 2)\n",
    "\n",
    "sen = np.zeros(len(cm))\n",
    "ppv = np.zeros(len(cm))\n",
    "\n",
    "for i in range(1, len(cm)):\n",
    "    sen[i] = np.sum(cm[i, :])*(cm[i, i] / np.sum(cm[i, :]))\n",
    "    ppv[i] = np.sum(cm[:, i])*(cm[i, i] / np.sum(cm[:, i]))\n",
    "    \n",
    "sen = round(100*np.sum(sen)/np.sum(cm[1:, :]), 2)\n",
    "ppv = round(100*np.sum(ppv)/np.sum(cm[:, 1:]), 2)\n",
    "\n",
    "print(accr, sen, spec, npv, ppv)"
   ]
  },
  {
   "cell_type": "code",
   "execution_count": 41,
   "metadata": {
    "ExecuteTime": {
     "end_time": "2020-10-26T04:33:46.569855Z",
     "start_time": "2020-10-26T04:33:46.559628Z"
    }
   },
   "outputs": [
    {
     "name": "stdout",
     "output_type": "stream",
     "text": [
      "50.0 100.0 0.0 nan 50.0\n"
     ]
    },
    {
     "name": "stderr",
     "output_type": "stream",
     "text": [
      "/home/yunseob/Pytorch/lib/python3.5/site-packages/ipykernel_launcher.py:6: RuntimeWarning: invalid value encountered in long_scalars\n",
      "  \n"
     ]
    }
   ],
   "source": [
    "cm = np.array([[0, 100], \n",
    "                 [0, 100]])\n",
    "\n",
    "accr = round(100*np.trace(cm) / np.sum(cm), 2)\n",
    "spec = round(100*cm[0, 0] / np.sum(cm[0, :]), 2)\n",
    "npv = round(100*cm[0, 0] / np.sum(cm[:, 0]), 2)\n",
    "\n",
    "sen = np.zeros(len(cm))\n",
    "ppv = np.zeros(len(cm))\n",
    "\n",
    "for i in range(1, len(cm)):\n",
    "    sen[i] = np.sum(cm[i, :])*(cm[i, i] / np.sum(cm[i, :]))\n",
    "    ppv[i] = np.sum(cm[:, i])*(cm[i, i] / np.sum(cm[:, i]))\n",
    "    \n",
    "sen = round(100*np.sum(sen)/np.sum(cm[1:, :]), 2)\n",
    "ppv = round(100*np.sum(ppv)/np.sum(cm[:, 1:]), 2)\n",
    "\n",
    "print(accr, sen, spec, npv, ppv)"
   ]
  },
  {
   "cell_type": "code",
   "execution_count": 47,
   "metadata": {
    "ExecuteTime": {
     "end_time": "2020-10-26T04:37:14.081802Z",
     "start_time": "2020-10-26T04:37:14.056037Z"
    },
    "scrolled": true
   },
   "outputs": [
    {
     "name": "stdout",
     "output_type": "stream",
     "text": [
      "[88. 90.]\n",
      "200\n",
      "90.0 89.0 92.0 87.62 91.28\n"
     ]
    }
   ],
   "source": [
    "cm = np.array([[92, 5, 3], \n",
    "               [10, 88, 2], \n",
    "               [3, 7, 90]])\n",
    "\n",
    "accr = round(100*np.trace(cm) / np.sum(cm), 2)\n",
    "spec = round(100*cm[0, 0] / np.sum(cm[0, :]), 2)\n",
    "npv = round(100*cm[0, 0] / np.sum(cm[:, 0]), 2)\n",
    "\n",
    "sen = np.zeros(len(cm)-1)\n",
    "ppv = np.zeros(len(cm)-1)\n",
    "\n",
    "for i in range(1, len(cm)):\n",
    "    sen[i-1] = np.sum(cm[i, :])*(cm[i, i] / np.sum(cm[i, :]))\n",
    "    ppv[i-1] = np.sum(cm[:, i])*(cm[i, i] / np.sum(cm[:, i]))\n",
    "\n",
    "sen = round(100*np.sum(sen)/np.sum(cm[1:, :]), 2)\n",
    "ppv = round(100*np.sum(ppv)/np.sum(cm[:, 1:]), 2)\n",
    "\n",
    "print(accr, sen, spec, npv, ppv)\n"
   ]
  },
  {
   "cell_type": "code",
   "execution_count": 51,
   "metadata": {
    "ExecuteTime": {
     "end_time": "2020-10-26T04:38:51.848100Z",
     "start_time": "2020-10-26T04:38:51.824305Z"
    }
   },
   "outputs": [
    {
     "name": "stdout",
     "output_type": "stream",
     "text": [
      "[90. nan]\n",
      "60.67 45.0 92.0 87.62 nan\n"
     ]
    },
    {
     "name": "stderr",
     "output_type": "stream",
     "text": [
      "/home/yunseob/Pytorch/lib/python3.5/site-packages/ipykernel_launcher.py:14: RuntimeWarning: invalid value encountered in long_scalars\n",
      "  \n"
     ]
    }
   ],
   "source": [
    "cm = np.array([[92, 8, 0], \n",
    "               [10, 90, 0], \n",
    "               [3, 97, 0]])\n",
    "\n",
    "accr = round(100*np.trace(cm) / np.sum(cm), 2)\n",
    "spec = round(100*cm[0, 0] / np.sum(cm[0, :]), 2)\n",
    "npv = round(100*cm[0, 0] / np.sum(cm[:, 0]), 2)\n",
    "\n",
    "sen = np.zeros(len(cm)-1)\n",
    "ppv = np.zeros(len(cm)-1)\n",
    "\n",
    "for i in range(1, len(cm)):\n",
    "    sen[i-1] = np.sum(cm[i, :])*(cm[i, i] / np.sum(cm[i, :]))\n",
    "    ppv[i-1] = np.sum(cm[:, i])*(cm[i, i] / np.sum(cm[:, i]))\n",
    "\n",
    "print(ppv)\n",
    "sen = round(100*np.sum(sen)/np.sum(cm[1:, :]), 2)\n",
    "ppv = round(100*np.sum(ppv)/np.sum(cm[:, 1:]), 2)\n",
    "\n",
    "print(accr, sen, spec, npv, ppv)\n"
   ]
  },
  {
   "cell_type": "code",
   "execution_count": 63,
   "metadata": {
    "ExecuteTime": {
     "end_time": "2020-10-26T04:45:10.786262Z",
     "start_time": "2020-10-26T04:45:10.781440Z"
    }
   },
   "outputs": [
    {
     "data": {
      "text/plain": [
       "array([[92,  8,  0],\n",
       "       [10, 90,  0],\n",
       "       [ 3, 97,  0]])"
      ]
     },
     "execution_count": 63,
     "metadata": {},
     "output_type": "execute_result"
    }
   ],
   "source": [
    "cm"
   ]
  },
  {
   "cell_type": "code",
   "execution_count": null,
   "metadata": {},
   "outputs": [],
   "source": []
  },
  {
   "cell_type": "code",
   "execution_count": 97,
   "metadata": {
    "ExecuteTime": {
     "end_time": "2020-10-26T04:55:33.491841Z",
     "start_time": "2020-10-26T04:55:33.466786Z"
    }
   },
   "outputs": [
    {
     "ename": "AssertionError",
     "evalue": "Totally misclassified class exists",
     "output_type": "error",
     "traceback": [
      "\u001b[0;31m---------------------------------------------------------------------------\u001b[0m",
      "\u001b[0;31mAssertionError\u001b[0m                            Traceback (most recent call last)",
      "\u001b[0;32m<ipython-input-97-2066de4c76e8>\u001b[0m in \u001b[0;36m<module>\u001b[0;34m\u001b[0m\n\u001b[1;32m      3\u001b[0m                [3, 97, 0]])\n\u001b[1;32m      4\u001b[0m \u001b[0;34m\u001b[0m\u001b[0m\n\u001b[0;32m----> 5\u001b[0;31m \u001b[0;32massert\u001b[0m \u001b[0;36m0\u001b[0m \u001b[0;32mnot\u001b[0m \u001b[0;32min\u001b[0m \u001b[0mnp\u001b[0m\u001b[0;34m.\u001b[0m\u001b[0msum\u001b[0m\u001b[0;34m(\u001b[0m\u001b[0mcm\u001b[0m\u001b[0;34m,\u001b[0m \u001b[0maxis\u001b[0m \u001b[0;34m=\u001b[0m \u001b[0;36m0\u001b[0m\u001b[0;34m)\u001b[0m\u001b[0;34m,\u001b[0m \u001b[0;34m'Totally misclassified class exists'\u001b[0m\u001b[0;34m\u001b[0m\u001b[0m\n\u001b[0m\u001b[1;32m      6\u001b[0m \u001b[0;34m\u001b[0m\u001b[0m\n\u001b[1;32m      7\u001b[0m \u001b[0maccr\u001b[0m \u001b[0;34m=\u001b[0m \u001b[0mround\u001b[0m\u001b[0;34m(\u001b[0m\u001b[0;36m100\u001b[0m\u001b[0;34m*\u001b[0m\u001b[0mnp\u001b[0m\u001b[0;34m.\u001b[0m\u001b[0mtrace\u001b[0m\u001b[0;34m(\u001b[0m\u001b[0mcm\u001b[0m\u001b[0;34m)\u001b[0m \u001b[0;34m/\u001b[0m \u001b[0mnp\u001b[0m\u001b[0;34m.\u001b[0m\u001b[0msum\u001b[0m\u001b[0;34m(\u001b[0m\u001b[0mcm\u001b[0m\u001b[0;34m)\u001b[0m\u001b[0;34m,\u001b[0m \u001b[0;36m2\u001b[0m\u001b[0;34m)\u001b[0m\u001b[0;34m\u001b[0m\u001b[0m\n",
      "\u001b[0;31mAssertionError\u001b[0m: Totally misclassified class exists"
     ]
    }
   ],
   "source": [
    "cm = np.array([[92, 8, 0], \n",
    "               [10, 90, 0], \n",
    "               [3, 97, 0]])\n",
    "\n",
    "assert 0 not in np.sum(cm, axis = 0), 'Totally misclassified class exists'\n",
    "\n",
    "accr = round(100*np.trace(cm) / np.sum(cm), 2)\n",
    "spec = round(100*cm[0, 0] / np.sum(cm[0, :]), 2)\n",
    "npv = round(100*cm[0, 0] / np.sum(cm[:, 0]), 2)\n",
    "\n",
    "sen = np.zeros(len(cm)-1)\n",
    "ppv = np.zeros(len(cm)-1)\n",
    "\n",
    "for i in range(1, len(cm)):\n",
    "    sen[i-1] = np.sum(cm[i, :])*(cm[i, i] / np.sum(cm[i, :]))\n",
    "    ppv[i-1] = np.sum(cm[:, i])*(cm[i, i] / np.sum(cm[:, i]))\n",
    "\n",
    "print(ppv)\n",
    "sen = round(100*np.sum(sen)/np.sum(cm[1:, :]), 2)\n",
    "ppv = round(100*np.sum(ppv)/np.sum(cm[:, 1:]), 2)\n",
    "\n",
    "print(accr, sen, spec, npv, ppv)"
   ]
  },
  {
   "cell_type": "code",
   "execution_count": 98,
   "metadata": {
    "ExecuteTime": {
     "end_time": "2020-10-26T04:56:01.576187Z",
     "start_time": "2020-10-26T04:56:01.558390Z"
    }
   },
   "outputs": [
    {
     "name": "stdout",
     "output_type": "stream",
     "text": [
      "[88. 90.]\n",
      "90.0 89.0 92.0 87.62 91.28\n"
     ]
    }
   ],
   "source": [
    "cm = np.array([[92, 5, 3], \n",
    "               [10, 88, 2], \n",
    "               [3, 7, 90]])\n",
    "\n",
    "assert 0 not in np.sum(cm, axis = 0), 'Totally misclassified class exists'\n",
    "\n",
    "accr = round(100*np.trace(cm) / np.sum(cm), 2)\n",
    "spec = round(100*cm[0, 0] / np.sum(cm[0, :]), 2)\n",
    "npv = round(100*cm[0, 0] / np.sum(cm[:, 0]), 2)\n",
    "\n",
    "sen = np.zeros(len(cm)-1)\n",
    "ppv = np.zeros(len(cm)-1)\n",
    "\n",
    "for i in range(1, len(cm)):\n",
    "    sen[i-1] = np.sum(cm[i, :])*(cm[i, i] / np.sum(cm[i, :]))\n",
    "    ppv[i-1] = np.sum(cm[:, i])*(cm[i, i] / np.sum(cm[:, i]))\n",
    "\n",
    "sen = round(100*np.sum(sen)/np.sum(cm[1:, :]), 2)\n",
    "ppv = round(100*np.sum(ppv)/np.sum(cm[:, 1:]), 2)\n",
    "\n",
    "print(accr, sen, spec, npv, ppv)"
   ]
  },
  {
   "cell_type": "code",
   "execution_count": 2,
   "metadata": {
    "ExecuteTime": {
     "end_time": "2020-10-26T05:27:26.070118Z",
     "start_time": "2020-10-26T05:27:26.048684Z"
    }
   },
   "outputs": [
    {
     "name": "stdout",
     "output_type": "stream",
     "text": [
      "90.5 90.0 92.0 87.62 91.53\n"
     ]
    }
   ],
   "source": [
    "cm = np.array([[92, 5, 3, 0], \n",
    "               [10, 88, 0, 2], \n",
    "               [3, 1, 90, 6], \n",
    "               [0, 4, 4, 92]])\n",
    "\n",
    "assert 0 not in np.sum(cm, axis = 0), 'Totally misclassified class exists'\n",
    "\n",
    "accr = round(100*np.trace(cm) / np.sum(cm), 2)\n",
    "spec = round(100*cm[0, 0] / np.sum(cm[0, :]), 2)\n",
    "npv = round(100*cm[0, 0] / np.sum(cm[:, 0]), 2)\n",
    "\n",
    "sen = np.zeros(len(cm)-1)\n",
    "ppv = np.zeros(len(cm)-1)\n",
    "\n",
    "for i in range(1, len(cm)):\n",
    "    sen[i-1] = np.sum(cm[i, :])*(cm[i, i] / np.sum(cm[i, :]))\n",
    "    ppv[i-1] = np.sum(cm[:, i])*(cm[i, i] / np.sum(cm[:, i]))\n",
    "\n",
    "sen = round(100*np.sum(sen)/np.sum(cm[1:, :]), 2)\n",
    "ppv = round(100*np.sum(ppv)/np.sum(cm[:, 1:]), 2)\n",
    "\n",
    "print(accr, sen, spec, npv, ppv)"
   ]
  },
  {
   "cell_type": "code",
   "execution_count": null,
   "metadata": {},
   "outputs": [],
   "source": [
    "assert 0 not in np.sum(self.cm, axis = 0), 'Totally misclassified class exists'\n",
    "\n",
    "accr = round(100*np.trace(self.cm) / np.sum(self.cm), 2)\n",
    "spec = round(100*self.cm[0, 0] / np.sum(self.cm[0, :]), 2)\n",
    "npv = round(100*self.cm[0, 0] / np.sum(self.cm[:, 0]), 2)\n",
    "\n",
    "sen = np.zeros(len(self.cm)-1)\n",
    "ppv = np.zeros(len(self.cm)-1)\n",
    "\n",
    "for i in range(1, len(self.cm)):\n",
    "    sen[i-1] = np.sum(self.cm[i, :])*(self.cm[i, i] / np.sum(self.cm[i, :]))\n",
    "    ppv[i-1] = np.sum(self.cm[:, i])*(self.cm[i, i] / np.sum(self.cm[:, i]))\n",
    "\n",
    "sen = round(100*np.sum(sen)/np.sum(self.cm[1:, :]), 2)\n",
    "ppv = round(100*np.sum(ppv)/np.sum(self.cm[:, 1:]), 2)"
   ]
  },
  {
   "cell_type": "code",
   "execution_count": null,
   "metadata": {},
   "outputs": [],
   "source": []
  },
  {
   "cell_type": "code",
   "execution_count": null,
   "metadata": {},
   "outputs": [],
   "source": []
  },
  {
   "cell_type": "code",
   "execution_count": 3,
   "metadata": {
    "ExecuteTime": {
     "end_time": "2020-10-26T05:27:47.243042Z",
     "start_time": "2020-10-26T05:27:47.237667Z"
    }
   },
   "outputs": [],
   "source": [
    "cm = np.array([[92, 8, 0], \n",
    "               [10, 90, 0], \n",
    "               [3, 97, 0]])"
   ]
  },
  {
   "cell_type": "code",
   "execution_count": null,
   "metadata": {},
   "outputs": [],
   "source": [
    "np.sum()"
   ]
  },
  {
   "cell_type": "code",
   "execution_count": 3,
   "metadata": {
    "ExecuteTime": {
     "end_time": "2020-10-27T04:42:36.133060Z",
     "start_time": "2020-10-27T04:42:36.109054Z"
    }
   },
   "outputs": [
    {
     "name": "stdout",
     "output_type": "stream",
     "text": [
      "90.5 90.0 92.0 87.62 91.53\n"
     ]
    }
   ],
   "source": [
    "cm = np.array([[92, 5, 3, 0], \n",
    "               [10, 88, 0, 2], \n",
    "               [3, 1, 90, 6], \n",
    "               [0, 4, 4, 92]])\n",
    "\n",
    "# assert 0 not in np.sum(cm, axis = 0), 'Totally misclassified class exists'\n",
    "\n",
    "accr = round(100*np.trace(cm) / np.sum(cm), 2)\n",
    "spec = round(100*cm[0, 0] / np.sum(cm[0, :]), 2)\n",
    "npv = round(100*cm[0, 0] / np.sum(cm[:, 0]), 2)\n",
    "\n",
    "sen = np.zeros(len(cm)-1)\n",
    "ppv = np.zeros(len(cm)-1)\n",
    "\n",
    "for i in range(1, len(cm)):\n",
    "    sen[i-1] = np.sum(cm[i, :])*(cm[i, i] / np.sum(cm[i, :]))\n",
    "    if np.sum(cm[:, i]) > 0:\n",
    "        ppv[i-1] = np.sum(cm[:, i])*(cm[i, i] / np.sum(cm[:, i]))\n",
    "    elif np.sum(cm[:, i]) == 0:\n",
    "        ppv[i-1] = 0\n",
    "\n",
    "sen = round(100*np.sum(sen)/np.sum(cm[1:, :]), 2)\n",
    "ppv = round(100*np.sum(ppv)/np.sum(cm[:, 1:]), 2)\n",
    "\n",
    "print(accr, sen, spec, npv, ppv)"
   ]
  },
  {
   "cell_type": "code",
   "execution_count": 8,
   "metadata": {
    "ExecuteTime": {
     "end_time": "2020-10-27T04:44:35.350868Z",
     "start_time": "2020-10-27T04:44:35.327663Z"
    }
   },
   "outputs": [
    {
     "name": "stdout",
     "output_type": "stream",
     "text": [
      "Totally misclassified class exists\n",
      "45.5 30.0 92.0 87.62 30.51\n"
     ]
    }
   ],
   "source": [
    "cm = np.array([[92, 8, 0, 0], \n",
    "               [10, 90, 0, 0], \n",
    "               [3, 97, 0, 0], \n",
    "              [0, 0, 100, 0]])\n",
    "\n",
    "# assert 0 not in np.sum(cm, axis = 0), 'Totally misclassified class exists'\n",
    "\n",
    "if 0 in np.sum(cm, axis = 0):\n",
    "    print('Totally misclassified class exists')\n",
    "\n",
    "accr = round(100*np.trace(cm) / np.sum(cm), 2)\n",
    "spec = round(100*cm[0, 0] / np.sum(cm[0, :]), 2)\n",
    "npv = round(100*cm[0, 0] / np.sum(cm[:, 0]), 2)\n",
    "\n",
    "sen = np.zeros(len(cm)-1)\n",
    "ppv = np.zeros(len(cm)-1)\n",
    "\n",
    "for i in range(1, len(cm)):\n",
    "    sen[i-1] = np.sum(cm[i, :])*(cm[i, i] / np.sum(cm[i, :]))\n",
    "    if np.sum(cm[:, i]) > 0:\n",
    "        ppv[i-1] = np.sum(cm[:, i])*(cm[i, i] / np.sum(cm[:, i]))\n",
    "    elif np.sum(cm[:, i]) == 0:\n",
    "        ppv[i-1] = 0\n",
    "\n",
    "sen = round(100*np.sum(sen)/np.sum(cm[1:, :]), 2)\n",
    "ppv = round(100*np.sum(ppv)/np.sum(cm[:, 1:]), 2)\n",
    "\n",
    "print(accr, sen, spec, npv, ppv)"
   ]
  }
 ],
 "metadata": {
  "hide_input": false,
  "kernelspec": {
   "display_name": "Pytorch",
   "language": "python",
   "name": "pytorch"
  },
  "language_info": {
   "codemirror_mode": {
    "name": "ipython",
    "version": 3
   },
   "file_extension": ".py",
   "mimetype": "text/x-python",
   "name": "python",
   "nbconvert_exporter": "python",
   "pygments_lexer": "ipython3",
   "version": "3.5.2"
  },
  "toc": {
   "base_numbering": 1,
   "nav_menu": {},
   "number_sections": false,
   "sideBar": true,
   "skip_h1_title": false,
   "title_cell": "Table of Contents",
   "title_sidebar": "Contents",
   "toc_cell": false,
   "toc_position": {},
   "toc_section_display": true,
   "toc_window_display": false
  }
 },
 "nbformat": 4,
 "nbformat_minor": 2
}
