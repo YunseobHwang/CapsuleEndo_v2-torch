{
 "cells": [
  {
   "cell_type": "code",
   "execution_count": 2,
   "metadata": {
    "ExecuteTime": {
     "end_time": "2020-11-11T06:15:35.400533Z",
     "start_time": "2020-11-11T06:15:35.389949Z"
    }
   },
   "outputs": [],
   "source": [
    "import os\n",
    "\n",
    "direc = '/mnt/disk1/yunseob/Pytorch/1_CapsuleEndo/model_developlment/2_AI_feedback/4_add_200917/t-SNE plot'\n",
    "os.chdir(direc)\n",
    "\n",
    "for filename in os.listdir(direc):\n",
    "    if 'v2.png' in filename:\n",
    "        new_filename = filename.replace('v2.png', '.png')\n",
    "        os.rename(filename, new_filename)"
   ]
  },
  {
   "cell_type": "code",
   "execution_count": null,
   "metadata": {},
   "outputs": [],
   "source": []
  },
  {
   "cell_type": "code",
   "execution_count": null,
   "metadata": {},
   "outputs": [],
   "source": []
  },
  {
   "cell_type": "code",
   "execution_count": null,
   "metadata": {},
   "outputs": [],
   "source": []
  }
 ],
 "metadata": {
  "hide_input": false,
  "kernelspec": {
   "display_name": "Pytorch",
   "language": "python",
   "name": "pytorch"
  },
  "language_info": {
   "codemirror_mode": {
    "name": "ipython",
    "version": 3
   },
   "file_extension": ".py",
   "mimetype": "text/x-python",
   "name": "python",
   "nbconvert_exporter": "python",
   "pygments_lexer": "ipython3",
   "version": "3.5.2"
  },
  "toc": {
   "base_numbering": 1,
   "nav_menu": {},
   "number_sections": false,
   "sideBar": true,
   "skip_h1_title": false,
   "title_cell": "Table of Contents",
   "title_sidebar": "Contents",
   "toc_cell": false,
   "toc_position": {},
   "toc_section_display": true,
   "toc_window_display": false
  }
 },
 "nbformat": 4,
 "nbformat_minor": 2
}
