{
 "cells": [
  {
   "cell_type": "code",
   "execution_count": 1,
   "metadata": {
    "ExecuteTime": {
     "end_time": "2021-01-25T21:50:29.998024Z",
     "start_time": "2021-01-25T21:50:29.319352Z"
    }
   },
   "outputs": [],
   "source": [
    "import numpy as np\n",
    "import matplotlib.pyplot as plt\n",
    "import os\n",
    "import pandas as pd\n",
    "import sys\n",
    "import time, datetime\n",
    "import torch\n",
    "from torch import nn\n",
    "from torch.nn import functional as F"
   ]
  },
  {
   "cell_type": "code",
   "execution_count": 2,
   "metadata": {
    "ExecuteTime": {
     "end_time": "2021-01-25T21:50:35.642333Z",
     "start_time": "2021-01-25T21:50:30.000725Z"
    }
   },
   "outputs": [
    {
     "name": "stdout",
     "output_type": "stream",
     "text": [
      "Device: GeForce RTX 2080 Ti (cuda:3)\n",
      "\n"
     ]
    }
   ],
   "source": [
    "gpu_idx = 3\n",
    "\n",
    "if torch.cuda.is_available() and type(gpu_idx) == int:\n",
    "    device = torch.device(\"cuda:{}\".format(gpu_idx))\n",
    "    current_device = torch.cuda.current_device()\n",
    "    print(\"Device: {} ({})\\n\".format(torch.cuda.get_device_name(current_device), device))\n",
    "else:\n",
    "    device = torch.device('cpu')\n",
    "    print(\"Device: CPU\\n\")"
   ]
  },
  {
   "cell_type": "markdown",
   "metadata": {},
   "source": [
    "# 1. Load Testing Data"
   ]
  },
  {
   "cell_type": "code",
   "execution_count": 3,
   "metadata": {
    "ExecuteTime": {
     "end_time": "2021-01-25T21:50:35.739897Z",
     "start_time": "2021-01-25T21:50:35.645809Z"
    }
   },
   "outputs": [],
   "source": [
    "import pickle, cv2\n",
    "\n",
    "def gen_label(data, cls):\n",
    "#     label = cls*np.ones([data.shape[0]])\n",
    "    label = cls*np.ones([len(data)])\n",
    "    return label\n",
    "\n",
    "def Image_norm(img, mean = [0.485, 0.456, 0.406], std = [0.229, 0.224, 0.225]):\n",
    "    \"\"\"\n",
    "    img: np.array (h, w, ch) or (n, h, w, ch) ~ [0, 255] integer\n",
    "    mean and std vaules were used for normalizing input data to ImageNet models in torch \n",
    "    \"\"\"\n",
    "    return (img/255-mean)/std\n",
    "\n",
    "def reshape4torch(img, norm = False):\n",
    "    \"\"\"\n",
    "    (sample #, height, width, channel) -> (sample #, channel, height, width)\n",
    "    \"\"\"\n",
    "    if norm == True:\n",
    "        img = Image_norm(img)\n",
    "        \n",
    "    if len(img.shape) == 4:\n",
    "        img = np.transpose(img, (0, 3, 1, 2))\n",
    "        return img\n",
    "    elif len(img.shape) == 3:\n",
    "        img = np.transpose(img, (2, 0, 1))\n",
    "        return np.expand_dims(img, axis=0)\n",
    "\n",
    "def load_image_from_path(path_list, normalization = False, extract_name = False):\n",
    "    data = []\n",
    "    for i in path_list:\n",
    "        temp = cv2.imread(i)\n",
    "\n",
    "        data.append(temp)\n",
    "    if extract_name != False:\n",
    "        name = []\n",
    "        for i in path_list:\n",
    "            name.append(os.path.basename(i))\n",
    "        return reshape4torch(np.asarray(data), norm = normalization), np.asarray(name)\n",
    "    else:\n",
    "        return reshape4torch(np.asarray(data), norm = normalization)\n",
    "\n",
    "def test_data_load(filename):\n",
    "    \n",
    "    root = '/mnt/disk2/data/private_data/SMhospital/capsule/1 preprocessed'\n",
    "    data_dir = root + '/database'\n",
    "    \n",
    "    with open(root + '/' + filename, \"rb\") as f:\n",
    "        data_config = pickle.load(f)\n",
    "\n",
    "    test_files = data_config['test_files']\n",
    "\n",
    "    test_names, test_Xs, test_Ys = [], [], []\n",
    "    for i, test_file in enumerate(test_files):\n",
    "        test_path = [os.path.join(data_dir, f) for f in test_file]\n",
    "        print(len(test_path))\n",
    "        test_Ys.append(gen_label(test_path, int(i)))\n",
    "\n",
    "        imgs, filenames = load_image_from_path(test_path, extract_name = True)\n",
    "        test_Xs.append(imgs)\n",
    "        test_names.append(filenames)\n",
    "        \n",
    "    test_name = np.concatenate(test_names)\n",
    "    test_X = np.concatenate(test_Xs)\n",
    "    test_Y = np.concatenate(test_Ys)\n",
    "    \n",
    "    return test_name, test_X, test_Y"
   ]
  },
  {
   "cell_type": "code",
   "execution_count": 4,
   "metadata": {
    "ExecuteTime": {
     "end_time": "2021-01-25T21:50:47.550288Z",
     "start_time": "2021-01-25T21:50:35.742207Z"
    }
   },
   "outputs": [
    {
     "name": "stdout",
     "output_type": "stream",
     "text": [
      "1005\n",
      "1362\n"
     ]
    }
   ],
   "source": [
    "test_name, test_X, test_Y = test_data_load('data_config_np-hd_frb_sv.pkl')"
   ]
  },
  {
   "cell_type": "code",
   "execution_count": 5,
   "metadata": {
    "ExecuteTime": {
     "end_time": "2021-01-25T21:50:47.559891Z",
     "start_time": "2021-01-25T21:50:47.553133Z"
    }
   },
   "outputs": [
    {
     "data": {
      "text/plain": [
       "((2367, 3, 512, 512), (2367,))"
      ]
     },
     "execution_count": 5,
     "metadata": {},
     "output_type": "execute_result"
    }
   ],
   "source": [
    "test_X.shape, test_Y.shape"
   ]
  },
  {
   "cell_type": "markdown",
   "metadata": {},
   "source": [
    "# 2. Load Model"
   ]
  },
  {
   "cell_type": "code",
   "execution_count": 6,
   "metadata": {
    "ExecuteTime": {
     "end_time": "2021-01-25T21:50:47.580406Z",
     "start_time": "2021-01-25T21:50:47.562157Z"
    }
   },
   "outputs": [],
   "source": [
    "class CNN_v1(nn.Module):\n",
    "    def __init__(self, n_ch, n_cls):\n",
    "        super().__init__()\n",
    "\n",
    "        self.conv1_1 = nn.Conv2d(n_ch, 16, 3, 1, padding=1)\n",
    "        self.conv1_2 = nn.Conv2d(16, 16, 3, 1, padding=1)\n",
    "        self.maxp1 = nn.MaxPool2d(2, 2)\n",
    "        \n",
    "        self.conv2_1 = nn.Conv2d(16, 16, 3, 1, padding=1)\n",
    "        self.conv2_2 = nn.Conv2d(16, 16, 3, 1, padding=1)\n",
    "        self.maxp2 = nn.MaxPool2d(2, 2)\n",
    "        \n",
    "        self.conv3_1 = nn.Conv2d(16, 16, 3, 1, padding=1)\n",
    "        self.conv3_2 = nn.Conv2d(16, 16, 3, 1, padding=1)\n",
    "        self.maxp3 = nn.MaxPool2d(2, 2)\n",
    "        \n",
    "        self.conv4_1 = nn.Conv2d(16, 32, 3, 1, padding=1)\n",
    "        self.conv4_2 = nn.Conv2d(32, 32, 3, 1, padding=1)\n",
    "        self.maxp4 = nn.MaxPool2d(2, 2)\n",
    "\n",
    "        self.conv5_1 = nn.Conv2d(32, 32, 3, 1, padding=1)\n",
    "        self.conv5_2 = nn.Conv2d(32, 32, 3, 1, padding=1)\n",
    "        self.maxp5 = nn.MaxPool2d(2, 2)\n",
    "        \n",
    "        self.conv6_1 = nn.Conv2d(32, 32, 3, 1, padding=1)\n",
    "        self.conv6_2 = nn.Conv2d(32, 32, 3, 1, padding=1)\n",
    "        self.maxp6 = nn.MaxPool2d(2, 2)\n",
    "        \n",
    "        self.conv7_1 = nn.Conv2d(32, 64, 3, 1, padding=1)\n",
    "        self.conv7_2 = nn.Conv2d(64, 64, 3, 1, padding=1)\n",
    "        self.maxp7 = nn.MaxPool2d(2, 2)\n",
    "        \n",
    "        self.dense1 = nn.Linear(4*4*64, 100)\n",
    "        self.dropout1 = nn.Dropout(0.3)\n",
    "        self.dense2 = nn.Linear(100, 50)\n",
    "        self.dropout2 = nn.Dropout(0.3)\n",
    "        self.dense3 = nn.Linear(50, n_cls)\n",
    "        \n",
    "    def forward(self, x):\n",
    "        x = F.relu(self.conv1_1(x))\n",
    "        x = F.relu(self.conv1_2(x))\n",
    "        x = self.maxp1(x)\n",
    "        x = F.relu(self.conv2_1(x))\n",
    "        x = F.relu(self.conv2_2(x))\n",
    "        x = self.maxp2(x)\n",
    "        x = F.relu(self.conv3_1(x))\n",
    "        x = F.relu(self.conv3_2(x))\n",
    "        x = self.maxp3(x)\n",
    "        x = F.relu(self.conv4_1(x))\n",
    "        x = F.relu(self.conv4_2(x))\n",
    "        x = self.maxp4(x)\n",
    "        x = F.relu(self.conv5_1(x))\n",
    "        x = F.relu(self.conv5_2(x))\n",
    "        x = self.maxp5(x)\n",
    "        x = F.relu(self.conv6_1(x))\n",
    "        x = F.relu(self.conv6_2(x))\n",
    "        x = self.maxp6(x)\n",
    "        x = F.relu(self.conv7_1(x))\n",
    "        x = F.relu(self.conv7_2(x))\n",
    "        x = self.maxp7(x)\n",
    "        # flatten\n",
    "        x = x.view(-1, 4*4*64)\n",
    "        feature = F.relu(self.dense1(x))\n",
    "        x = self.dropout1(feature)\n",
    "        x = F.relu(self.dense2(x))\n",
    "        x = self.dropout2(x)\n",
    "        x = self.dense3(x)\n",
    "        x = F.softmax(x, dim = -1)\n",
    "        return x"
   ]
  },
  {
   "cell_type": "markdown",
   "metadata": {},
   "source": [
    "모델명 prefix로 모델 찾기"
   ]
  },
  {
   "cell_type": "code",
   "execution_count": 7,
   "metadata": {
    "ExecuteTime": {
     "end_time": "2021-01-25T21:50:47.590778Z",
     "start_time": "2021-01-25T21:50:47.584807Z"
    }
   },
   "outputs": [
    {
     "data": {
      "text/plain": [
       "['np-hd_---_--_0.0001_32_2101221757_042_t_accr_0.9350_t_loss_0.376242_v_accr_0.9366_v_loss_0.374310.pt']"
      ]
     },
     "execution_count": 7,
     "metadata": {},
     "output_type": "execute_result"
    }
   ],
   "source": [
    "model_dir = './model/'\n",
    "model_name = 'np-hd_---_--'\n",
    "\n",
    "def find_models(model_dir, model_name):\n",
    "    model_list = [i for i in sorted(os.listdir(model_dir)) if model_name in i]\n",
    "#     model_list = sorted(glob.glob('nh/model/{}*'.format(model_name)))\n",
    "    return model_list\n",
    "\n",
    "model_list = find_models(model_dir, model_name)\n",
    "model_list"
   ]
  },
  {
   "cell_type": "code",
   "execution_count": 8,
   "metadata": {
    "ExecuteTime": {
     "end_time": "2021-01-25T21:50:51.561246Z",
     "start_time": "2021-01-25T21:50:47.593584Z"
    }
   },
   "outputs": [
    {
     "data": {
      "text/plain": [
       "CNN_v1(\n",
       "  (conv1_1): Conv2d(3, 16, kernel_size=(3, 3), stride=(1, 1), padding=(1, 1))\n",
       "  (conv1_2): Conv2d(16, 16, kernel_size=(3, 3), stride=(1, 1), padding=(1, 1))\n",
       "  (maxp1): MaxPool2d(kernel_size=2, stride=2, padding=0, dilation=1, ceil_mode=False)\n",
       "  (conv2_1): Conv2d(16, 16, kernel_size=(3, 3), stride=(1, 1), padding=(1, 1))\n",
       "  (conv2_2): Conv2d(16, 16, kernel_size=(3, 3), stride=(1, 1), padding=(1, 1))\n",
       "  (maxp2): MaxPool2d(kernel_size=2, stride=2, padding=0, dilation=1, ceil_mode=False)\n",
       "  (conv3_1): Conv2d(16, 16, kernel_size=(3, 3), stride=(1, 1), padding=(1, 1))\n",
       "  (conv3_2): Conv2d(16, 16, kernel_size=(3, 3), stride=(1, 1), padding=(1, 1))\n",
       "  (maxp3): MaxPool2d(kernel_size=2, stride=2, padding=0, dilation=1, ceil_mode=False)\n",
       "  (conv4_1): Conv2d(16, 32, kernel_size=(3, 3), stride=(1, 1), padding=(1, 1))\n",
       "  (conv4_2): Conv2d(32, 32, kernel_size=(3, 3), stride=(1, 1), padding=(1, 1))\n",
       "  (maxp4): MaxPool2d(kernel_size=2, stride=2, padding=0, dilation=1, ceil_mode=False)\n",
       "  (conv5_1): Conv2d(32, 32, kernel_size=(3, 3), stride=(1, 1), padding=(1, 1))\n",
       "  (conv5_2): Conv2d(32, 32, kernel_size=(3, 3), stride=(1, 1), padding=(1, 1))\n",
       "  (maxp5): MaxPool2d(kernel_size=2, stride=2, padding=0, dilation=1, ceil_mode=False)\n",
       "  (conv6_1): Conv2d(32, 32, kernel_size=(3, 3), stride=(1, 1), padding=(1, 1))\n",
       "  (conv6_2): Conv2d(32, 32, kernel_size=(3, 3), stride=(1, 1), padding=(1, 1))\n",
       "  (maxp6): MaxPool2d(kernel_size=2, stride=2, padding=0, dilation=1, ceil_mode=False)\n",
       "  (conv7_1): Conv2d(32, 64, kernel_size=(3, 3), stride=(1, 1), padding=(1, 1))\n",
       "  (conv7_2): Conv2d(64, 64, kernel_size=(3, 3), stride=(1, 1), padding=(1, 1))\n",
       "  (maxp7): MaxPool2d(kernel_size=2, stride=2, padding=0, dilation=1, ceil_mode=False)\n",
       "  (dense1): Linear(in_features=1024, out_features=100, bias=True)\n",
       "  (dropout1): Dropout(p=0.3, inplace=False)\n",
       "  (dense2): Linear(in_features=100, out_features=50, bias=True)\n",
       "  (dropout2): Dropout(p=0.3, inplace=False)\n",
       "  (dense3): Linear(in_features=50, out_features=2, bias=True)\n",
       ")"
      ]
     },
     "execution_count": 8,
     "metadata": {},
     "output_type": "execute_result"
    }
   ],
   "source": [
    "n_ch = 3\n",
    "n_cls = 2\n",
    "\n",
    "network = CNN_v1(n_ch, n_cls)\n",
    "        \n",
    "model = network\n",
    "model = model.to(device)\n",
    "\n",
    "model_file = model_list[-1]\n",
    "\n",
    "model.load_state_dict(torch.load(model_dir + model_file, map_location=lambda storage, loc: storage.cuda(gpu_idx)))\n",
    "model.eval()"
   ]
  },
  {
   "cell_type": "markdown",
   "metadata": {},
   "source": [
    "# 3. Model Inference"
   ]
  },
  {
   "cell_type": "code",
   "execution_count": 9,
   "metadata": {
    "ExecuteTime": {
     "end_time": "2021-01-25T21:50:51.579789Z",
     "start_time": "2021-01-25T21:50:51.564055Z"
    }
   },
   "outputs": [],
   "source": [
    "def batch_idxs(dataset, batch_size = 32, shuffle = False):\n",
    "\n",
    "    idxs = np.arange(len(dataset))\n",
    "    total_size = len(idxs)\n",
    "    if shuffle:\n",
    "        np.random.shuffle(idxs)\n",
    "    start = 0\n",
    "    b_idxs = []\n",
    "    while True:\n",
    "        if total_size > start + batch_size: \n",
    "            b_idxs.append(list(idxs[start:start+batch_size]))  \n",
    "            start += batch_size\n",
    "        elif total_size <= start + batch_size: \n",
    "            b_idxs.append(list(idxs[start:]))\n",
    "            break \n",
    "    return b_idxs\n",
    "\n",
    "def progress_bar(iteration, total, prefix = '', suffix = '', decimals = 1, barLength = 100):\n",
    "    formatStr = \"{0:.\" + str(decimals) + \"f}\"\n",
    "    percent = formatStr.format(100 * (iteration / float(total)))\n",
    "    filledLength = int(round(barLength * iteration / float(total)))\n",
    "    bar = '#' * filledLength + '-' * (barLength - filledLength)\n",
    "    sys.stdout.write('\\r{} |{} | {}{} {}'.format(prefix, bar, percent, '%', suffix)),\n",
    "    if iteration == total:\n",
    "        sys.stdout.write('\\n')\n",
    "    sys.stdout.flush()\n",
    "    \n",
    "def sec_to_m_s_ms(sec):\n",
    "    \"\"\"\n",
    "    sec: time.time() - start_time\n",
    "    output: ex) 00:47.421\n",
    "    \"\"\"\n",
    "    min_sec = time.strftime(\"%M:%S\", time.gmtime(sec))\n",
    "    ms = '{:03d}'.format(int((sec - int(sec))*1000))   \n",
    "    return '.'.join([min_sec, ms])\n",
    "    \n",
    "def prediction(x):\n",
    "    prob = model(torch.tensor(x, device=device).float())\n",
    "    _, pred = torch.max(prob, 1)\n",
    "\n",
    "    return prob.cpu().detach().numpy(), pred.tolist()"
   ]
  },
  {
   "cell_type": "code",
   "execution_count": 10,
   "metadata": {
    "ExecuteTime": {
     "end_time": "2021-01-25T21:50:54.994295Z",
     "start_time": "2021-01-25T21:50:51.582135Z"
    }
   },
   "outputs": [
    {
     "name": "stdout",
     "output_type": "stream",
     "text": [
      "2367: 119(*20) |################################################## | 100.0% prediction\n"
     ]
    }
   ],
   "source": [
    "batch_size = 20\n",
    "x = test_X\n",
    "\n",
    "start_time = time.time()\n",
    "batches = batch_idxs(x, batch_size = batch_size)\n",
    "score, pred = [], []\n",
    "for i, batch in enumerate(batches):   \n",
    "    s, p = prediction(x[batch, :, :, :])\n",
    "    score.append(s), pred.append(p)\n",
    "    progress_bar(i+1, len(batches), prefix = '{}: {}(*{})'.format(len(x), len(batches), batch_size), \n",
    "                  suffix = 'prediction', barLength = 50)\n",
    "score, pred = np.concatenate(score), np.concatenate(pred)\n",
    "\n",
    "pred_time = time.time() - start_time\n",
    "pred_time = sec_to_m_s_ms(pred_time)"
   ]
  },
  {
   "cell_type": "code",
   "execution_count": 11,
   "metadata": {
    "ExecuteTime": {
     "end_time": "2021-01-25T21:50:54.999842Z",
     "start_time": "2021-01-25T21:50:54.996377Z"
    }
   },
   "outputs": [
    {
     "data": {
      "text/plain": [
       "'00:03.406'"
      ]
     },
     "execution_count": 11,
     "metadata": {},
     "output_type": "execute_result"
    }
   ],
   "source": [
    "pred_time"
   ]
  },
  {
   "cell_type": "code",
   "execution_count": 12,
   "metadata": {
    "ExecuteTime": {
     "end_time": "2021-01-25T21:50:55.005143Z",
     "start_time": "2021-01-25T21:50:55.001220Z"
    }
   },
   "outputs": [
    {
     "data": {
      "text/plain": [
       "array([[1.3637460e-03, 9.9863619e-01],\n",
       "       [9.8573816e-01, 1.4261808e-02],\n",
       "       [9.9999988e-01, 8.8035016e-08],\n",
       "       ...,\n",
       "       [2.5357142e-26, 1.0000000e+00],\n",
       "       [6.1062559e-13, 1.0000000e+00],\n",
       "       [9.7706392e-13, 1.0000000e+00]], dtype=float32)"
      ]
     },
     "execution_count": 12,
     "metadata": {},
     "output_type": "execute_result"
    }
   ],
   "source": [
    "score"
   ]
  },
  {
   "cell_type": "code",
   "execution_count": 13,
   "metadata": {
    "ExecuteTime": {
     "end_time": "2021-01-25T21:50:55.009947Z",
     "start_time": "2021-01-25T21:50:55.006559Z"
    }
   },
   "outputs": [
    {
     "data": {
      "text/plain": [
       "array([1, 0, 0, ..., 1, 1, 1])"
      ]
     },
     "execution_count": 13,
     "metadata": {},
     "output_type": "execute_result"
    }
   ],
   "source": [
    "pred"
   ]
  },
  {
   "cell_type": "markdown",
   "metadata": {},
   "source": [
    "# 4. Evaluation"
   ]
  },
  {
   "cell_type": "markdown",
   "metadata": {},
   "source": [
    "## 4.1. Confusion Matrix\n",
    "\n",
    "하나의 모델의 성능을 한번에 파악하기 좋으나, 여러 모델을 비교할 때는 부적합하다고 생각함"
   ]
  },
  {
   "cell_type": "code",
   "execution_count": 14,
   "metadata": {
    "ExecuteTime": {
     "end_time": "2021-01-25T21:50:55.273200Z",
     "start_time": "2021-01-25T21:50:55.011526Z"
    }
   },
   "outputs": [],
   "source": [
    "from sklearn.metrics import confusion_matrix\n",
    "from itertools import product\n",
    "\n",
    "true = test_Y\n",
    "cm = confusion_matrix(true, pred)"
   ]
  },
  {
   "cell_type": "code",
   "execution_count": 15,
   "metadata": {
    "ExecuteTime": {
     "end_time": "2021-01-25T21:50:55.283094Z",
     "start_time": "2021-01-25T21:50:55.275706Z"
    }
   },
   "outputs": [],
   "source": [
    "class_name = ['Normal', 'Abnormal']\n",
    "x_angle = 0\n",
    "\n",
    "def plotCM(cm, value_size, mode):\n",
    "\n",
    "    plt.imshow(cm, interpolation = 'nearest', cmap = plt.cm.Blues)\n",
    "    thresh = cm.max()/2.\n",
    "    for i, j in product(range(cm.shape[0]), range(cm.shape[1])):\n",
    "        if mode == 'percent':\n",
    "            value = np.round(cm[i, j]/(np.sum(cm, 1)[i]), 3)\n",
    "        elif mode == 'num':\n",
    "            value = cm[i, j]\n",
    "        plt.text(j, i, value,\n",
    "                 fontsize = value_size,\n",
    "                 horizontalalignment = 'center',\n",
    "                 color = 'white' if cm[i, j] > thresh else 'black')\n",
    "    plt.ylabel('Actual', fontsize = 20)\n",
    "    plt.xlabel('Predicted', fontsize = 20)\n",
    "    plt.xticks([i for i in range(len(class_name))], class_name, rotation=x_angle, fontsize = 22)\n",
    "    plt.yticks([i for i in range(len(class_name))], class_name, rotation=0, fontsize = 22)"
   ]
  },
  {
   "cell_type": "code",
   "execution_count": 16,
   "metadata": {
    "ExecuteTime": {
     "end_time": "2021-01-25T21:50:56.164788Z",
     "start_time": "2021-01-25T21:50:55.284975Z"
    }
   },
   "outputs": [
    {
     "data": {
      "image/png": "[encoded data removed]",
      "text/plain": [
       "<Figure size 936x720 with 1 Axes>"
      ]
     },
     "metadata": {
      "needs_background": "light"
     },
     "output_type": "display_data"
    },
    {
     "data": {
      "image/png": "[encoded data removed]",
      "text/plain": [
       "<Figure size 936x720 with 1 Axes>"
      ]
     },
     "metadata": {
      "needs_background": "light"
     },
     "output_type": "display_data"
    }
   ],
   "source": [
    "save_path = './outputs/'\n",
    "save_name = model_name\n",
    "\n",
    "if save_path != None:\n",
    "    if not os.path.exists(save_path):\n",
    "        os.makedirs(save_path)\n",
    "    \n",
    "modes = ['num', 'percent']\n",
    "for i, m in zip(range(len(modes)), modes):\n",
    "    fig = plt.figure(figsize = (13, 10))\n",
    "    plotCM(cm, value_size = 25, mode = m)   \n",
    "    plt.show()\n",
    "    if save_path != None:\n",
    "        fig.savefig(save_path + '{}_CM_{}.png'.format(save_name, m), bbox_inches='tight')\n",
    "    plt.close(fig)"
   ]
  },
  {
   "cell_type": "markdown",
   "metadata": {},
   "source": [
    "위의 Confusion Matrix를 갯수로 읽을때, \n",
    "\n",
    "왼쪽상단부터 시계방향으로 True Negative, False Negative, True Positive, False Positive이다.\n",
    "\n",
    "- True Positive (TP): Positive로 예측했는데, 맞은 경우 (실제 Positive)\n",
    "- False Positive (FP): Positive로 예측했는데, 틀린 경우 (실제 Negative)\n",
    "\n"
   ]
  },
  {
   "cell_type": "markdown",
   "metadata": {
    "ExecuteTime": {
     "end_time": "2021-01-24T22:17:04.244745Z",
     "start_time": "2021-01-24T22:17:04.233894Z"
    }
   },
   "source": [
    "위의 Confusion Matrix를 Percent로 읽을때, \n",
    "\n",
    "왼쪽상단부터 시계방향으로 Specificity, 1-Specificity(false positive rate), Sensitivity, 1-Sensitivity(false negative rate) 이다.\n",
    "\n",
    "- Sensitivity: 실제 Positive 샘플 중에 맞춘 갯수의 비율\n",
    "- Specificity: 실제 Negative 샘플 중에 맞춘 갯수의 비율\n",
    "\n",
    "- Sensitivity = TP / TP + FN\n",
    "- Specificity = TN / TN + FP"
   ]
  },
  {
   "cell_type": "markdown",
   "metadata": {},
   "source": [
    "TP, FN, TN, FP들을 각각 보고 모델이 어떤 부분을 놓치고 있는 지 Error Analysis를 해야한다."
   ]
  },
  {
   "cell_type": "code",
   "execution_count": 17,
   "metadata": {
    "ExecuteTime": {
     "end_time": "2021-01-25T21:50:56.170943Z",
     "start_time": "2021-01-25T21:50:56.166762Z"
    }
   },
   "outputs": [],
   "source": [
    "def confusion_idx(true, pred):\n",
    "    fn_idx = np.where(true - pred == 1)[0]\n",
    "    tp_idx = np.setxor1d(np.where(true == 1), fn_idx)\n",
    "    fp_idx = np.where(true - pred == -1)[0]\n",
    "    tn_idx = np.setxor1d(np.where(true == 0), fp_idx)\n",
    "    return tp_idx, fn_idx, tn_idx, fp_idx"
   ]
  },
  {
   "cell_type": "code",
   "execution_count": 18,
   "metadata": {
    "ExecuteTime": {
     "end_time": "2021-01-25T21:50:56.180212Z",
     "start_time": "2021-01-25T21:50:56.172843Z"
    }
   },
   "outputs": [
    {
     "data": {
      "text/plain": [
       "(array([1007, 1008, 1009, ..., 2364, 2365, 2366]),\n",
       " array([1005, 1006, 1012, 1013, 1014, 1015, 1016, 1022, 1023, 1024, 1029,\n",
       "        1030, 1031, 1033, 1034, 1035, 1036, 1037, 1038, 1039, 1040, 1043,\n",
       "        1044, 1053, 1063, 1066, 1067, 1069, 1077, 1079, 1080, 1082, 1083,\n",
       "        1084, 1085, 1089, 1090, 1091, 1092, 1094, 1123, 1141, 1142, 1143,\n",
       "        1150, 1151, 1175, 1176, 1197, 1209, 1210, 1211, 1212, 1215, 1216,\n",
       "        1217, 1218, 1221, 1233, 1251, 1258, 1265, 1271, 1272, 1275, 1292,\n",
       "        1293, 1296, 1309, 1312, 1320, 1333, 1334, 1335, 1336, 1338, 1341,\n",
       "        1342, 1346, 1347, 1351, 1356, 1357, 1359, 1361, 1364, 1365, 1367,\n",
       "        1368, 1369, 1373, 1376, 1378, 1383, 1384, 1387, 1410, 1422, 1430,\n",
       "        1458, 1459, 1461, 1465, 1466, 1477, 1478, 1480, 1495, 1534, 1548,\n",
       "        1549, 1553, 1554, 1555, 1570, 1571, 1576, 1588, 1589, 1595, 1596,\n",
       "        1672, 1680, 1681, 1684, 1763, 1764, 1765, 1768, 1769, 1771, 1773,\n",
       "        1774, 1775, 1789, 1790, 1791, 1792, 1793, 1795, 1797, 1802, 1807,\n",
       "        1812, 1820, 1830, 1831, 1832, 1835, 1838, 1841, 1843, 1845, 1846,\n",
       "        1847, 1848, 1849, 1850, 1851, 1865, 1866, 1868, 1877, 1878, 1879,\n",
       "        1880, 1881, 1884, 1886, 1887, 1888, 1890, 1892, 1893, 1894, 1895,\n",
       "        1896, 1897, 1898, 1899, 1900, 1901, 1902, 1903, 1906, 1919, 1928,\n",
       "        1967, 1996, 2009, 2012, 2013, 2014, 2020, 2026, 2027, 2028, 2030,\n",
       "        2038, 2040, 2045, 2047, 2048, 2049, 2050, 2055, 2056, 2057, 2070,\n",
       "        2071, 2072, 2073, 2074, 2075, 2076, 2077, 2078, 2079, 2080, 2081,\n",
       "        2084, 2108, 2122, 2175, 2176, 2231, 2232, 2233, 2240, 2241, 2242,\n",
       "        2257, 2276, 2281, 2282, 2283, 2284, 2285, 2291, 2292, 2295, 2296,\n",
       "        2297, 2299, 2300, 2301, 2302, 2313]),\n",
       " array([   1,    2,    3,    4,    5,    6,    7,    8,    9,   10,   11,\n",
       "          12,   13,   14,   15,   16,   17,   18,   20,   22,   23,   24,\n",
       "          25,   26,   27,   28,   29,   30,   32,   33,   34,   35,   37,\n",
       "          41,   42,   43,   44,   45,   46,   47,   48,   49,   50,   51,\n",
       "          52,   53,   54,   56,   57,   58,   59,   60,   61,   62,   65,\n",
       "          67,   68,   69,   70,   71,   72,   73,   74,   75,   76,   78,\n",
       "          79,   80,   81,   82,   83,   84,   85,   86,   87,   88,   89,\n",
       "          90,   92,   93,   94,   96,   98,   99,  100,  103,  107,  108,\n",
       "         109,  110,  111,  114,  115,  116,  117,  118,  119,  120,  121,\n",
       "         122,  123,  124,  125,  126,  127,  128,  129,  130,  131,  133,\n",
       "         134,  138,  139,  140,  141,  142,  143,  145,  146,  147,  148,\n",
       "         149,  150,  151,  152,  153,  154,  155,  156,  157,  158,  159,\n",
       "         160,  161,  162,  163,  164,  165,  166,  167,  168,  169,  170,\n",
       "         171,  172,  173,  174,  175,  176,  178,  179,  180,  181,  182,\n",
       "         183,  184,  185,  186,  187,  188,  189,  190,  191,  192,  193,\n",
       "         194,  195,  196,  197,  198,  200,  201,  202,  203,  204,  205,\n",
       "         206,  207,  208,  209,  210,  211,  213,  214,  215,  216,  217,\n",
       "         218,  219,  220,  221,  222,  223,  224,  225,  226,  227,  228,\n",
       "         230,  231,  232,  233,  236,  238,  240,  241,  242,  244,  246,\n",
       "         247,  248,  249,  250,  251,  252,  253,  254,  255,  256,  257,\n",
       "         259,  260,  261,  262,  264,  265,  267,  268,  269,  270,  273,\n",
       "         274,  275,  276,  277,  278,  279,  280,  281,  282,  283,  284,\n",
       "         285,  286,  287,  289,  290,  291,  292,  293,  294,  295,  297,\n",
       "         298,  299,  300,  301,  302,  303,  304,  305,  306,  307,  308,\n",
       "         309,  310,  312,  313,  314,  316,  318,  319,  320,  321,  322,\n",
       "         323,  324,  325,  326,  327,  328,  329,  331,  332,  333,  334,\n",
       "         335,  336,  337,  338,  339,  340,  341,  342,  343,  344,  345,\n",
       "         347,  348,  349,  350,  351,  352,  353,  354,  355,  356,  357,\n",
       "         358,  359,  360,  361,  362,  363,  364,  365,  367,  368,  369,\n",
       "         370,  371,  372,  373,  374,  375,  376,  377,  378,  379,  380,\n",
       "         381,  382,  383,  384,  385,  386,  390,  391,  392,  393,  394,\n",
       "         395,  396,  397,  398,  399,  400,  401,  402,  404,  405,  406,\n",
       "         407,  408,  409,  410,  411,  412,  413,  414,  415,  416,  417,\n",
       "         418,  419,  420,  421,  422,  423,  424,  425,  426,  427,  428,\n",
       "         429,  430,  431,  432,  433,  434,  435,  436,  438,  439,  440,\n",
       "         441,  442,  443,  445,  446,  447,  448,  450,  451,  452,  453,\n",
       "         454,  455,  457,  458,  459,  460,  462,  463,  464,  465,  466,\n",
       "         467,  468,  469,  470,  471,  472,  473,  474,  475,  476,  477,\n",
       "         478,  479,  480,  481,  482,  483,  484,  485,  486,  487,  488,\n",
       "         489,  490,  491,  492,  493,  494,  495,  496,  499,  500,  501,\n",
       "         502,  504,  505,  506,  507,  508,  509,  510,  511,  512,  513,\n",
       "         514,  515,  516,  517,  518,  519,  520,  521,  522,  523,  524,\n",
       "         525,  526,  527,  528,  529,  530,  531,  532,  533,  534,  535,\n",
       "         536,  537,  539,  540,  541,  542,  543,  544,  545,  546,  547,\n",
       "         548,  549,  550,  551,  552,  553,  554,  555,  556,  557,  558,\n",
       "         560,  561,  562,  563,  564,  565,  566,  567,  570,  571,  572,\n",
       "         573,  574,  575,  576,  577,  578,  579,  580,  581,  582,  583,\n",
       "         584,  585,  587,  588,  590,  591,  592,  593,  594,  595,  596,\n",
       "         597,  598,  599,  600,  601,  602,  603,  604,  605,  606,  607,\n",
       "         608,  609,  610,  611,  612,  613,  614,  615,  616,  617,  618,\n",
       "         619,  620,  621,  622,  623,  624,  625,  626,  627,  629,  632,\n",
       "         633,  634,  636,  637,  638,  639,  642,  644,  645,  646,  647,\n",
       "         648,  649,  650,  651,  652,  653,  654,  655,  656,  657,  658,\n",
       "         659,  660,  661,  662,  663,  664,  665,  666,  667,  668,  674,\n",
       "         675,  676,  677,  678,  679,  680,  681,  682,  683,  684,  685,\n",
       "         686,  687,  688,  689,  690,  691,  693,  695,  696,  697,  698,\n",
       "         699,  700,  702,  703,  704,  705,  706,  707,  708,  709,  710,\n",
       "         711,  712,  713,  714,  715,  716,  717,  718,  719,  720,  721,\n",
       "         722,  723,  724,  725,  726,  727,  728,  729,  730,  731,  734,\n",
       "         735,  736,  737,  738,  739,  740,  741,  742,  743,  744,  745,\n",
       "         746,  747,  748,  749,  750,  751,  752,  753,  754,  755,  756,\n",
       "         757,  758,  759,  760,  761,  762,  763,  764,  765,  766,  767,\n",
       "         768,  769,  770,  771,  772,  773,  774,  775,  776,  777,  778,\n",
       "         779,  780,  781,  782,  783,  784,  785,  786,  787,  788,  789,\n",
       "         790,  792,  794,  795,  796,  797,  798,  799,  800,  801,  802,\n",
       "         804,  806,  807,  808,  809,  810,  811,  812,  813,  814,  815,\n",
       "         816,  817,  818,  819,  820,  821,  822,  823,  825,  826,  827,\n",
       "         828,  829,  830,  831,  832,  833,  834,  835,  836,  837,  839,\n",
       "         840,  841,  842,  843,  844,  845,  846,  847,  848,  849,  850,\n",
       "         851,  852,  853,  854,  855,  856,  857,  858,  859,  860,  861,\n",
       "         862,  863,  864,  865,  866,  867,  868,  872,  873,  874,  875,\n",
       "         876,  877,  878,  879,  880,  881,  882,  883,  885,  886,  887,\n",
       "         888,  889,  890,  891,  892,  893,  894,  895,  896,  897,  898,\n",
       "         899,  900,  902,  903,  904,  905,  906,  907,  908,  909,  910,\n",
       "         911,  912,  913,  914,  915,  916,  917,  918,  919,  920,  921,\n",
       "         922,  923,  924,  925,  926,  927,  929,  930,  931,  932,  933,\n",
       "         935,  936,  937,  938,  940,  941,  943,  944,  945,  946,  947,\n",
       "         948,  950,  952,  953,  954,  955,  956,  957,  958,  959,  960,\n",
       "         961,  962,  969,  970,  971,  972,  973,  974,  975,  976,  977,\n",
       "         979,  980,  981,  982,  983,  984,  985,  986,  987,  988,  989,\n",
       "         990,  991,  992,  993,  994,  995,  996,  997,  998,  999, 1000,\n",
       "        1001, 1002, 1003, 1004]),\n",
       " array([  0,  19,  21,  31,  36,  38,  39,  40,  55,  63,  64,  66,  77,\n",
       "         91,  95,  97, 101, 102, 104, 105, 106, 112, 113, 132, 135, 136,\n",
       "        137, 144, 177, 199, 212, 229, 234, 235, 237, 239, 243, 245, 258,\n",
       "        263, 266, 271, 272, 288, 296, 311, 315, 317, 330, 346, 366, 387,\n",
       "        388, 389, 403, 437, 444, 449, 456, 461, 497, 498, 503, 538, 559,\n",
       "        568, 569, 586, 589, 628, 630, 631, 635, 640, 641, 643, 669, 670,\n",
       "        671, 672, 673, 692, 694, 701, 732, 733, 791, 793, 803, 805, 824,\n",
       "        838, 869, 870, 871, 884, 901, 928, 934, 939, 942, 949, 951, 963,\n",
       "        964, 965, 966, 967, 968, 978]))"
      ]
     },
     "execution_count": 18,
     "metadata": {},
     "output_type": "execute_result"
    }
   ],
   "source": [
    "confusion_idx(true, pred)"
   ]
  },
  {
   "cell_type": "markdown",
   "metadata": {},
   "source": [
    "## 4.2. Accuracy, Sensitivity, Specificity, NPV, PPV"
   ]
  },
  {
   "cell_type": "markdown",
   "metadata": {},
   "source": [
    "의료 분야에서 분류 문제에서 Confusion Matrix와 더불어 사용되는 metric들이고, <br>\n",
    "참고로, Sensitivity는 Recall이고, PPV는 Precision임"
   ]
  },
  {
   "cell_type": "code",
   "execution_count": 19,
   "metadata": {
    "ExecuteTime": {
     "end_time": "2021-01-25T21:50:56.190351Z",
     "start_time": "2021-01-25T21:50:56.181793Z"
    }
   },
   "outputs": [],
   "source": [
    "def cm2metric(cm):\n",
    "\n",
    "#         assert 0 not in np.sum(cm, axis = 0),'Totally misclassified class exists'\n",
    "\n",
    "    if 0 in np.sum(cm, axis = 0):\n",
    "        print('Totally misclassified class exists')\n",
    "\n",
    "    if len(cm) == 2:\n",
    "\n",
    "        acc = round(100*np.trace(cm) / np.sum(cm), 2)\n",
    "        sen = round(100*cm[1, 1] / np.sum(cm[1, :]), 2)\n",
    "        spe = round(100*cm[0, 0] / np.sum(cm[0, :]), 2)\n",
    "\n",
    "        if not (np.sum(cm[:, 0]) == 0 and np.sum(cm[:, 1]) == 0):\n",
    "            npv = round(100*cm[0, 0] / np.sum(cm[:, 0]), 2)\n",
    "            ppv = round(100*cm[1, 1] / np.sum(cm[:, 1]), 2)\n",
    "\n",
    "        elif np.sum(cm[:, 0]) == 0:\n",
    "            npv = 0\n",
    "            ppv = round(100*cm[1, 1] / np.sum(cm[:, 1]), 2)\n",
    "        elif np.sum(cm[:, 1]) == 0:\n",
    "            npv = round(100*cm[0, 0] / np.sum(cm[:, 0]), 2)\n",
    "            ppv = 0\n",
    "\n",
    "        return [acc, sen, spe, npv, ppv]"
   ]
  },
  {
   "cell_type": "code",
   "execution_count": 20,
   "metadata": {
    "ExecuteTime": {
     "end_time": "2021-01-25T21:50:56.196614Z",
     "start_time": "2021-01-25T21:50:56.192043Z"
    }
   },
   "outputs": [
    {
     "data": {
      "text/plain": [
       "[84.88, 81.79, 89.05, 78.3, 91.01]"
      ]
     },
     "execution_count": 20,
     "metadata": {},
     "output_type": "execute_result"
    }
   ],
   "source": [
    "cm2metric(cm)"
   ]
  },
  {
   "cell_type": "code",
   "execution_count": 21,
   "metadata": {
    "ExecuteTime": {
     "end_time": "2021-01-25T21:50:56.201580Z",
     "start_time": "2021-01-25T21:50:56.198168Z"
    }
   },
   "outputs": [
    {
     "data": {
      "text/plain": [
       "'np-hd_---_--'"
      ]
     },
     "execution_count": 21,
     "metadata": {},
     "output_type": "execute_result"
    }
   ],
   "source": [
    "model_name"
   ]
  },
  {
   "cell_type": "markdown",
   "metadata": {
    "ExecuteTime": {
     "end_time": "2021-01-24T21:29:05.638632Z",
     "start_time": "2021-01-24T21:29:05.054212Z"
    }
   },
   "source": [
    "사실 여러 모델들을 비교할 수 있어야하니, DataFrame형태로 정리해주면 csv로 저장하면 편하다"
   ]
  },
  {
   "cell_type": "code",
   "execution_count": 22,
   "metadata": {
    "ExecuteTime": {
     "end_time": "2021-01-25T21:50:56.224450Z",
     "start_time": "2021-01-25T21:50:56.205130Z"
    }
   },
   "outputs": [
    {
     "data": {
      "text/html": [
       "<div>\n",
       "<style scoped>\n",
       "    .dataframe tbody tr th:only-of-type {\n",
       "        vertical-align: middle;\n",
       "    }\n",
       "\n",
       "    .dataframe tbody tr th {\n",
       "        vertical-align: top;\n",
       "    }\n",
       "\n",
       "    .dataframe thead th {\n",
       "        text-align: right;\n",
       "    }\n",
       "</style>\n",
       "<table border=\"1\" class=\"dataframe\">\n",
       "  <thead>\n",
       "    <tr style=\"text-align: right;\">\n",
       "      <th></th>\n",
       "      <th>ACC</th>\n",
       "      <th>SEN</th>\n",
       "      <th>SPE</th>\n",
       "      <th>NPV</th>\n",
       "      <th>PPV</th>\n",
       "    </tr>\n",
       "  </thead>\n",
       "  <tbody>\n",
       "    <tr>\n",
       "      <th>np-hd_---_--</th>\n",
       "      <td>84.88</td>\n",
       "      <td>81.79</td>\n",
       "      <td>89.05</td>\n",
       "      <td>78.3</td>\n",
       "      <td>91.01</td>\n",
       "    </tr>\n",
       "  </tbody>\n",
       "</table>\n",
       "</div>"
      ],
      "text/plain": [
       "                ACC    SEN    SPE   NPV    PPV\n",
       "np-hd_---_--  84.88  81.79  89.05  78.3  91.01"
      ]
     },
     "execution_count": 22,
     "metadata": {},
     "output_type": "execute_result"
    }
   ],
   "source": [
    "df = pd.DataFrame(columns = ['ACC', 'SEN', 'SPE', 'NPV', 'PPV'])\n",
    "df.loc[model_name] = cm2metric(cm)\n",
    "   \n",
    "df"
   ]
  },
  {
   "cell_type": "code",
   "execution_count": 23,
   "metadata": {
    "ExecuteTime": {
     "end_time": "2021-01-25T21:50:56.231358Z",
     "start_time": "2021-01-25T21:50:56.226324Z"
    }
   },
   "outputs": [],
   "source": [
    "df.to_csv(save_path + '{}_performance.csv'.format(model_name), encoding='utf-8-sig', index = True)  "
   ]
  },
  {
   "cell_type": "markdown",
   "metadata": {},
   "source": [
    "## 4.3. Accuracy by type"
   ]
  },
  {
   "cell_type": "markdown",
   "metadata": {},
   "source": [
    "binary classifier이어도 type별로 accuracy가 어떻게 되는지 평가하는 것은 유의미함"
   ]
  },
  {
   "cell_type": "code",
   "execution_count": 24,
   "metadata": {
    "ExecuteTime": {
     "end_time": "2021-01-25T21:50:56.244054Z",
     "start_time": "2021-01-25T21:50:56.233031Z"
    }
   },
   "outputs": [],
   "source": [
    "def compute_accr(y, pred, print_show = True):\n",
    "    num_correct = np.sum(y == pred)\n",
    "    accr = round(100 * num_correct / len(y), 2)\n",
    "    if print_show == True:\n",
    "        print(\"Accuracy: {:.2f} % ({} / {})\\n\".format(accr, num_correct, len(y)))\n",
    "    return accr\n",
    "\n",
    "def inference(x, batch_size):\n",
    "    batches = batch_idxs(x, batch_size = batch_size)\n",
    "    score, pred = [], []\n",
    "    for i, batch in enumerate(batches):   \n",
    "        s, p = prediction(x[batch, :, :, :])\n",
    "        score.append(s), pred.append(p)\n",
    "        progress_bar(i+1, len(batches), prefix = '{}: {}(*{})'.format(len(x), len(batches), batch_size), \n",
    "                      suffix = 'prediction', barLength = 50)\n",
    "    score, pred = np.concatenate(score), np.concatenate(pred)   \n",
    "    return score, pred\n",
    "    \n",
    "def get_accuracy(x, y, batch_size = 20):\n",
    "    _, pred = inference(x, batch_size)\n",
    "    accr = compute_accr(y, pred, print_show = True)\n",
    "    return accr\n",
    "\n",
    "def get_accuracy_by_type(filename, X, Y):\n",
    "   \n",
    "    label_dir = '/mnt/disk2/data/private_data/SMhospital/capsule/1 preprocessed'\n",
    "    label = pd.read_csv(label_dir + '/label.csv', index_col = 0)\n",
    "    \n",
    "    types = []\n",
    "    accrs = []\n",
    "    for sub_cls in label.columns[:-1]:\n",
    "    \n",
    "        x, y = [], []\n",
    "        for name, img, cls in zip(filename, X, Y):\n",
    "            if label.loc[('').join(name.split('__c_-_-_-'))][sub_cls] == 1:\n",
    "                x.append(img)\n",
    "                y.append(cls)\n",
    "        \n",
    "        if len(x) != 0:\n",
    "            types.append(sub_cls)\n",
    "            x = np.concatenate([x])\n",
    "            y = np.asarray(y)\n",
    "\n",
    "            accrs.append(get_accuracy(x, y)) \n",
    "    return types, accrs"
   ]
  },
  {
   "cell_type": "code",
   "execution_count": 25,
   "metadata": {
    "ExecuteTime": {
     "end_time": "2021-01-25T21:51:15.000406Z",
     "start_time": "2021-01-25T21:50:56.245908Z"
    }
   },
   "outputs": [
    {
     "name": "stdout",
     "output_type": "stream",
     "text": [
      "1005: 51(*20) |################################################## | 100.0% prediction\n",
      "Accuracy: 89.05 % (895 / 1005)\n",
      "\n",
      "1362: 69(*20) |################################################## | 100.0% prediction\n",
      "Accuracy: 81.79 % (1114 / 1362)\n",
      "\n",
      "663: 34(*20) |################################################## | 100.0% prediction\n",
      "Accuracy: 85.07 % (564 / 663)\n",
      "\n",
      "370: 19(*20) |################################################## | 100.0% prediction\n",
      "Accuracy: 75.95 % (281 / 370)\n",
      "\n",
      "2: 1(*20) |################################################## | 100.0% prediction\n",
      "Accuracy: 100.00 % (2 / 2)\n",
      "\n",
      "293: 15(*20) |################################################## | 100.0% prediction\n",
      "Accuracy: 96.59 % (283 / 293)\n",
      "\n",
      "733: 37(*20) |################################################## | 100.0% prediction\n",
      "Accuracy: 79.54 % (583 / 733)\n",
      "\n",
      "297: 15(*20) |################################################## | 100.0% prediction\n",
      "Accuracy: 80.47 % (239 / 297)\n",
      "\n",
      "410: 21(*20) |################################################## | 100.0% prediction\n",
      "Accuracy: 78.54 % (322 / 410)\n",
      "\n",
      "48: 3(*20) |################################################## | 100.0% prediction\n",
      "Accuracy: 70.83 % (34 / 48)\n",
      "\n",
      "3: 1(*20) |################################################## | 100.0% prediction\n",
      "Accuracy: 0.00 % (0 / 3)\n",
      "\n",
      "3: 1(*20) |################################################## | 100.0% prediction\n",
      "Accuracy: 0.00 % (0 / 3)\n",
      "\n"
     ]
    }
   ],
   "source": [
    "types, accrs = get_accuracy_by_type(test_name, test_X, test_Y)"
   ]
  },
  {
   "cell_type": "code",
   "execution_count": 26,
   "metadata": {
    "ExecuteTime": {
     "end_time": "2021-01-25T21:51:15.021713Z",
     "start_time": "2021-01-25T21:51:15.002744Z"
    }
   },
   "outputs": [
    {
     "data": {
      "text/html": [
       "<div>\n",
       "<style scoped>\n",
       "    .dataframe tbody tr th:only-of-type {\n",
       "        vertical-align: middle;\n",
       "    }\n",
       "\n",
       "    .dataframe tbody tr th {\n",
       "        vertical-align: top;\n",
       "    }\n",
       "\n",
       "    .dataframe thead th {\n",
       "        text-align: right;\n",
       "    }\n",
       "</style>\n",
       "<table border=\"1\" class=\"dataframe\">\n",
       "  <thead>\n",
       "    <tr style=\"text-align: right;\">\n",
       "      <th></th>\n",
       "      <th>negative</th>\n",
       "      <th>positive</th>\n",
       "      <th>hemorrhagic</th>\n",
       "      <th>red_spot</th>\n",
       "      <th>angioectasia</th>\n",
       "      <th>active_bleeding</th>\n",
       "      <th>depressed</th>\n",
       "      <th>erosion</th>\n",
       "      <th>ulcer</th>\n",
       "      <th>stricture</th>\n",
       "      <th>protruded</th>\n",
       "      <th>small_bowel_tumor</th>\n",
       "    </tr>\n",
       "  </thead>\n",
       "  <tbody>\n",
       "    <tr>\n",
       "      <th>np-hd_---_--</th>\n",
       "      <td>89.05</td>\n",
       "      <td>81.79</td>\n",
       "      <td>85.07</td>\n",
       "      <td>75.95</td>\n",
       "      <td>100.0</td>\n",
       "      <td>96.59</td>\n",
       "      <td>79.54</td>\n",
       "      <td>80.47</td>\n",
       "      <td>78.54</td>\n",
       "      <td>70.83</td>\n",
       "      <td>0.0</td>\n",
       "      <td>0.0</td>\n",
       "    </tr>\n",
       "  </tbody>\n",
       "</table>\n",
       "</div>"
      ],
      "text/plain": [
       "              negative  positive  hemorrhagic  red_spot  angioectasia  \\\n",
       "np-hd_---_--     89.05     81.79        85.07     75.95         100.0   \n",
       "\n",
       "              active_bleeding  depressed  erosion  ulcer  stricture  \\\n",
       "np-hd_---_--            96.59      79.54    80.47  78.54      70.83   \n",
       "\n",
       "              protruded  small_bowel_tumor  \n",
       "np-hd_---_--        0.0                0.0  "
      ]
     },
     "execution_count": 26,
     "metadata": {},
     "output_type": "execute_result"
    }
   ],
   "source": [
    "df = pd.DataFrame(columns = types)\n",
    "df.loc[model_name] = accrs\n",
    "   \n",
    "df"
   ]
  },
  {
   "cell_type": "code",
   "execution_count": 27,
   "metadata": {
    "ExecuteTime": {
     "end_time": "2021-01-25T21:51:15.027627Z",
     "start_time": "2021-01-25T21:51:15.023339Z"
    }
   },
   "outputs": [],
   "source": [
    "df.to_csv(save_path + '{}_performance_by_type.csv'.format(model_name), encoding='utf-8-sig', index = True)  "
   ]
  },
  {
   "cell_type": "markdown",
   "metadata": {},
   "source": [
    "## 4.4. ROC curve and AUC"
   ]
  },
  {
   "cell_type": "markdown",
   "metadata": {},
   "source": [
    "binary classifier들의 성능을 평가하는 metric으로 모델의 예측값을 통해 threshold에 따른 true positive rate(sensitivity)와 false positive rate(1-specificity)를 그린 커브이다. 곡선 아래있는 영역인 AUC (Area under curve) 값을 사용하며 optimal threshold를 찾기도한다."
   ]
  },
  {
   "cell_type": "code",
   "execution_count": 28,
   "metadata": {
    "ExecuteTime": {
     "end_time": "2021-01-25T21:51:15.263058Z",
     "start_time": "2021-01-25T21:51:15.029303Z"
    }
   },
   "outputs": [
    {
     "data": {
      "image/png": "[encoded data removed]",
      "text/plain": [
       "<Figure size 720x576 with 1 Axes>"
      ]
     },
     "metadata": {
      "needs_background": "light"
     },
     "output_type": "display_data"
    }
   ],
   "source": [
    "from sklearn.metrics import roc_curve, auc\n",
    "\n",
    "fpr, tpr, _ = roc_curve(test_Y, score[:, 1])\n",
    "roc_auc = auc(fpr, tpr)\n",
    "\n",
    "fig, ax = plt.subplots(1, 1, figsize= (10, 8))\n",
    "ax.plot(fpr, tpr, lw = 2, color = 'r', label='{} (AUC = {:.4f})'.format(model_name, roc_auc))\n",
    "\n",
    "ax.tick_params(axis=\"x\", labelsize=12)\n",
    "ax.tick_params(axis=\"y\", labelsize=12)\n",
    "ax.tick_params(labelsize = 15)\n",
    "ax.set_xlabel('False Positive Rate', fontsize = 20)\n",
    "ax.set_ylabel('True Positive Rate', fontsize = 20)\n",
    "\n",
    "ax.set_xlim([0, 1.0])\n",
    "ax.set_ylim([0.0, 1])\n",
    "\n",
    "ax.legend(fontsize = 17, borderpad = 0.4, edgecolor = 'k', loc=\"lower right\")\n",
    "\n",
    "ax.spines['top'].set_linewidth(1.5)\n",
    "ax.spines['right'].set_linewidth(1.5)\n",
    "ax.spines['bottom'].set_linewidth(1.5)\n",
    "ax.spines['left'].set_linewidth(1.5)\n",
    "ax.grid()\n",
    "\n",
    "plt.show()"
   ]
  },
  {
   "cell_type": "markdown",
   "metadata": {
    "ExecuteTime": {
     "end_time": "2021-01-24T22:28:49.231859Z",
     "start_time": "2021-01-24T22:28:49.219839Z"
    }
   },
   "source": [
    "사실, 의학 분야에서는 단순히 양성예측확률이 50%이 넘는다고 양성이라고 예측하는 것보단 통계적 분석과 더불어 여러 방법으로 optimal한 성능을 가진 threshold(cut-off)를 찾아 그 값에 따른 성능을 평가하는 것으로 보인다. \n",
    "\n",
    "여기선 gmean score를 계산해 optimal threshold를 찾는다."
   ]
  },
  {
   "cell_type": "code",
   "execution_count": 29,
   "metadata": {
    "ExecuteTime": {
     "end_time": "2021-01-25T21:51:15.763493Z",
     "start_time": "2021-01-25T21:51:15.264680Z"
    }
   },
   "outputs": [
    {
     "data": {
      "image/png": "[encoded data removed]",
      "text/plain": [
       "<Figure size 720x576 with 1 Axes>"
      ]
     },
     "metadata": {
      "needs_background": "light"
     },
     "output_type": "display_data"
    }
   ],
   "source": [
    "fpr, tpr, thresholds = roc_curve(test_Y, score[:, 1])\n",
    "roc_auc = auc(fpr, tpr)\n",
    "\n",
    "fig, ax = plt.subplots(1, 1, figsize= (10, 8))\n",
    "ax.plot(fpr, tpr, lw = 2, color = 'r', label='{} (AUC = {:.4f})'.format(model_name, roc_auc))\n",
    "\n",
    "ax.tick_params(axis=\"x\", labelsize=12)\n",
    "ax.tick_params(axis=\"y\", labelsize=12)\n",
    "ax.tick_params(labelsize = 15)\n",
    "ax.set_xlabel('False Positive Rate', fontsize = 20)\n",
    "ax.set_ylabel('True Positive Rate', fontsize = 20)\n",
    "\n",
    "ax.set_xlim([0, 1.0])\n",
    "ax.set_ylim([0.0, 1])\n",
    "\n",
    "gmean_score = np.sqrt(tpr * (1-fpr))\n",
    "idx = np.argmax(gmean_score)\n",
    "\n",
    "ax_xlim, ax_ylim = ax.get_xlim(), ax.get_ylim()\n",
    "\n",
    "width = ax_xlim[1] - ax_xlim[0]\n",
    "height = ax_ylim[1] - ax_ylim[0]\n",
    "\n",
    "ax.scatter(fpr[idx], tpr[idx], color = 'k')\n",
    "ax.axhline(tpr[idx], color = 'k', linestyle='dashed', linewidth=1, xmax=(fpr[idx]- ax_xlim[0])/width)\n",
    "ax.axvline(fpr[idx], color = 'k', linestyle='dashed', linewidth=1, ymax=(tpr[idx]- ax_ylim[0])/height)\n",
    "ax.text(fpr[idx] + 0.01, tpr[idx] - 0.02, '({:.2f}, {:.2f})'.format(100*tpr[idx], 100*(1-fpr[idx])), fontsize = 15)\n",
    "\n",
    "ax.legend(fontsize = 17, borderpad = 0.4, edgecolor = 'k', loc=\"lower right\")\n",
    "\n",
    "ax.spines['top'].set_linewidth(1.5)\n",
    "ax.spines['right'].set_linewidth(1.5)\n",
    "ax.spines['bottom'].set_linewidth(1.5)\n",
    "ax.spines['left'].set_linewidth(1.5)\n",
    "ax.grid()\n",
    "\n",
    "plt.show()\n",
    "\n",
    "fig.savefig(save_path + '{}_ROC_curve.png'.format(model_name), bbox_inches='tight')"
   ]
  },
  {
   "cell_type": "markdown",
   "metadata": {},
   "source": [
    "아래 threshold로 positive/negative를 예측하면 위와 같은 최적의 (optimal) 성능으로 평가할 수 있다는 말이다."
   ]
  },
  {
   "cell_type": "code",
   "execution_count": 30,
   "metadata": {
    "ExecuteTime": {
     "end_time": "2021-01-25T21:51:15.769127Z",
     "start_time": "2021-01-25T21:51:15.765252Z"
    }
   },
   "outputs": [
    {
     "data": {
      "text/plain": [
       "0.6573638"
      ]
     },
     "execution_count": 30,
     "metadata": {},
     "output_type": "execute_result"
    }
   ],
   "source": [
    "thresholds[idx]"
   ]
  }
 ],
 "metadata": {
  "hide_input": false,
  "kernelspec": {
   "display_name": "torch",
   "language": "python",
   "name": "torch"
  },
  "language_info": {
   "codemirror_mode": {
    "name": "ipython",
    "version": 3
   },
   "file_extension": ".py",
   "mimetype": "text/x-python",
   "name": "python",
   "nbconvert_exporter": "python",
   "pygments_lexer": "ipython3",
   "version": "3.5.2"
  },
  "toc": {
   "base_numbering": 1,
   "nav_menu": {},
   "number_sections": false,
   "sideBar": true,
   "skip_h1_title": false,
   "title_cell": "Table of Contents",
   "title_sidebar": "Contents",
   "toc_cell": false,
   "toc_position": {},
   "toc_section_display": true,
   "toc_window_display": false
  }
 },
 "nbformat": 4,
 "nbformat_minor": 2
}
